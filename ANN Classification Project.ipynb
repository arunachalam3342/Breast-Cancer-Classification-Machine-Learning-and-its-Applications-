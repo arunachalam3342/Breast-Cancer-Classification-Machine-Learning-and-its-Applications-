{
 "cells": [
  {
   "cell_type": "markdown",
   "metadata": {},
   "source": [
    "## Breast cancer Prediction using ANN"
   ]
  },
  {
   "cell_type": "code",
   "execution_count": 3,
   "metadata": {},
   "outputs": [],
   "source": [
    "import pandas as pd\n",
    "import numpy as np"
   ]
  },
  {
   "cell_type": "code",
   "execution_count": 4,
   "metadata": {},
   "outputs": [],
   "source": [
    "df = pd.read_csv('DATA/cancer_classification.csv')"
   ]
  },
  {
   "cell_type": "code",
   "execution_count": 5,
   "metadata": {},
   "outputs": [
    {
     "data": {
      "text/html": [
       "<div>\n",
       "<style scoped>\n",
       "    .dataframe tbody tr th:only-of-type {\n",
       "        vertical-align: middle;\n",
       "    }\n",
       "\n",
       "    .dataframe tbody tr th {\n",
       "        vertical-align: top;\n",
       "    }\n",
       "\n",
       "    .dataframe thead th {\n",
       "        text-align: right;\n",
       "    }\n",
       "</style>\n",
       "<table border=\"1\" class=\"dataframe\">\n",
       "  <thead>\n",
       "    <tr style=\"text-align: right;\">\n",
       "      <th></th>\n",
       "      <th>mean radius</th>\n",
       "      <th>mean texture</th>\n",
       "      <th>mean perimeter</th>\n",
       "      <th>mean area</th>\n",
       "      <th>mean smoothness</th>\n",
       "      <th>mean compactness</th>\n",
       "      <th>mean concavity</th>\n",
       "      <th>mean concave points</th>\n",
       "      <th>mean symmetry</th>\n",
       "      <th>mean fractal dimension</th>\n",
       "      <th>...</th>\n",
       "      <th>worst texture</th>\n",
       "      <th>worst perimeter</th>\n",
       "      <th>worst area</th>\n",
       "      <th>worst smoothness</th>\n",
       "      <th>worst compactness</th>\n",
       "      <th>worst concavity</th>\n",
       "      <th>worst concave points</th>\n",
       "      <th>worst symmetry</th>\n",
       "      <th>worst fractal dimension</th>\n",
       "      <th>benign_0__mal_1</th>\n",
       "    </tr>\n",
       "  </thead>\n",
       "  <tbody>\n",
       "    <tr>\n",
       "      <th>0</th>\n",
       "      <td>17.99</td>\n",
       "      <td>10.38</td>\n",
       "      <td>122.80</td>\n",
       "      <td>1001.0</td>\n",
       "      <td>0.11840</td>\n",
       "      <td>0.27760</td>\n",
       "      <td>0.3001</td>\n",
       "      <td>0.14710</td>\n",
       "      <td>0.2419</td>\n",
       "      <td>0.07871</td>\n",
       "      <td>...</td>\n",
       "      <td>17.33</td>\n",
       "      <td>184.60</td>\n",
       "      <td>2019.0</td>\n",
       "      <td>0.1622</td>\n",
       "      <td>0.6656</td>\n",
       "      <td>0.7119</td>\n",
       "      <td>0.2654</td>\n",
       "      <td>0.4601</td>\n",
       "      <td>0.11890</td>\n",
       "      <td>0</td>\n",
       "    </tr>\n",
       "    <tr>\n",
       "      <th>1</th>\n",
       "      <td>20.57</td>\n",
       "      <td>17.77</td>\n",
       "      <td>132.90</td>\n",
       "      <td>1326.0</td>\n",
       "      <td>0.08474</td>\n",
       "      <td>0.07864</td>\n",
       "      <td>0.0869</td>\n",
       "      <td>0.07017</td>\n",
       "      <td>0.1812</td>\n",
       "      <td>0.05667</td>\n",
       "      <td>...</td>\n",
       "      <td>23.41</td>\n",
       "      <td>158.80</td>\n",
       "      <td>1956.0</td>\n",
       "      <td>0.1238</td>\n",
       "      <td>0.1866</td>\n",
       "      <td>0.2416</td>\n",
       "      <td>0.1860</td>\n",
       "      <td>0.2750</td>\n",
       "      <td>0.08902</td>\n",
       "      <td>0</td>\n",
       "    </tr>\n",
       "    <tr>\n",
       "      <th>2</th>\n",
       "      <td>19.69</td>\n",
       "      <td>21.25</td>\n",
       "      <td>130.00</td>\n",
       "      <td>1203.0</td>\n",
       "      <td>0.10960</td>\n",
       "      <td>0.15990</td>\n",
       "      <td>0.1974</td>\n",
       "      <td>0.12790</td>\n",
       "      <td>0.2069</td>\n",
       "      <td>0.05999</td>\n",
       "      <td>...</td>\n",
       "      <td>25.53</td>\n",
       "      <td>152.50</td>\n",
       "      <td>1709.0</td>\n",
       "      <td>0.1444</td>\n",
       "      <td>0.4245</td>\n",
       "      <td>0.4504</td>\n",
       "      <td>0.2430</td>\n",
       "      <td>0.3613</td>\n",
       "      <td>0.08758</td>\n",
       "      <td>0</td>\n",
       "    </tr>\n",
       "    <tr>\n",
       "      <th>3</th>\n",
       "      <td>11.42</td>\n",
       "      <td>20.38</td>\n",
       "      <td>77.58</td>\n",
       "      <td>386.1</td>\n",
       "      <td>0.14250</td>\n",
       "      <td>0.28390</td>\n",
       "      <td>0.2414</td>\n",
       "      <td>0.10520</td>\n",
       "      <td>0.2597</td>\n",
       "      <td>0.09744</td>\n",
       "      <td>...</td>\n",
       "      <td>26.50</td>\n",
       "      <td>98.87</td>\n",
       "      <td>567.7</td>\n",
       "      <td>0.2098</td>\n",
       "      <td>0.8663</td>\n",
       "      <td>0.6869</td>\n",
       "      <td>0.2575</td>\n",
       "      <td>0.6638</td>\n",
       "      <td>0.17300</td>\n",
       "      <td>0</td>\n",
       "    </tr>\n",
       "    <tr>\n",
       "      <th>4</th>\n",
       "      <td>20.29</td>\n",
       "      <td>14.34</td>\n",
       "      <td>135.10</td>\n",
       "      <td>1297.0</td>\n",
       "      <td>0.10030</td>\n",
       "      <td>0.13280</td>\n",
       "      <td>0.1980</td>\n",
       "      <td>0.10430</td>\n",
       "      <td>0.1809</td>\n",
       "      <td>0.05883</td>\n",
       "      <td>...</td>\n",
       "      <td>16.67</td>\n",
       "      <td>152.20</td>\n",
       "      <td>1575.0</td>\n",
       "      <td>0.1374</td>\n",
       "      <td>0.2050</td>\n",
       "      <td>0.4000</td>\n",
       "      <td>0.1625</td>\n",
       "      <td>0.2364</td>\n",
       "      <td>0.07678</td>\n",
       "      <td>0</td>\n",
       "    </tr>\n",
       "  </tbody>\n",
       "</table>\n",
       "<p>5 rows × 31 columns</p>\n",
       "</div>"
      ],
      "text/plain": [
       "   mean radius  mean texture  mean perimeter  mean area  mean smoothness  \\\n",
       "0        17.99         10.38          122.80     1001.0          0.11840   \n",
       "1        20.57         17.77          132.90     1326.0          0.08474   \n",
       "2        19.69         21.25          130.00     1203.0          0.10960   \n",
       "3        11.42         20.38           77.58      386.1          0.14250   \n",
       "4        20.29         14.34          135.10     1297.0          0.10030   \n",
       "\n",
       "   mean compactness  mean concavity  mean concave points  mean symmetry  \\\n",
       "0           0.27760          0.3001              0.14710         0.2419   \n",
       "1           0.07864          0.0869              0.07017         0.1812   \n",
       "2           0.15990          0.1974              0.12790         0.2069   \n",
       "3           0.28390          0.2414              0.10520         0.2597   \n",
       "4           0.13280          0.1980              0.10430         0.1809   \n",
       "\n",
       "   mean fractal dimension  ...  worst texture  worst perimeter  worst area  \\\n",
       "0                 0.07871  ...          17.33           184.60      2019.0   \n",
       "1                 0.05667  ...          23.41           158.80      1956.0   \n",
       "2                 0.05999  ...          25.53           152.50      1709.0   \n",
       "3                 0.09744  ...          26.50            98.87       567.7   \n",
       "4                 0.05883  ...          16.67           152.20      1575.0   \n",
       "\n",
       "   worst smoothness  worst compactness  worst concavity  worst concave points  \\\n",
       "0            0.1622             0.6656           0.7119                0.2654   \n",
       "1            0.1238             0.1866           0.2416                0.1860   \n",
       "2            0.1444             0.4245           0.4504                0.2430   \n",
       "3            0.2098             0.8663           0.6869                0.2575   \n",
       "4            0.1374             0.2050           0.4000                0.1625   \n",
       "\n",
       "   worst symmetry  worst fractal dimension  benign_0__mal_1  \n",
       "0          0.4601                  0.11890                0  \n",
       "1          0.2750                  0.08902                0  \n",
       "2          0.3613                  0.08758                0  \n",
       "3          0.6638                  0.17300                0  \n",
       "4          0.2364                  0.07678                0  \n",
       "\n",
       "[5 rows x 31 columns]"
      ]
     },
     "execution_count": 5,
     "metadata": {},
     "output_type": "execute_result"
    }
   ],
   "source": [
    "df.head()"
   ]
  },
  {
   "cell_type": "code",
   "execution_count": 6,
   "metadata": {},
   "outputs": [
    {
     "name": "stdout",
     "output_type": "stream",
     "text": [
      "<class 'pandas.core.frame.DataFrame'>\n",
      "RangeIndex: 569 entries, 0 to 568\n",
      "Data columns (total 31 columns):\n",
      " #   Column                   Non-Null Count  Dtype  \n",
      "---  ------                   --------------  -----  \n",
      " 0   mean radius              569 non-null    float64\n",
      " 1   mean texture             569 non-null    float64\n",
      " 2   mean perimeter           569 non-null    float64\n",
      " 3   mean area                569 non-null    float64\n",
      " 4   mean smoothness          569 non-null    float64\n",
      " 5   mean compactness         569 non-null    float64\n",
      " 6   mean concavity           569 non-null    float64\n",
      " 7   mean concave points      569 non-null    float64\n",
      " 8   mean symmetry            569 non-null    float64\n",
      " 9   mean fractal dimension   569 non-null    float64\n",
      " 10  radius error             569 non-null    float64\n",
      " 11  texture error            569 non-null    float64\n",
      " 12  perimeter error          569 non-null    float64\n",
      " 13  area error               569 non-null    float64\n",
      " 14  smoothness error         569 non-null    float64\n",
      " 15  compactness error        569 non-null    float64\n",
      " 16  concavity error          569 non-null    float64\n",
      " 17  concave points error     569 non-null    float64\n",
      " 18  symmetry error           569 non-null    float64\n",
      " 19  fractal dimension error  569 non-null    float64\n",
      " 20  worst radius             569 non-null    float64\n",
      " 21  worst texture            569 non-null    float64\n",
      " 22  worst perimeter          569 non-null    float64\n",
      " 23  worst area               569 non-null    float64\n",
      " 24  worst smoothness         569 non-null    float64\n",
      " 25  worst compactness        569 non-null    float64\n",
      " 26  worst concavity          569 non-null    float64\n",
      " 27  worst concave points     569 non-null    float64\n",
      " 28  worst symmetry           569 non-null    float64\n",
      " 29  worst fractal dimension  569 non-null    float64\n",
      " 30  benign_0__mal_1          569 non-null    int64  \n",
      "dtypes: float64(30), int64(1)\n",
      "memory usage: 137.9 KB\n"
     ]
    }
   ],
   "source": [
    "df.info()"
   ]
  },
  {
   "cell_type": "code",
   "execution_count": 7,
   "metadata": {},
   "outputs": [
    {
     "data": {
      "text/html": [
       "<div>\n",
       "<style scoped>\n",
       "    .dataframe tbody tr th:only-of-type {\n",
       "        vertical-align: middle;\n",
       "    }\n",
       "\n",
       "    .dataframe tbody tr th {\n",
       "        vertical-align: top;\n",
       "    }\n",
       "\n",
       "    .dataframe thead th {\n",
       "        text-align: right;\n",
       "    }\n",
       "</style>\n",
       "<table border=\"1\" class=\"dataframe\">\n",
       "  <thead>\n",
       "    <tr style=\"text-align: right;\">\n",
       "      <th></th>\n",
       "      <th>count</th>\n",
       "      <th>mean</th>\n",
       "      <th>std</th>\n",
       "      <th>min</th>\n",
       "      <th>25%</th>\n",
       "      <th>50%</th>\n",
       "      <th>75%</th>\n",
       "      <th>max</th>\n",
       "    </tr>\n",
       "  </thead>\n",
       "  <tbody>\n",
       "    <tr>\n",
       "      <th>mean radius</th>\n",
       "      <td>569.0</td>\n",
       "      <td>14.127292</td>\n",
       "      <td>3.524049</td>\n",
       "      <td>6.981000</td>\n",
       "      <td>11.700000</td>\n",
       "      <td>13.370000</td>\n",
       "      <td>15.780000</td>\n",
       "      <td>28.11000</td>\n",
       "    </tr>\n",
       "    <tr>\n",
       "      <th>mean texture</th>\n",
       "      <td>569.0</td>\n",
       "      <td>19.289649</td>\n",
       "      <td>4.301036</td>\n",
       "      <td>9.710000</td>\n",
       "      <td>16.170000</td>\n",
       "      <td>18.840000</td>\n",
       "      <td>21.800000</td>\n",
       "      <td>39.28000</td>\n",
       "    </tr>\n",
       "    <tr>\n",
       "      <th>mean perimeter</th>\n",
       "      <td>569.0</td>\n",
       "      <td>91.969033</td>\n",
       "      <td>24.298981</td>\n",
       "      <td>43.790000</td>\n",
       "      <td>75.170000</td>\n",
       "      <td>86.240000</td>\n",
       "      <td>104.100000</td>\n",
       "      <td>188.50000</td>\n",
       "    </tr>\n",
       "    <tr>\n",
       "      <th>mean area</th>\n",
       "      <td>569.0</td>\n",
       "      <td>654.889104</td>\n",
       "      <td>351.914129</td>\n",
       "      <td>143.500000</td>\n",
       "      <td>420.300000</td>\n",
       "      <td>551.100000</td>\n",
       "      <td>782.700000</td>\n",
       "      <td>2501.00000</td>\n",
       "    </tr>\n",
       "    <tr>\n",
       "      <th>mean smoothness</th>\n",
       "      <td>569.0</td>\n",
       "      <td>0.096360</td>\n",
       "      <td>0.014064</td>\n",
       "      <td>0.052630</td>\n",
       "      <td>0.086370</td>\n",
       "      <td>0.095870</td>\n",
       "      <td>0.105300</td>\n",
       "      <td>0.16340</td>\n",
       "    </tr>\n",
       "    <tr>\n",
       "      <th>mean compactness</th>\n",
       "      <td>569.0</td>\n",
       "      <td>0.104341</td>\n",
       "      <td>0.052813</td>\n",
       "      <td>0.019380</td>\n",
       "      <td>0.064920</td>\n",
       "      <td>0.092630</td>\n",
       "      <td>0.130400</td>\n",
       "      <td>0.34540</td>\n",
       "    </tr>\n",
       "    <tr>\n",
       "      <th>mean concavity</th>\n",
       "      <td>569.0</td>\n",
       "      <td>0.088799</td>\n",
       "      <td>0.079720</td>\n",
       "      <td>0.000000</td>\n",
       "      <td>0.029560</td>\n",
       "      <td>0.061540</td>\n",
       "      <td>0.130700</td>\n",
       "      <td>0.42680</td>\n",
       "    </tr>\n",
       "    <tr>\n",
       "      <th>mean concave points</th>\n",
       "      <td>569.0</td>\n",
       "      <td>0.048919</td>\n",
       "      <td>0.038803</td>\n",
       "      <td>0.000000</td>\n",
       "      <td>0.020310</td>\n",
       "      <td>0.033500</td>\n",
       "      <td>0.074000</td>\n",
       "      <td>0.20120</td>\n",
       "    </tr>\n",
       "    <tr>\n",
       "      <th>mean symmetry</th>\n",
       "      <td>569.0</td>\n",
       "      <td>0.181162</td>\n",
       "      <td>0.027414</td>\n",
       "      <td>0.106000</td>\n",
       "      <td>0.161900</td>\n",
       "      <td>0.179200</td>\n",
       "      <td>0.195700</td>\n",
       "      <td>0.30400</td>\n",
       "    </tr>\n",
       "    <tr>\n",
       "      <th>mean fractal dimension</th>\n",
       "      <td>569.0</td>\n",
       "      <td>0.062798</td>\n",
       "      <td>0.007060</td>\n",
       "      <td>0.049960</td>\n",
       "      <td>0.057700</td>\n",
       "      <td>0.061540</td>\n",
       "      <td>0.066120</td>\n",
       "      <td>0.09744</td>\n",
       "    </tr>\n",
       "    <tr>\n",
       "      <th>radius error</th>\n",
       "      <td>569.0</td>\n",
       "      <td>0.405172</td>\n",
       "      <td>0.277313</td>\n",
       "      <td>0.111500</td>\n",
       "      <td>0.232400</td>\n",
       "      <td>0.324200</td>\n",
       "      <td>0.478900</td>\n",
       "      <td>2.87300</td>\n",
       "    </tr>\n",
       "    <tr>\n",
       "      <th>texture error</th>\n",
       "      <td>569.0</td>\n",
       "      <td>1.216853</td>\n",
       "      <td>0.551648</td>\n",
       "      <td>0.360200</td>\n",
       "      <td>0.833900</td>\n",
       "      <td>1.108000</td>\n",
       "      <td>1.474000</td>\n",
       "      <td>4.88500</td>\n",
       "    </tr>\n",
       "    <tr>\n",
       "      <th>perimeter error</th>\n",
       "      <td>569.0</td>\n",
       "      <td>2.866059</td>\n",
       "      <td>2.021855</td>\n",
       "      <td>0.757000</td>\n",
       "      <td>1.606000</td>\n",
       "      <td>2.287000</td>\n",
       "      <td>3.357000</td>\n",
       "      <td>21.98000</td>\n",
       "    </tr>\n",
       "    <tr>\n",
       "      <th>area error</th>\n",
       "      <td>569.0</td>\n",
       "      <td>40.337079</td>\n",
       "      <td>45.491006</td>\n",
       "      <td>6.802000</td>\n",
       "      <td>17.850000</td>\n",
       "      <td>24.530000</td>\n",
       "      <td>45.190000</td>\n",
       "      <td>542.20000</td>\n",
       "    </tr>\n",
       "    <tr>\n",
       "      <th>smoothness error</th>\n",
       "      <td>569.0</td>\n",
       "      <td>0.007041</td>\n",
       "      <td>0.003003</td>\n",
       "      <td>0.001713</td>\n",
       "      <td>0.005169</td>\n",
       "      <td>0.006380</td>\n",
       "      <td>0.008146</td>\n",
       "      <td>0.03113</td>\n",
       "    </tr>\n",
       "    <tr>\n",
       "      <th>compactness error</th>\n",
       "      <td>569.0</td>\n",
       "      <td>0.025478</td>\n",
       "      <td>0.017908</td>\n",
       "      <td>0.002252</td>\n",
       "      <td>0.013080</td>\n",
       "      <td>0.020450</td>\n",
       "      <td>0.032450</td>\n",
       "      <td>0.13540</td>\n",
       "    </tr>\n",
       "    <tr>\n",
       "      <th>concavity error</th>\n",
       "      <td>569.0</td>\n",
       "      <td>0.031894</td>\n",
       "      <td>0.030186</td>\n",
       "      <td>0.000000</td>\n",
       "      <td>0.015090</td>\n",
       "      <td>0.025890</td>\n",
       "      <td>0.042050</td>\n",
       "      <td>0.39600</td>\n",
       "    </tr>\n",
       "    <tr>\n",
       "      <th>concave points error</th>\n",
       "      <td>569.0</td>\n",
       "      <td>0.011796</td>\n",
       "      <td>0.006170</td>\n",
       "      <td>0.000000</td>\n",
       "      <td>0.007638</td>\n",
       "      <td>0.010930</td>\n",
       "      <td>0.014710</td>\n",
       "      <td>0.05279</td>\n",
       "    </tr>\n",
       "    <tr>\n",
       "      <th>symmetry error</th>\n",
       "      <td>569.0</td>\n",
       "      <td>0.020542</td>\n",
       "      <td>0.008266</td>\n",
       "      <td>0.007882</td>\n",
       "      <td>0.015160</td>\n",
       "      <td>0.018730</td>\n",
       "      <td>0.023480</td>\n",
       "      <td>0.07895</td>\n",
       "    </tr>\n",
       "    <tr>\n",
       "      <th>fractal dimension error</th>\n",
       "      <td>569.0</td>\n",
       "      <td>0.003795</td>\n",
       "      <td>0.002646</td>\n",
       "      <td>0.000895</td>\n",
       "      <td>0.002248</td>\n",
       "      <td>0.003187</td>\n",
       "      <td>0.004558</td>\n",
       "      <td>0.02984</td>\n",
       "    </tr>\n",
       "    <tr>\n",
       "      <th>worst radius</th>\n",
       "      <td>569.0</td>\n",
       "      <td>16.269190</td>\n",
       "      <td>4.833242</td>\n",
       "      <td>7.930000</td>\n",
       "      <td>13.010000</td>\n",
       "      <td>14.970000</td>\n",
       "      <td>18.790000</td>\n",
       "      <td>36.04000</td>\n",
       "    </tr>\n",
       "    <tr>\n",
       "      <th>worst texture</th>\n",
       "      <td>569.0</td>\n",
       "      <td>25.677223</td>\n",
       "      <td>6.146258</td>\n",
       "      <td>12.020000</td>\n",
       "      <td>21.080000</td>\n",
       "      <td>25.410000</td>\n",
       "      <td>29.720000</td>\n",
       "      <td>49.54000</td>\n",
       "    </tr>\n",
       "    <tr>\n",
       "      <th>worst perimeter</th>\n",
       "      <td>569.0</td>\n",
       "      <td>107.261213</td>\n",
       "      <td>33.602542</td>\n",
       "      <td>50.410000</td>\n",
       "      <td>84.110000</td>\n",
       "      <td>97.660000</td>\n",
       "      <td>125.400000</td>\n",
       "      <td>251.20000</td>\n",
       "    </tr>\n",
       "    <tr>\n",
       "      <th>worst area</th>\n",
       "      <td>569.0</td>\n",
       "      <td>880.583128</td>\n",
       "      <td>569.356993</td>\n",
       "      <td>185.200000</td>\n",
       "      <td>515.300000</td>\n",
       "      <td>686.500000</td>\n",
       "      <td>1084.000000</td>\n",
       "      <td>4254.00000</td>\n",
       "    </tr>\n",
       "    <tr>\n",
       "      <th>worst smoothness</th>\n",
       "      <td>569.0</td>\n",
       "      <td>0.132369</td>\n",
       "      <td>0.022832</td>\n",
       "      <td>0.071170</td>\n",
       "      <td>0.116600</td>\n",
       "      <td>0.131300</td>\n",
       "      <td>0.146000</td>\n",
       "      <td>0.22260</td>\n",
       "    </tr>\n",
       "    <tr>\n",
       "      <th>worst compactness</th>\n",
       "      <td>569.0</td>\n",
       "      <td>0.254265</td>\n",
       "      <td>0.157336</td>\n",
       "      <td>0.027290</td>\n",
       "      <td>0.147200</td>\n",
       "      <td>0.211900</td>\n",
       "      <td>0.339100</td>\n",
       "      <td>1.05800</td>\n",
       "    </tr>\n",
       "    <tr>\n",
       "      <th>worst concavity</th>\n",
       "      <td>569.0</td>\n",
       "      <td>0.272188</td>\n",
       "      <td>0.208624</td>\n",
       "      <td>0.000000</td>\n",
       "      <td>0.114500</td>\n",
       "      <td>0.226700</td>\n",
       "      <td>0.382900</td>\n",
       "      <td>1.25200</td>\n",
       "    </tr>\n",
       "    <tr>\n",
       "      <th>worst concave points</th>\n",
       "      <td>569.0</td>\n",
       "      <td>0.114606</td>\n",
       "      <td>0.065732</td>\n",
       "      <td>0.000000</td>\n",
       "      <td>0.064930</td>\n",
       "      <td>0.099930</td>\n",
       "      <td>0.161400</td>\n",
       "      <td>0.29100</td>\n",
       "    </tr>\n",
       "    <tr>\n",
       "      <th>worst symmetry</th>\n",
       "      <td>569.0</td>\n",
       "      <td>0.290076</td>\n",
       "      <td>0.061867</td>\n",
       "      <td>0.156500</td>\n",
       "      <td>0.250400</td>\n",
       "      <td>0.282200</td>\n",
       "      <td>0.317900</td>\n",
       "      <td>0.66380</td>\n",
       "    </tr>\n",
       "    <tr>\n",
       "      <th>worst fractal dimension</th>\n",
       "      <td>569.0</td>\n",
       "      <td>0.083946</td>\n",
       "      <td>0.018061</td>\n",
       "      <td>0.055040</td>\n",
       "      <td>0.071460</td>\n",
       "      <td>0.080040</td>\n",
       "      <td>0.092080</td>\n",
       "      <td>0.20750</td>\n",
       "    </tr>\n",
       "    <tr>\n",
       "      <th>benign_0__mal_1</th>\n",
       "      <td>569.0</td>\n",
       "      <td>0.627417</td>\n",
       "      <td>0.483918</td>\n",
       "      <td>0.000000</td>\n",
       "      <td>0.000000</td>\n",
       "      <td>1.000000</td>\n",
       "      <td>1.000000</td>\n",
       "      <td>1.00000</td>\n",
       "    </tr>\n",
       "  </tbody>\n",
       "</table>\n",
       "</div>"
      ],
      "text/plain": [
       "                         count        mean         std         min  \\\n",
       "mean radius              569.0   14.127292    3.524049    6.981000   \n",
       "mean texture             569.0   19.289649    4.301036    9.710000   \n",
       "mean perimeter           569.0   91.969033   24.298981   43.790000   \n",
       "mean area                569.0  654.889104  351.914129  143.500000   \n",
       "mean smoothness          569.0    0.096360    0.014064    0.052630   \n",
       "mean compactness         569.0    0.104341    0.052813    0.019380   \n",
       "mean concavity           569.0    0.088799    0.079720    0.000000   \n",
       "mean concave points      569.0    0.048919    0.038803    0.000000   \n",
       "mean symmetry            569.0    0.181162    0.027414    0.106000   \n",
       "mean fractal dimension   569.0    0.062798    0.007060    0.049960   \n",
       "radius error             569.0    0.405172    0.277313    0.111500   \n",
       "texture error            569.0    1.216853    0.551648    0.360200   \n",
       "perimeter error          569.0    2.866059    2.021855    0.757000   \n",
       "area error               569.0   40.337079   45.491006    6.802000   \n",
       "smoothness error         569.0    0.007041    0.003003    0.001713   \n",
       "compactness error        569.0    0.025478    0.017908    0.002252   \n",
       "concavity error          569.0    0.031894    0.030186    0.000000   \n",
       "concave points error     569.0    0.011796    0.006170    0.000000   \n",
       "symmetry error           569.0    0.020542    0.008266    0.007882   \n",
       "fractal dimension error  569.0    0.003795    0.002646    0.000895   \n",
       "worst radius             569.0   16.269190    4.833242    7.930000   \n",
       "worst texture            569.0   25.677223    6.146258   12.020000   \n",
       "worst perimeter          569.0  107.261213   33.602542   50.410000   \n",
       "worst area               569.0  880.583128  569.356993  185.200000   \n",
       "worst smoothness         569.0    0.132369    0.022832    0.071170   \n",
       "worst compactness        569.0    0.254265    0.157336    0.027290   \n",
       "worst concavity          569.0    0.272188    0.208624    0.000000   \n",
       "worst concave points     569.0    0.114606    0.065732    0.000000   \n",
       "worst symmetry           569.0    0.290076    0.061867    0.156500   \n",
       "worst fractal dimension  569.0    0.083946    0.018061    0.055040   \n",
       "benign_0__mal_1          569.0    0.627417    0.483918    0.000000   \n",
       "\n",
       "                                25%         50%          75%         max  \n",
       "mean radius               11.700000   13.370000    15.780000    28.11000  \n",
       "mean texture              16.170000   18.840000    21.800000    39.28000  \n",
       "mean perimeter            75.170000   86.240000   104.100000   188.50000  \n",
       "mean area                420.300000  551.100000   782.700000  2501.00000  \n",
       "mean smoothness            0.086370    0.095870     0.105300     0.16340  \n",
       "mean compactness           0.064920    0.092630     0.130400     0.34540  \n",
       "mean concavity             0.029560    0.061540     0.130700     0.42680  \n",
       "mean concave points        0.020310    0.033500     0.074000     0.20120  \n",
       "mean symmetry              0.161900    0.179200     0.195700     0.30400  \n",
       "mean fractal dimension     0.057700    0.061540     0.066120     0.09744  \n",
       "radius error               0.232400    0.324200     0.478900     2.87300  \n",
       "texture error              0.833900    1.108000     1.474000     4.88500  \n",
       "perimeter error            1.606000    2.287000     3.357000    21.98000  \n",
       "area error                17.850000   24.530000    45.190000   542.20000  \n",
       "smoothness error           0.005169    0.006380     0.008146     0.03113  \n",
       "compactness error          0.013080    0.020450     0.032450     0.13540  \n",
       "concavity error            0.015090    0.025890     0.042050     0.39600  \n",
       "concave points error       0.007638    0.010930     0.014710     0.05279  \n",
       "symmetry error             0.015160    0.018730     0.023480     0.07895  \n",
       "fractal dimension error    0.002248    0.003187     0.004558     0.02984  \n",
       "worst radius              13.010000   14.970000    18.790000    36.04000  \n",
       "worst texture             21.080000   25.410000    29.720000    49.54000  \n",
       "worst perimeter           84.110000   97.660000   125.400000   251.20000  \n",
       "worst area               515.300000  686.500000  1084.000000  4254.00000  \n",
       "worst smoothness           0.116600    0.131300     0.146000     0.22260  \n",
       "worst compactness          0.147200    0.211900     0.339100     1.05800  \n",
       "worst concavity            0.114500    0.226700     0.382900     1.25200  \n",
       "worst concave points       0.064930    0.099930     0.161400     0.29100  \n",
       "worst symmetry             0.250400    0.282200     0.317900     0.66380  \n",
       "worst fractal dimension    0.071460    0.080040     0.092080     0.20750  \n",
       "benign_0__mal_1            0.000000    1.000000     1.000000     1.00000  "
      ]
     },
     "execution_count": 7,
     "metadata": {},
     "output_type": "execute_result"
    }
   ],
   "source": [
    "df.describe().transpose()"
   ]
  },
  {
   "cell_type": "markdown",
   "metadata": {},
   "source": [
    "## EDA"
   ]
  },
  {
   "cell_type": "code",
   "execution_count": 8,
   "metadata": {},
   "outputs": [],
   "source": [
    "import seaborn as sns\n",
    "import matplotlib.pyplot as plt\n",
    "%matplotlib inline"
   ]
  },
  {
   "cell_type": "code",
   "execution_count": 9,
   "metadata": {},
   "outputs": [
    {
     "data": {
      "text/plain": [
       "<AxesSubplot:xlabel='benign_0__mal_1', ylabel='count'>"
      ]
     },
     "execution_count": 9,
     "metadata": {},
     "output_type": "execute_result"
    },
    {
     "data": {
      "image/png": "[encoded data removed]",
      "text/plain": [
       "<Figure size 1200x600 with 1 Axes>"
      ]
     },
     "metadata": {},
     "output_type": "display_data"
    }
   ],
   "source": [
    "plt.figure(figsize=(12,6))\n",
    "sns.countplot(x='benign_0__mal_1',data=df)"
   ]
  },
  {
   "cell_type": "code",
   "execution_count": 10,
   "metadata": {},
   "outputs": [
    {
     "data": {
      "text/plain": [
       "<AxesSubplot:>"
      ]
     },
     "execution_count": 10,
     "metadata": {},
     "output_type": "execute_result"
    },
    {
     "data": {
      "image/png": "[encoded data removed]",
      "text/plain": [
       "<Figure size 1200x600 with 2 Axes>"
      ]
     },
     "metadata": {},
     "output_type": "display_data"
    }
   ],
   "source": [
    "plt.figure(figsize=(12,6))\n",
    "sns.heatmap(df.corr())"
   ]
  },
  {
   "cell_type": "code",
   "execution_count": 11,
   "metadata": {},
   "outputs": [
    {
     "data": {
      "text/plain": [
       "worst concave points      -0.793566\n",
       "worst perimeter           -0.782914\n",
       "mean concave points       -0.776614\n",
       "worst radius              -0.776454\n",
       "mean perimeter            -0.742636\n",
       "worst area                -0.733825\n",
       "mean radius               -0.730029\n",
       "mean area                 -0.708984\n",
       "mean concavity            -0.696360\n",
       "worst concavity           -0.659610\n",
       "mean compactness          -0.596534\n",
       "worst compactness         -0.590998\n",
       "radius error              -0.567134\n",
       "perimeter error           -0.556141\n",
       "area error                -0.548236\n",
       "worst texture             -0.456903\n",
       "worst smoothness          -0.421465\n",
       "worst symmetry            -0.416294\n",
       "mean texture              -0.415185\n",
       "concave points error      -0.408042\n",
       "mean smoothness           -0.358560\n",
       "mean symmetry             -0.330499\n",
       "worst fractal dimension   -0.323872\n",
       "compactness error         -0.292999\n",
       "concavity error           -0.253730\n",
       "fractal dimension error   -0.077972\n",
       "symmetry error             0.006522\n",
       "texture error              0.008303\n",
       "mean fractal dimension     0.012838\n",
       "smoothness error           0.067016\n",
       "benign_0__mal_1            1.000000\n",
       "Name: benign_0__mal_1, dtype: float64"
      ]
     },
     "execution_count": 11,
     "metadata": {},
     "output_type": "execute_result"
    }
   ],
   "source": [
    "df.corr()['benign_0__mal_1'].sort_values()"
   ]
  },
  {
   "cell_type": "code",
   "execution_count": 12,
   "metadata": {},
   "outputs": [
    {
     "data": {
      "text/plain": [
       "<AxesSubplot:>"
      ]
     },
     "execution_count": 12,
     "metadata": {},
     "output_type": "execute_result"
    },
    {
     "data": {
      "image/png": "[encoded data removed]",
      "text/plain": [
       "<Figure size 640x480 with 1 Axes>"
      ]
     },
     "metadata": {},
     "output_type": "display_data"
    }
   ],
   "source": [
    "df.corr()['benign_0__mal_1'].sort_values().plot(kind='bar')"
   ]
  },
  {
   "cell_type": "code",
   "execution_count": 13,
   "metadata": {},
   "outputs": [
    {
     "data": {
      "text/plain": [
       "<AxesSubplot:>"
      ]
     },
     "execution_count": 13,
     "metadata": {},
     "output_type": "execute_result"
    },
    {
     "data": {
      "image/png": "[encoded data removed]",
      "text/plain": [
       "<Figure size 640x480 with 1 Axes>"
      ]
     },
     "metadata": {},
     "output_type": "display_data"
    }
   ],
   "source": [
    "df.corr()['benign_0__mal_1'][:-1].sort_values().plot(kind='bar')"
   ]
  },
  {
   "cell_type": "markdown",
   "metadata": {},
   "source": [
    "## Train Test Split"
   ]
  },
  {
   "cell_type": "code",
   "execution_count": 14,
   "metadata": {},
   "outputs": [],
   "source": [
    "X = df.drop('benign_0__mal_1',axis=1).values\n",
    "y = df['benign_0__mal_1'].values"
   ]
  },
  {
   "cell_type": "code",
   "execution_count": 15,
   "metadata": {},
   "outputs": [],
   "source": [
    "from sklearn.model_selection import train_test_split"
   ]
  },
  {
   "cell_type": "code",
   "execution_count": 16,
   "metadata": {},
   "outputs": [],
   "source": [
    "X_train, X_test, y_train, y_test = train_test_split(X,y,test_size=0.25,random_state=101)"
   ]
  },
  {
   "cell_type": "markdown",
   "metadata": {},
   "source": [
    "\n",
    "## Scaling Data"
   ]
  },
  {
   "cell_type": "code",
   "execution_count": 17,
   "metadata": {},
   "outputs": [],
   "source": [
    "from sklearn.preprocessing import MinMaxScaler"
   ]
  },
  {
   "cell_type": "code",
   "execution_count": 18,
   "metadata": {},
   "outputs": [],
   "source": [
    "scaler = MinMaxScaler()"
   ]
  },
  {
   "cell_type": "code",
   "execution_count": 19,
   "metadata": {},
   "outputs": [
    {
     "data": {
      "text/html": [
       "<style>#sk-container-id-1 {color: black;background-color: white;}#sk-container-id-1 pre{padding: 0;}#sk-container-id-1 div.sk-toggleable {background-color: white;}#sk-container-id-1 label.sk-toggleable__label {cursor: pointer;display: block;width: 100%;margin-bottom: 0;padding: 0.3em;box-sizing: border-box;text-align: center;}#sk-container-id-1 label.sk-toggleable__label-arrow:before {content: \"▸\";float: left;margin-right: 0.25em;color: #696969;}#sk-container-id-1 label.sk-toggleable__label-arrow:hover:before {color: black;}#sk-container-id-1 div.sk-estimator:hover label.sk-toggleable__label-arrow:before {color: black;}#sk-container-id-1 div.sk-toggleable__content {max-height: 0;max-width: 0;overflow: hidden;text-align: left;background-color: #f0f8ff;}#sk-container-id-1 div.sk-toggleable__content pre {margin: 0.2em;color: black;border-radius: 0.25em;background-color: #f0f8ff;}#sk-container-id-1 input.sk-toggleable__control:checked~div.sk-toggleable__content {max-height: 200px;max-width: 100%;overflow: auto;}#sk-container-id-1 input.sk-toggleable__control:checked~label.sk-toggleable__label-arrow:before {content: \"▾\";}#sk-container-id-1 div.sk-estimator input.sk-toggleable__control:checked~label.sk-toggleable__label {background-color: #d4ebff;}#sk-container-id-1 div.sk-label input.sk-toggleable__control:checked~label.sk-toggleable__label {background-color: #d4ebff;}#sk-container-id-1 input.sk-hidden--visually {border: 0;clip: rect(1px 1px 1px 1px);clip: rect(1px, 1px, 1px, 1px);height: 1px;margin: -1px;overflow: hidden;padding: 0;position: absolute;width: 1px;}#sk-container-id-1 div.sk-estimator {font-family: monospace;background-color: #f0f8ff;border: 1px dotted black;border-radius: 0.25em;box-sizing: border-box;margin-bottom: 0.5em;}#sk-container-id-1 div.sk-estimator:hover {background-color: #d4ebff;}#sk-container-id-1 div.sk-parallel-item::after {content: \"\";width: 100%;border-bottom: 1px solid gray;flex-grow: 1;}#sk-container-id-1 div.sk-label:hover label.sk-toggleable__label {background-color: #d4ebff;}#sk-container-id-1 div.sk-serial::before {content: \"\";position: absolute;border-left: 1px solid gray;box-sizing: border-box;top: 0;bottom: 0;left: 50%;z-index: 0;}#sk-container-id-1 div.sk-serial {display: flex;flex-direction: column;align-items: center;background-color: white;padding-right: 0.2em;padding-left: 0.2em;position: relative;}#sk-container-id-1 div.sk-item {position: relative;z-index: 1;}#sk-container-id-1 div.sk-parallel {display: flex;align-items: stretch;justify-content: center;background-color: white;position: relative;}#sk-container-id-1 div.sk-item::before, #sk-container-id-1 div.sk-parallel-item::before {content: \"\";position: absolute;border-left: 1px solid gray;box-sizing: border-box;top: 0;bottom: 0;left: 50%;z-index: -1;}#sk-container-id-1 div.sk-parallel-item {display: flex;flex-direction: column;z-index: 1;position: relative;background-color: white;}#sk-container-id-1 div.sk-parallel-item:first-child::after {align-self: flex-end;width: 50%;}#sk-container-id-1 div.sk-parallel-item:last-child::after {align-self: flex-start;width: 50%;}#sk-container-id-1 div.sk-parallel-item:only-child::after {width: 0;}#sk-container-id-1 div.sk-dashed-wrapped {border: 1px dashed gray;margin: 0 0.4em 0.5em 0.4em;box-sizing: border-box;padding-bottom: 0.4em;background-color: white;}#sk-container-id-1 div.sk-label label {font-family: monospace;font-weight: bold;display: inline-block;line-height: 1.2em;}#sk-container-id-1 div.sk-label-container {text-align: center;}#sk-container-id-1 div.sk-container {/* jupyter's `normalize.less` sets `[hidden] { display: none; }` but bootstrap.min.css set `[hidden] { display: none !important; }` so we also need the `!important` here to be able to override the default hidden behavior on the sphinx rendered scikit-learn.org. See: https://github.com/scikit-learn/scikit-learn/issues/21755 */display: inline-block !important;position: relative;}#sk-container-id-1 div.sk-text-repr-fallback {display: none;}</style><div id=\"sk-container-id-1\" class=\"sk-top-container\"><div class=\"sk-text-repr-fallback\"><pre>MinMaxScaler()</pre><b>In a Jupyter environment, please rerun this cell to show the HTML representation or trust the notebook. <br />On GitHub, the HTML representation is unable to render, please try loading this page with nbviewer.org.</b></div><div class=\"sk-container\" hidden><div class=\"sk-item\"><div class=\"sk-estimator sk-toggleable\"><input class=\"sk-toggleable__control sk-hidden--visually\" id=\"sk-estimator-id-1\" type=\"checkbox\" checked><label for=\"sk-estimator-id-1\" class=\"sk-toggleable__label sk-toggleable__label-arrow\">MinMaxScaler</label><div class=\"sk-toggleable__content\"><pre>MinMaxScaler()</pre></div></div></div></div></div>"
      ],
      "text/plain": [
       "MinMaxScaler()"
      ]
     },
     "execution_count": 19,
     "metadata": {},
     "output_type": "execute_result"
    }
   ],
   "source": [
    "scaler.fit(X_train)"
   ]
  },
  {
   "cell_type": "code",
   "execution_count": 20,
   "metadata": {},
   "outputs": [],
   "source": [
    "X_train = scaler.transform(X_train)\n",
    "X_test = scaler.transform(X_test)"
   ]
  },
  {
   "cell_type": "code",
   "execution_count": 21,
   "metadata": {},
   "outputs": [],
   "source": [
    "accuracy=dict()"
   ]
  },
  {
   "cell_type": "markdown",
   "metadata": {},
   "source": [
    "### Logistic regression"
   ]
  },
  {
   "cell_type": "code",
   "execution_count": 22,
   "metadata": {},
   "outputs": [
    {
     "data": {
      "text/html": [
       "<style>#sk-container-id-2 {color: black;background-color: white;}#sk-container-id-2 pre{padding: 0;}#sk-container-id-2 div.sk-toggleable {background-color: white;}#sk-container-id-2 label.sk-toggleable__label {cursor: pointer;display: block;width: 100%;margin-bottom: 0;padding: 0.3em;box-sizing: border-box;text-align: center;}#sk-container-id-2 label.sk-toggleable__label-arrow:before {content: \"▸\";float: left;margin-right: 0.25em;color: #696969;}#sk-container-id-2 label.sk-toggleable__label-arrow:hover:before {color: black;}#sk-container-id-2 div.sk-estimator:hover label.sk-toggleable__label-arrow:before {color: black;}#sk-container-id-2 div.sk-toggleable__content {max-height: 0;max-width: 0;overflow: hidden;text-align: left;background-color: #f0f8ff;}#sk-container-id-2 div.sk-toggleable__content pre {margin: 0.2em;color: black;border-radius: 0.25em;background-color: #f0f8ff;}#sk-container-id-2 input.sk-toggleable__control:checked~div.sk-toggleable__content {max-height: 200px;max-width: 100%;overflow: auto;}#sk-container-id-2 input.sk-toggleable__control:checked~label.sk-toggleable__label-arrow:before {content: \"▾\";}#sk-container-id-2 div.sk-estimator input.sk-toggleable__control:checked~label.sk-toggleable__label {background-color: #d4ebff;}#sk-container-id-2 div.sk-label input.sk-toggleable__control:checked~label.sk-toggleable__label {background-color: #d4ebff;}#sk-container-id-2 input.sk-hidden--visually {border: 0;clip: rect(1px 1px 1px 1px);clip: rect(1px, 1px, 1px, 1px);height: 1px;margin: -1px;overflow: hidden;padding: 0;position: absolute;width: 1px;}#sk-container-id-2 div.sk-estimator {font-family: monospace;background-color: #f0f8ff;border: 1px dotted black;border-radius: 0.25em;box-sizing: border-box;margin-bottom: 0.5em;}#sk-container-id-2 div.sk-estimator:hover {background-color: #d4ebff;}#sk-container-id-2 div.sk-parallel-item::after {content: \"\";width: 100%;border-bottom: 1px solid gray;flex-grow: 1;}#sk-container-id-2 div.sk-label:hover label.sk-toggleable__label {background-color: #d4ebff;}#sk-container-id-2 div.sk-serial::before {content: \"\";position: absolute;border-left: 1px solid gray;box-sizing: border-box;top: 0;bottom: 0;left: 50%;z-index: 0;}#sk-container-id-2 div.sk-serial {display: flex;flex-direction: column;align-items: center;background-color: white;padding-right: 0.2em;padding-left: 0.2em;position: relative;}#sk-container-id-2 div.sk-item {position: relative;z-index: 1;}#sk-container-id-2 div.sk-parallel {display: flex;align-items: stretch;justify-content: center;background-color: white;position: relative;}#sk-container-id-2 div.sk-item::before, #sk-container-id-2 div.sk-parallel-item::before {content: \"\";position: absolute;border-left: 1px solid gray;box-sizing: border-box;top: 0;bottom: 0;left: 50%;z-index: -1;}#sk-container-id-2 div.sk-parallel-item {display: flex;flex-direction: column;z-index: 1;position: relative;background-color: white;}#sk-container-id-2 div.sk-parallel-item:first-child::after {align-self: flex-end;width: 50%;}#sk-container-id-2 div.sk-parallel-item:last-child::after {align-self: flex-start;width: 50%;}#sk-container-id-2 div.sk-parallel-item:only-child::after {width: 0;}#sk-container-id-2 div.sk-dashed-wrapped {border: 1px dashed gray;margin: 0 0.4em 0.5em 0.4em;box-sizing: border-box;padding-bottom: 0.4em;background-color: white;}#sk-container-id-2 div.sk-label label {font-family: monospace;font-weight: bold;display: inline-block;line-height: 1.2em;}#sk-container-id-2 div.sk-label-container {text-align: center;}#sk-container-id-2 div.sk-container {/* jupyter's `normalize.less` sets `[hidden] { display: none; }` but bootstrap.min.css set `[hidden] { display: none !important; }` so we also need the `!important` here to be able to override the default hidden behavior on the sphinx rendered scikit-learn.org. See: https://github.com/scikit-learn/scikit-learn/issues/21755 */display: inline-block !important;position: relative;}#sk-container-id-2 div.sk-text-repr-fallback {display: none;}</style><div id=\"sk-container-id-2\" class=\"sk-top-container\"><div class=\"sk-text-repr-fallback\"><pre>LogisticRegression(random_state=0)</pre><b>In a Jupyter environment, please rerun this cell to show the HTML representation or trust the notebook. <br />On GitHub, the HTML representation is unable to render, please try loading this page with nbviewer.org.</b></div><div class=\"sk-container\" hidden><div class=\"sk-item\"><div class=\"sk-estimator sk-toggleable\"><input class=\"sk-toggleable__control sk-hidden--visually\" id=\"sk-estimator-id-2\" type=\"checkbox\" checked><label for=\"sk-estimator-id-2\" class=\"sk-toggleable__label sk-toggleable__label-arrow\">LogisticRegression</label><div class=\"sk-toggleable__content\"><pre>LogisticRegression(random_state=0)</pre></div></div></div></div></div>"
      ],
      "text/plain": [
       "LogisticRegression(random_state=0)"
      ]
     },
     "execution_count": 22,
     "metadata": {},
     "output_type": "execute_result"
    }
   ],
   "source": [
    "from sklearn.linear_model import LogisticRegression\n",
    "classifier=LogisticRegression(random_state=0)\n",
    "classifier.fit(X_train,y_train)"
   ]
  },
  {
   "cell_type": "code",
   "execution_count": 23,
   "metadata": {},
   "outputs": [],
   "source": [
    "pred=classifier.predict(X_test)"
   ]
  },
  {
   "cell_type": "code",
   "execution_count": 24,
   "metadata": {},
   "outputs": [
    {
     "name": "stdout",
     "output_type": "stream",
     "text": [
      "              precision    recall  f1-score   support\n",
      "\n",
      "           0       0.93      1.00      0.96        51\n",
      "           1       1.00      0.96      0.98        92\n",
      "\n",
      "    accuracy                           0.97       143\n",
      "   macro avg       0.96      0.98      0.97       143\n",
      "weighted avg       0.97      0.97      0.97       143\n",
      "\n",
      "[[51  0]\n",
      " [ 4 88]]\n"
     ]
    }
   ],
   "source": [
    "from sklearn.metrics import classification_report,confusion_matrix\n",
    "print(classification_report(pred,y_test))\n",
    "print(confusion_matrix(pred,y_test))"
   ]
  },
  {
   "cell_type": "code",
   "execution_count": 25,
   "metadata": {},
   "outputs": [],
   "source": [
    "from sklearn.metrics import accuracy_score\n",
    "accuracy['Logistic Regression']=accuracy_score(pred,y_test)"
   ]
  },
  {
   "cell_type": "markdown",
   "metadata": {},
   "source": [
    "### K-nearest Neighbours"
   ]
  },
  {
   "cell_type": "code",
   "execution_count": 26,
   "metadata": {},
   "outputs": [],
   "source": [
    "from sklearn.neighbors import KNeighborsClassifier"
   ]
  },
  {
   "cell_type": "code",
   "execution_count": 27,
   "metadata": {},
   "outputs": [],
   "source": [
    "knn=KNeighborsClassifier(n_neighbors=1)"
   ]
  },
  {
   "cell_type": "code",
   "execution_count": 28,
   "metadata": {},
   "outputs": [
    {
     "data": {
      "text/html": [
       "<style>#sk-container-id-3 {color: black;background-color: white;}#sk-container-id-3 pre{padding: 0;}#sk-container-id-3 div.sk-toggleable {background-color: white;}#sk-container-id-3 label.sk-toggleable__label {cursor: pointer;display: block;width: 100%;margin-bottom: 0;padding: 0.3em;box-sizing: border-box;text-align: center;}#sk-container-id-3 label.sk-toggleable__label-arrow:before {content: \"▸\";float: left;margin-right: 0.25em;color: #696969;}#sk-container-id-3 label.sk-toggleable__label-arrow:hover:before {color: black;}#sk-container-id-3 div.sk-estimator:hover label.sk-toggleable__label-arrow:before {color: black;}#sk-container-id-3 div.sk-toggleable__content {max-height: 0;max-width: 0;overflow: hidden;text-align: left;background-color: #f0f8ff;}#sk-container-id-3 div.sk-toggleable__content pre {margin: 0.2em;color: black;border-radius: 0.25em;background-color: #f0f8ff;}#sk-container-id-3 input.sk-toggleable__control:checked~div.sk-toggleable__content {max-height: 200px;max-width: 100%;overflow: auto;}#sk-container-id-3 input.sk-toggleable__control:checked~label.sk-toggleable__label-arrow:before {content: \"▾\";}#sk-container-id-3 div.sk-estimator input.sk-toggleable__control:checked~label.sk-toggleable__label {background-color: #d4ebff;}#sk-container-id-3 div.sk-label input.sk-toggleable__control:checked~label.sk-toggleable__label {background-color: #d4ebff;}#sk-container-id-3 input.sk-hidden--visually {border: 0;clip: rect(1px 1px 1px 1px);clip: rect(1px, 1px, 1px, 1px);height: 1px;margin: -1px;overflow: hidden;padding: 0;position: absolute;width: 1px;}#sk-container-id-3 div.sk-estimator {font-family: monospace;background-color: #f0f8ff;border: 1px dotted black;border-radius: 0.25em;box-sizing: border-box;margin-bottom: 0.5em;}#sk-container-id-3 div.sk-estimator:hover {background-color: #d4ebff;}#sk-container-id-3 div.sk-parallel-item::after {content: \"\";width: 100%;border-bottom: 1px solid gray;flex-grow: 1;}#sk-container-id-3 div.sk-label:hover label.sk-toggleable__label {background-color: #d4ebff;}#sk-container-id-3 div.sk-serial::before {content: \"\";position: absolute;border-left: 1px solid gray;box-sizing: border-box;top: 0;bottom: 0;left: 50%;z-index: 0;}#sk-container-id-3 div.sk-serial {display: flex;flex-direction: column;align-items: center;background-color: white;padding-right: 0.2em;padding-left: 0.2em;position: relative;}#sk-container-id-3 div.sk-item {position: relative;z-index: 1;}#sk-container-id-3 div.sk-parallel {display: flex;align-items: stretch;justify-content: center;background-color: white;position: relative;}#sk-container-id-3 div.sk-item::before, #sk-container-id-3 div.sk-parallel-item::before {content: \"\";position: absolute;border-left: 1px solid gray;box-sizing: border-box;top: 0;bottom: 0;left: 50%;z-index: -1;}#sk-container-id-3 div.sk-parallel-item {display: flex;flex-direction: column;z-index: 1;position: relative;background-color: white;}#sk-container-id-3 div.sk-parallel-item:first-child::after {align-self: flex-end;width: 50%;}#sk-container-id-3 div.sk-parallel-item:last-child::after {align-self: flex-start;width: 50%;}#sk-container-id-3 div.sk-parallel-item:only-child::after {width: 0;}#sk-container-id-3 div.sk-dashed-wrapped {border: 1px dashed gray;margin: 0 0.4em 0.5em 0.4em;box-sizing: border-box;padding-bottom: 0.4em;background-color: white;}#sk-container-id-3 div.sk-label label {font-family: monospace;font-weight: bold;display: inline-block;line-height: 1.2em;}#sk-container-id-3 div.sk-label-container {text-align: center;}#sk-container-id-3 div.sk-container {/* jupyter's `normalize.less` sets `[hidden] { display: none; }` but bootstrap.min.css set `[hidden] { display: none !important; }` so we also need the `!important` here to be able to override the default hidden behavior on the sphinx rendered scikit-learn.org. See: https://github.com/scikit-learn/scikit-learn/issues/21755 */display: inline-block !important;position: relative;}#sk-container-id-3 div.sk-text-repr-fallback {display: none;}</style><div id=\"sk-container-id-3\" class=\"sk-top-container\"><div class=\"sk-text-repr-fallback\"><pre>KNeighborsClassifier(n_neighbors=1)</pre><b>In a Jupyter environment, please rerun this cell to show the HTML representation or trust the notebook. <br />On GitHub, the HTML representation is unable to render, please try loading this page with nbviewer.org.</b></div><div class=\"sk-container\" hidden><div class=\"sk-item\"><div class=\"sk-estimator sk-toggleable\"><input class=\"sk-toggleable__control sk-hidden--visually\" id=\"sk-estimator-id-3\" type=\"checkbox\" checked><label for=\"sk-estimator-id-3\" class=\"sk-toggleable__label sk-toggleable__label-arrow\">KNeighborsClassifier</label><div class=\"sk-toggleable__content\"><pre>KNeighborsClassifier(n_neighbors=1)</pre></div></div></div></div></div>"
      ],
      "text/plain": [
       "KNeighborsClassifier(n_neighbors=1)"
      ]
     },
     "execution_count": 28,
     "metadata": {},
     "output_type": "execute_result"
    }
   ],
   "source": [
    "knn.fit(X_train,y_train)"
   ]
  },
  {
   "cell_type": "code",
   "execution_count": 29,
   "metadata": {},
   "outputs": [
    {
     "data": {
      "text/plain": [
       "1.0"
      ]
     },
     "execution_count": 29,
     "metadata": {},
     "output_type": "execute_result"
    }
   ],
   "source": [
    "knn.score(X_train,y_train)"
   ]
  },
  {
   "cell_type": "code",
   "execution_count": 30,
   "metadata": {},
   "outputs": [],
   "source": [
    "#For K=2\n",
    "knn=KNeighborsClassifier(n_neighbors=2)"
   ]
  },
  {
   "cell_type": "code",
   "execution_count": 31,
   "metadata": {},
   "outputs": [
    {
     "data": {
      "text/html": [
       "<style>#sk-container-id-4 {color: black;background-color: white;}#sk-container-id-4 pre{padding: 0;}#sk-container-id-4 div.sk-toggleable {background-color: white;}#sk-container-id-4 label.sk-toggleable__label {cursor: pointer;display: block;width: 100%;margin-bottom: 0;padding: 0.3em;box-sizing: border-box;text-align: center;}#sk-container-id-4 label.sk-toggleable__label-arrow:before {content: \"▸\";float: left;margin-right: 0.25em;color: #696969;}#sk-container-id-4 label.sk-toggleable__label-arrow:hover:before {color: black;}#sk-container-id-4 div.sk-estimator:hover label.sk-toggleable__label-arrow:before {color: black;}#sk-container-id-4 div.sk-toggleable__content {max-height: 0;max-width: 0;overflow: hidden;text-align: left;background-color: #f0f8ff;}#sk-container-id-4 div.sk-toggleable__content pre {margin: 0.2em;color: black;border-radius: 0.25em;background-color: #f0f8ff;}#sk-container-id-4 input.sk-toggleable__control:checked~div.sk-toggleable__content {max-height: 200px;max-width: 100%;overflow: auto;}#sk-container-id-4 input.sk-toggleable__control:checked~label.sk-toggleable__label-arrow:before {content: \"▾\";}#sk-container-id-4 div.sk-estimator input.sk-toggleable__control:checked~label.sk-toggleable__label {background-color: #d4ebff;}#sk-container-id-4 div.sk-label input.sk-toggleable__control:checked~label.sk-toggleable__label {background-color: #d4ebff;}#sk-container-id-4 input.sk-hidden--visually {border: 0;clip: rect(1px 1px 1px 1px);clip: rect(1px, 1px, 1px, 1px);height: 1px;margin: -1px;overflow: hidden;padding: 0;position: absolute;width: 1px;}#sk-container-id-4 div.sk-estimator {font-family: monospace;background-color: #f0f8ff;border: 1px dotted black;border-radius: 0.25em;box-sizing: border-box;margin-bottom: 0.5em;}#sk-container-id-4 div.sk-estimator:hover {background-color: #d4ebff;}#sk-container-id-4 div.sk-parallel-item::after {content: \"\";width: 100%;border-bottom: 1px solid gray;flex-grow: 1;}#sk-container-id-4 div.sk-label:hover label.sk-toggleable__label {background-color: #d4ebff;}#sk-container-id-4 div.sk-serial::before {content: \"\";position: absolute;border-left: 1px solid gray;box-sizing: border-box;top: 0;bottom: 0;left: 50%;z-index: 0;}#sk-container-id-4 div.sk-serial {display: flex;flex-direction: column;align-items: center;background-color: white;padding-right: 0.2em;padding-left: 0.2em;position: relative;}#sk-container-id-4 div.sk-item {position: relative;z-index: 1;}#sk-container-id-4 div.sk-parallel {display: flex;align-items: stretch;justify-content: center;background-color: white;position: relative;}#sk-container-id-4 div.sk-item::before, #sk-container-id-4 div.sk-parallel-item::before {content: \"\";position: absolute;border-left: 1px solid gray;box-sizing: border-box;top: 0;bottom: 0;left: 50%;z-index: -1;}#sk-container-id-4 div.sk-parallel-item {display: flex;flex-direction: column;z-index: 1;position: relative;background-color: white;}#sk-container-id-4 div.sk-parallel-item:first-child::after {align-self: flex-end;width: 50%;}#sk-container-id-4 div.sk-parallel-item:last-child::after {align-self: flex-start;width: 50%;}#sk-container-id-4 div.sk-parallel-item:only-child::after {width: 0;}#sk-container-id-4 div.sk-dashed-wrapped {border: 1px dashed gray;margin: 0 0.4em 0.5em 0.4em;box-sizing: border-box;padding-bottom: 0.4em;background-color: white;}#sk-container-id-4 div.sk-label label {font-family: monospace;font-weight: bold;display: inline-block;line-height: 1.2em;}#sk-container-id-4 div.sk-label-container {text-align: center;}#sk-container-id-4 div.sk-container {/* jupyter's `normalize.less` sets `[hidden] { display: none; }` but bootstrap.min.css set `[hidden] { display: none !important; }` so we also need the `!important` here to be able to override the default hidden behavior on the sphinx rendered scikit-learn.org. See: https://github.com/scikit-learn/scikit-learn/issues/21755 */display: inline-block !important;position: relative;}#sk-container-id-4 div.sk-text-repr-fallback {display: none;}</style><div id=\"sk-container-id-4\" class=\"sk-top-container\"><div class=\"sk-text-repr-fallback\"><pre>KNeighborsClassifier(n_neighbors=2)</pre><b>In a Jupyter environment, please rerun this cell to show the HTML representation or trust the notebook. <br />On GitHub, the HTML representation is unable to render, please try loading this page with nbviewer.org.</b></div><div class=\"sk-container\" hidden><div class=\"sk-item\"><div class=\"sk-estimator sk-toggleable\"><input class=\"sk-toggleable__control sk-hidden--visually\" id=\"sk-estimator-id-4\" type=\"checkbox\" checked><label for=\"sk-estimator-id-4\" class=\"sk-toggleable__label sk-toggleable__label-arrow\">KNeighborsClassifier</label><div class=\"sk-toggleable__content\"><pre>KNeighborsClassifier(n_neighbors=2)</pre></div></div></div></div></div>"
      ],
      "text/plain": [
       "KNeighborsClassifier(n_neighbors=2)"
      ]
     },
     "execution_count": 31,
     "metadata": {},
     "output_type": "execute_result"
    }
   ],
   "source": [
    "knn.fit(X_train,y_train)"
   ]
  },
  {
   "cell_type": "code",
   "execution_count": 32,
   "metadata": {},
   "outputs": [
    {
     "data": {
      "text/plain": [
       "0.9741784037558685"
      ]
     },
     "execution_count": 32,
     "metadata": {},
     "output_type": "execute_result"
    }
   ],
   "source": [
    "knn.score(X_train,y_train)"
   ]
  },
  {
   "cell_type": "code",
   "execution_count": 33,
   "metadata": {},
   "outputs": [],
   "source": [
    "#find the best K value\n",
    "error_rate = []\n",
    "\n",
    "for i in range(1,40):\n",
    "    knn = KNeighborsClassifier(n_neighbors=i)\n",
    "    knn.fit(X_train,y_train)\n",
    "    pred_i = knn.predict(X_train)\n",
    "    error_rate.append(np.mean(pred_i != y_train))"
   ]
  },
  {
   "cell_type": "code",
   "execution_count": 34,
   "metadata": {},
   "outputs": [
    {
     "data": {
      "text/plain": [
       "Text(0, 0.5, 'Error Rate')"
      ]
     },
     "execution_count": 34,
     "metadata": {},
     "output_type": "execute_result"
    },
    {
     "data": {
      "image/png": "[encoded data removed]",
      "text/plain": [
       "<Figure size 1000x600 with 1 Axes>"
      ]
     },
     "metadata": {},
     "output_type": "display_data"
    }
   ],
   "source": [
    "plt.figure(figsize=(10,6))\n",
    "plt.plot(range(1,40),error_rate,color='blue', linestyle='dashed', marker='o',\n",
    "         markerfacecolor='yellow', markersize=10)\n",
    "plt.title('Error Rate vs. K Value')\n",
    "plt.xlabel('K')\n",
    "plt.ylabel('Error Rate') #error rate differs as the k value increases"
   ]
  },
  {
   "cell_type": "code",
   "execution_count": 35,
   "metadata": {},
   "outputs": [
    {
     "name": "stdout",
     "output_type": "stream",
     "text": [
      "              precision    recall  f1-score   support\n",
      "\n",
      "           0       0.98      0.87      0.92        62\n",
      "           1       0.91      0.99      0.95        81\n",
      "\n",
      "    accuracy                           0.94       143\n",
      "   macro avg       0.95      0.93      0.93       143\n",
      "weighted avg       0.94      0.94      0.94       143\n",
      "\n",
      "[[54  8]\n",
      " [ 1 80]]\n"
     ]
    }
   ],
   "source": [
    "#for k=2 is best suitable\n",
    "knn=KNeighborsClassifier(n_neighbors=2)\n",
    "knn.fit(X_train,y_train)\n",
    "pred=knn.predict(X_test)\n",
    "print(classification_report(pred,y_test))\n",
    "print(confusion_matrix(pred,y_test))\n",
    "accuracy['KNN']=accuracy_score(pred,y_test)"
   ]
  },
  {
   "cell_type": "markdown",
   "metadata": {},
   "source": [
    "### Naive Bayes"
   ]
  },
  {
   "cell_type": "code",
   "execution_count": 36,
   "metadata": {},
   "outputs": [
    {
     "name": "stdout",
     "output_type": "stream",
     "text": [
      "              precision    recall  f1-score   support\n",
      "\n",
      "           0       0.93      0.89      0.91        57\n",
      "           1       0.93      0.95      0.94        86\n",
      "\n",
      "    accuracy                           0.93       143\n",
      "   macro avg       0.93      0.92      0.93       143\n",
      "weighted avg       0.93      0.93      0.93       143\n",
      "\n",
      "[[51  6]\n",
      " [ 4 82]]\n"
     ]
    }
   ],
   "source": [
    "from sklearn.naive_bayes import GaussianNB\n",
    "classifier=GaussianNB()\n",
    "classifier.fit(X_train,y_train)\n",
    "pred=classifier.predict(X_test)\n",
    "print(classification_report(pred,y_test))\n",
    "print(confusion_matrix(pred,y_test))"
   ]
  },
  {
   "cell_type": "code",
   "execution_count": 37,
   "metadata": {},
   "outputs": [],
   "source": [
    "accuracy['Naive Bayes']=accuracy_score(pred,y_test)"
   ]
  },
  {
   "cell_type": "markdown",
   "metadata": {},
   "source": [
    "### Decision Tree"
   ]
  },
  {
   "cell_type": "code",
   "execution_count": 38,
   "metadata": {},
   "outputs": [
    {
     "name": "stdout",
     "output_type": "stream",
     "text": [
      "              precision    recall  f1-score   support\n",
      "\n",
      "           0       0.91      0.91      0.91        55\n",
      "           1       0.94      0.94      0.94        88\n",
      "\n",
      "    accuracy                           0.93       143\n",
      "   macro avg       0.93      0.93      0.93       143\n",
      "weighted avg       0.93      0.93      0.93       143\n",
      "\n",
      "[[50  5]\n",
      " [ 5 83]]\n"
     ]
    }
   ],
   "source": [
    "from sklearn.tree import DecisionTreeClassifier\n",
    "clf=DecisionTreeClassifier(criterion='entropy',random_state=0)\n",
    "clf.fit(X_train,y_train)\n",
    "pred=clf.predict(X_test)\n",
    "print(classification_report(pred,y_test))\n",
    "print(confusion_matrix(pred,y_test))"
   ]
  },
  {
   "cell_type": "code",
   "execution_count": 39,
   "metadata": {},
   "outputs": [],
   "source": [
    "accuracy['Decision Tree']=accuracy_score(pred,y_test)"
   ]
  },
  {
   "cell_type": "markdown",
   "metadata": {},
   "source": [
    "### Random Forest"
   ]
  },
  {
   "cell_type": "code",
   "execution_count": 40,
   "metadata": {},
   "outputs": [
    {
     "name": "stdout",
     "output_type": "stream",
     "text": [
      "              precision    recall  f1-score   support\n",
      "\n",
      "           0       0.93      0.96      0.95        55\n",
      "           1       0.98      0.95      0.97        88\n",
      "\n",
      "    accuracy                           0.96       143\n",
      "   macro avg       0.95      0.96      0.96       143\n",
      "weighted avg       0.96      0.96      0.96       143\n",
      "\n",
      "[[53  2]\n",
      " [ 4 84]]\n"
     ]
    }
   ],
   "source": [
    "from sklearn.ensemble import RandomForestClassifier\n",
    "rfc = RandomForestClassifier(n_estimators=10,criterion='entropy',random_state=0)\n",
    "rfc.fit(X_train,y_train)\n",
    "predictions = rfc.predict(X_test)\n",
    "print(classification_report(y_test,predictions))\n",
    "print(confusion_matrix(y_test,predictions))"
   ]
  },
  {
   "cell_type": "code",
   "execution_count": 41,
   "metadata": {},
   "outputs": [],
   "source": [
    "#find the best tree value\n",
    "error_rate = []\n",
    "\n",
    "for i in range(1,40):\n",
    "    rfc = RandomForestClassifier(n_estimators=i,criterion='entropy',random_state=0)\n",
    "    rfc.fit(X_train,y_train)\n",
    "    pred_i = rfc.predict(X_train)\n",
    "    error_rate.append(np.mean(pred_i != y_train))"
   ]
  },
  {
   "cell_type": "code",
   "execution_count": 42,
   "metadata": {},
   "outputs": [
    {
     "data": {
      "text/plain": [
       "Text(0, 0.5, 'Error Rate')"
      ]
     },
     "execution_count": 42,
     "metadata": {},
     "output_type": "execute_result"
    },
    {
     "data": {
      "image/png": "[encoded data removed]",
      "text/plain": [
       "<Figure size 1000x600 with 1 Axes>"
      ]
     },
     "metadata": {},
     "output_type": "display_data"
    }
   ],
   "source": [
    "plt.figure(figsize=(10,6))\n",
    "plt.plot(range(1,40),error_rate,color='blue', linestyle='dashed', marker='o',\n",
    "         markerfacecolor='yellow', markersize=10)\n",
    "plt.title('Error Rate vs. K Value')\n",
    "plt.xlabel('K')\n",
    "plt.ylabel('Error Rate') #error rate decrease as the tree value increases"
   ]
  },
  {
   "cell_type": "code",
   "execution_count": 43,
   "metadata": {},
   "outputs": [
    {
     "name": "stdout",
     "output_type": "stream",
     "text": [
      "              precision    recall  f1-score   support\n",
      "\n",
      "           0       0.93      0.98      0.96        55\n",
      "           1       0.99      0.95      0.97        88\n",
      "\n",
      "    accuracy                           0.97       143\n",
      "   macro avg       0.96      0.97      0.96       143\n",
      "weighted avg       0.97      0.97      0.97       143\n",
      "\n",
      "[[54  1]\n",
      " [ 4 84]]\n"
     ]
    }
   ],
   "source": [
    "rfc = RandomForestClassifier(n_estimators=12,criterion='entropy',random_state=0)\n",
    "rfc.fit(X_train,y_train)\n",
    "predictions = rfc.predict(X_test)\n",
    "print(classification_report(y_test,predictions))\n",
    "print(confusion_matrix(y_test,predictions))"
   ]
  },
  {
   "cell_type": "code",
   "execution_count": 44,
   "metadata": {},
   "outputs": [],
   "source": [
    "accuracy['Random Forest Classifier']=accuracy_score(predictions,y_test)"
   ]
  },
  {
   "cell_type": "markdown",
   "metadata": {},
   "source": [
    "### Ada Boosting"
   ]
  },
  {
   "cell_type": "code",
   "execution_count": 45,
   "metadata": {},
   "outputs": [
    {
     "name": "stdout",
     "output_type": "stream",
     "text": [
      "              precision    recall  f1-score   support\n",
      "\n",
      "           0       0.93      0.89      0.91        57\n",
      "           1       0.93      0.95      0.94        86\n",
      "\n",
      "    accuracy                           0.93       143\n",
      "   macro avg       0.93      0.92      0.93       143\n",
      "weighted avg       0.93      0.93      0.93       143\n",
      "\n",
      "[[51  6]\n",
      " [ 4 82]]\n"
     ]
    }
   ],
   "source": [
    "from sklearn.ensemble import AdaBoostClassifier\n",
    "clf=DecisionTreeClassifier(criterion='entropy',random_state=0) #lowest accuracy score\n",
    "abc=AdaBoostClassifier(n_estimators=100,learning_rate=1,base_estimator=clf)\n",
    "model=abc.fit(X_train,y_train)\n",
    "y_pred=model.predict(X_test)\n",
    "print(classification_report(y_pred,y_test))\n",
    "print(confusion_matrix(y_pred,y_test))"
   ]
  },
  {
   "cell_type": "code",
   "execution_count": 46,
   "metadata": {},
   "outputs": [],
   "source": [
    "accuracy['AdaBoosting']=accuracy_score(y_pred,y_test)"
   ]
  },
  {
   "cell_type": "markdown",
   "metadata": {},
   "source": [
    "### Bagging Classfier"
   ]
  },
  {
   "cell_type": "code",
   "execution_count": 47,
   "metadata": {},
   "outputs": [
    {
     "name": "stdout",
     "output_type": "stream",
     "text": [
      "              precision    recall  f1-score   support\n",
      "\n",
      "           0       0.96      0.96      0.96        55\n",
      "           1       0.98      0.98      0.98        88\n",
      "\n",
      "    accuracy                           0.97       143\n",
      "   macro avg       0.97      0.97      0.97       143\n",
      "weighted avg       0.97      0.97      0.97       143\n",
      "\n",
      "[[53  2]\n",
      " [ 2 86]]\n"
     ]
    }
   ],
   "source": [
    "from sklearn.ensemble import BaggingClassifier\n",
    "cart=DecisionTreeClassifier()\n",
    "num_trees=100\n",
    "model=BaggingClassifier(base_estimator=cart,n_estimators=num_trees,random_state=7)\n",
    "model.fit(X_train,y_train)\n",
    "y_pred=model.predict(X_test)\n",
    "print(classification_report(y_test,y_pred))\n",
    "print(confusion_matrix(y_test,y_pred))\n",
    "accuracy['Bagging']=accuracy_score(y_pred,y_test)"
   ]
  },
  {
   "cell_type": "code",
   "execution_count": 46,
   "metadata": {},
   "outputs": [
    {
     "data": {
      "text/plain": [
       "{'Logistic Regression': 0.972027972027972,\n",
       " 'KNN': 0.9370629370629371,\n",
       " 'Naive Bayes': 0.9300699300699301,\n",
       " 'Decision Tree': 0.9300699300699301,\n",
       " 'Random Forest Classifier': 0.965034965034965,\n",
       " 'AdaBoosting': 0.9440559440559441,\n",
       " 'Bagging': 0.972027972027972}"
      ]
     },
     "execution_count": 46,
     "metadata": {},
     "output_type": "execute_result"
    }
   ],
   "source": [
    "accuracy"
   ]
  },
  {
   "cell_type": "markdown",
   "metadata": {},
   "source": [
    "## Creating the Model\n",
    "\n",
    "## For a binary classification problem\n",
    "    model.compile(optimizer='rmsprop',\n",
    "                  loss='binary_crossentropy',\n",
    "                  metrics=['accuracy'])\n",
    "                  \n",
    "    "
   ]
  },
  {
   "cell_type": "code",
   "execution_count": 1,
   "metadata": {},
   "outputs": [],
   "source": [
    "import tensorflow as tf\n",
    "from tensorflow.keras.models import Sequential\n",
    "from tensorflow.keras.layers import Dense, Activation,Dropout"
   ]
  },
  {
   "cell_type": "code",
   "execution_count": 48,
   "metadata": {},
   "outputs": [
    {
     "data": {
      "text/plain": [
       "(426, 30)"
      ]
     },
     "execution_count": 48,
     "metadata": {},
     "output_type": "execute_result"
    }
   ],
   "source": [
    "X_train.shape"
   ]
  },
  {
   "cell_type": "code",
   "execution_count": 49,
   "metadata": {},
   "outputs": [],
   "source": [
    "model = Sequential()\n",
    "\n",
    "# https://stats.stackexchange.com/questions/181/how-to-choose-the-number-of-hidden-layers-and-nodes-in-a-feedforward-neural-netw\n",
    "\n",
    "model.add(Dense(units=30,activation='relu'))\n",
    "\n",
    "model.add(Dense(units=15,activation='relu'))\n",
    "\n",
    "model.add(Dense(units=1,activation='sigmoid'))\n",
    "\n",
    "# For a binary classification problem\n",
    "model.compile(loss='binary_crossentropy', optimizer='adam')"
   ]
  },
  {
   "cell_type": "code",
   "execution_count": 50,
   "metadata": {},
   "outputs": [
    {
     "name": "stdout",
     "output_type": "stream",
     "text": [
      "Epoch 1/600\n",
      "14/14 [==============================] - 5s 32ms/step - loss: 0.6850 - val_loss: 0.6621\n",
      "Epoch 2/600\n",
      "14/14 [==============================] - 0s 4ms/step - loss: 0.6462 - val_loss: 0.6252\n",
      "Epoch 3/600\n",
      "14/14 [==============================] - 0s 5ms/step - loss: 0.6057 - val_loss: 0.5802\n",
      "Epoch 4/600\n",
      "14/14 [==============================] - 0s 4ms/step - loss: 0.5587 - val_loss: 0.5299\n",
      "Epoch 5/600\n",
      "14/14 [==============================] - 0s 4ms/step - loss: 0.5085 - val_loss: 0.4793\n",
      "Epoch 6/600\n",
      "14/14 [==============================] - 0s 4ms/step - loss: 0.4593 - val_loss: 0.4296\n",
      "Epoch 7/600\n",
      "14/14 [==============================] - 0s 4ms/step - loss: 0.4141 - val_loss: 0.3869\n",
      "Epoch 8/600\n",
      "14/14 [==============================] - 0s 5ms/step - loss: 0.3718 - val_loss: 0.3465\n",
      "Epoch 9/600\n",
      "14/14 [==============================] - 0s 4ms/step - loss: 0.3334 - val_loss: 0.3136\n",
      "Epoch 10/600\n",
      "14/14 [==============================] - 0s 5ms/step - loss: 0.3034 - val_loss: 0.2823\n",
      "Epoch 11/600\n",
      "14/14 [==============================] - 0s 4ms/step - loss: 0.2750 - val_loss: 0.2596\n",
      "Epoch 12/600\n",
      "14/14 [==============================] - 0s 4ms/step - loss: 0.2530 - val_loss: 0.2393\n",
      "Epoch 13/600\n",
      "14/14 [==============================] - 0s 5ms/step - loss: 0.2350 - val_loss: 0.2279\n",
      "Epoch 14/600\n",
      "14/14 [==============================] - 0s 4ms/step - loss: 0.2223 - val_loss: 0.2117\n",
      "Epoch 15/600\n",
      "14/14 [==============================] - 0s 5ms/step - loss: 0.2070 - val_loss: 0.2051\n",
      "Epoch 16/600\n",
      "14/14 [==============================] - 0s 5ms/step - loss: 0.1968 - val_loss: 0.1923\n",
      "Epoch 17/600\n",
      "14/14 [==============================] - 0s 5ms/step - loss: 0.1867 - val_loss: 0.1854\n",
      "Epoch 18/600\n",
      "14/14 [==============================] - 0s 5ms/step - loss: 0.1762 - val_loss: 0.1767\n",
      "Epoch 19/600\n",
      "14/14 [==============================] - 0s 5ms/step - loss: 0.1697 - val_loss: 0.1740\n",
      "Epoch 20/600\n",
      "14/14 [==============================] - 0s 4ms/step - loss: 0.1615 - val_loss: 0.1652\n",
      "Epoch 21/600\n",
      "14/14 [==============================] - 0s 5ms/step - loss: 0.1558 - val_loss: 0.1641\n",
      "Epoch 22/600\n",
      "14/14 [==============================] - 0s 6ms/step - loss: 0.1507 - val_loss: 0.1575\n",
      "Epoch 23/600\n",
      "14/14 [==============================] - 0s 5ms/step - loss: 0.1431 - val_loss: 0.1567\n",
      "Epoch 24/600\n",
      "14/14 [==============================] - 0s 5ms/step - loss: 0.1360 - val_loss: 0.1518\n",
      "Epoch 25/600\n",
      "14/14 [==============================] - 0s 4ms/step - loss: 0.1314 - val_loss: 0.1489\n",
      "Epoch 26/600\n",
      "14/14 [==============================] - 0s 5ms/step - loss: 0.1265 - val_loss: 0.1472\n",
      "Epoch 27/600\n",
      "14/14 [==============================] - 0s 4ms/step - loss: 0.1215 - val_loss: 0.1434\n",
      "Epoch 28/600\n",
      "14/14 [==============================] - 0s 5ms/step - loss: 0.1172 - val_loss: 0.1416\n",
      "Epoch 29/600\n",
      "14/14 [==============================] - 0s 5ms/step - loss: 0.1131 - val_loss: 0.1421\n",
      "Epoch 30/600\n",
      "14/14 [==============================] - 0s 5ms/step - loss: 0.1114 - val_loss: 0.1386\n",
      "Epoch 31/600\n",
      "14/14 [==============================] - 0s 4ms/step - loss: 0.1050 - val_loss: 0.1386\n",
      "Epoch 32/600\n",
      "14/14 [==============================] - 0s 5ms/step - loss: 0.1027 - val_loss: 0.1332\n",
      "Epoch 33/600\n",
      "14/14 [==============================] - 0s 4ms/step - loss: 0.1001 - val_loss: 0.1355\n",
      "Epoch 34/600\n",
      "14/14 [==============================] - 0s 4ms/step - loss: 0.0960 - val_loss: 0.1314\n",
      "Epoch 35/600\n",
      "14/14 [==============================] - 0s 4ms/step - loss: 0.0969 - val_loss: 0.1333\n",
      "Epoch 36/600\n",
      "14/14 [==============================] - 0s 5ms/step - loss: 0.0911 - val_loss: 0.1318\n",
      "Epoch 37/600\n",
      "14/14 [==============================] - 0s 5ms/step - loss: 0.0893 - val_loss: 0.1318\n",
      "Epoch 38/600\n",
      "14/14 [==============================] - 0s 5ms/step - loss: 0.0867 - val_loss: 0.1305\n",
      "Epoch 39/600\n",
      "14/14 [==============================] - 0s 5ms/step - loss: 0.0842 - val_loss: 0.1289\n",
      "Epoch 40/600\n",
      "14/14 [==============================] - 0s 5ms/step - loss: 0.0825 - val_loss: 0.1303\n",
      "Epoch 41/600\n",
      "14/14 [==============================] - 0s 4ms/step - loss: 0.0812 - val_loss: 0.1284\n",
      "Epoch 42/600\n",
      "14/14 [==============================] - 0s 5ms/step - loss: 0.0796 - val_loss: 0.1296\n",
      "Epoch 43/600\n",
      "14/14 [==============================] - 0s 4ms/step - loss: 0.0789 - val_loss: 0.1296\n",
      "Epoch 44/600\n",
      "14/14 [==============================] - 0s 4ms/step - loss: 0.0765 - val_loss: 0.1281\n",
      "Epoch 45/600\n",
      "14/14 [==============================] - 0s 4ms/step - loss: 0.0754 - val_loss: 0.1287\n",
      "Epoch 46/600\n",
      "14/14 [==============================] - 0s 4ms/step - loss: 0.0734 - val_loss: 0.1257\n",
      "Epoch 47/600\n",
      "14/14 [==============================] - 0s 4ms/step - loss: 0.0717 - val_loss: 0.1312\n",
      "Epoch 48/600\n",
      "14/14 [==============================] - 0s 4ms/step - loss: 0.0713 - val_loss: 0.1255\n",
      "Epoch 49/600\n",
      "14/14 [==============================] - 0s 4ms/step - loss: 0.0699 - val_loss: 0.1252\n",
      "Epoch 50/600\n",
      "14/14 [==============================] - 0s 5ms/step - loss: 0.0708 - val_loss: 0.1304\n",
      "Epoch 51/600\n",
      "14/14 [==============================] - 0s 5ms/step - loss: 0.0711 - val_loss: 0.1277\n",
      "Epoch 52/600\n",
      "14/14 [==============================] - 0s 4ms/step - loss: 0.0674 - val_loss: 0.1258\n",
      "Epoch 53/600\n",
      "14/14 [==============================] - 0s 4ms/step - loss: 0.0667 - val_loss: 0.1261\n",
      "Epoch 54/600\n",
      "14/14 [==============================] - 0s 4ms/step - loss: 0.0667 - val_loss: 0.1273\n",
      "Epoch 55/600\n",
      "14/14 [==============================] - 0s 5ms/step - loss: 0.0649 - val_loss: 0.1250\n",
      "Epoch 56/600\n",
      "14/14 [==============================] - 0s 5ms/step - loss: 0.0646 - val_loss: 0.1257\n",
      "Epoch 57/600\n",
      "14/14 [==============================] - 0s 4ms/step - loss: 0.0640 - val_loss: 0.1271\n",
      "Epoch 58/600\n",
      "14/14 [==============================] - 0s 5ms/step - loss: 0.0641 - val_loss: 0.1289\n",
      "Epoch 59/600\n",
      "14/14 [==============================] - 0s 4ms/step - loss: 0.0639 - val_loss: 0.1246\n",
      "Epoch 60/600\n",
      "14/14 [==============================] - 0s 4ms/step - loss: 0.0634 - val_loss: 0.1257\n",
      "Epoch 61/600\n",
      "14/14 [==============================] - 0s 4ms/step - loss: 0.0612 - val_loss: 0.1276\n",
      "Epoch 62/600\n",
      "14/14 [==============================] - 0s 4ms/step - loss: 0.0606 - val_loss: 0.1312\n",
      "Epoch 63/600\n",
      "14/14 [==============================] - 0s 4ms/step - loss: 0.0606 - val_loss: 0.1279\n",
      "Epoch 64/600\n",
      "14/14 [==============================] - 0s 4ms/step - loss: 0.0595 - val_loss: 0.1251\n",
      "Epoch 65/600\n",
      "14/14 [==============================] - 0s 4ms/step - loss: 0.0605 - val_loss: 0.1295\n",
      "Epoch 66/600\n",
      "14/14 [==============================] - 0s 5ms/step - loss: 0.0626 - val_loss: 0.1239\n",
      "Epoch 67/600\n",
      "14/14 [==============================] - 0s 5ms/step - loss: 0.0644 - val_loss: 0.1308\n",
      "Epoch 68/600\n",
      "14/14 [==============================] - 0s 5ms/step - loss: 0.0581 - val_loss: 0.1291\n",
      "Epoch 69/600\n",
      "14/14 [==============================] - 0s 5ms/step - loss: 0.0622 - val_loss: 0.1313\n",
      "Epoch 70/600\n",
      "14/14 [==============================] - 0s 5ms/step - loss: 0.0732 - val_loss: 0.1241\n",
      "Epoch 71/600\n",
      "14/14 [==============================] - 0s 5ms/step - loss: 0.0621 - val_loss: 0.1268\n",
      "Epoch 72/600\n",
      "14/14 [==============================] - 0s 5ms/step - loss: 0.0597 - val_loss: 0.1291\n",
      "Epoch 73/600\n",
      "14/14 [==============================] - 0s 4ms/step - loss: 0.0560 - val_loss: 0.1278\n",
      "Epoch 74/600\n",
      "14/14 [==============================] - 0s 5ms/step - loss: 0.0561 - val_loss: 0.1303\n",
      "Epoch 75/600\n",
      "14/14 [==============================] - 0s 4ms/step - loss: 0.0570 - val_loss: 0.1283\n",
      "Epoch 76/600\n",
      "14/14 [==============================] - 0s 4ms/step - loss: 0.0576 - val_loss: 0.1274\n",
      "Epoch 77/600\n",
      "14/14 [==============================] - 0s 4ms/step - loss: 0.0560 - val_loss: 0.1363\n",
      "Epoch 78/600\n",
      "14/14 [==============================] - 0s 5ms/step - loss: 0.0566 - val_loss: 0.1288\n",
      "Epoch 79/600\n",
      "14/14 [==============================] - 0s 5ms/step - loss: 0.0561 - val_loss: 0.1400\n",
      "Epoch 80/600\n",
      "14/14 [==============================] - 0s 5ms/step - loss: 0.0572 - val_loss: 0.1247\n",
      "Epoch 81/600\n",
      "14/14 [==============================] - 0s 5ms/step - loss: 0.0560 - val_loss: 0.1365\n",
      "Epoch 82/600\n",
      "14/14 [==============================] - 0s 5ms/step - loss: 0.0538 - val_loss: 0.1296\n",
      "Epoch 83/600\n"
     ]
    },
    {
     "name": "stdout",
     "output_type": "stream",
     "text": [
      "14/14 [==============================] - 0s 5ms/step - loss: 0.0538 - val_loss: 0.1300\n",
      "Epoch 84/600\n",
      "14/14 [==============================] - 0s 5ms/step - loss: 0.0540 - val_loss: 0.1319\n",
      "Epoch 85/600\n",
      "14/14 [==============================] - 0s 5ms/step - loss: 0.0540 - val_loss: 0.1341\n",
      "Epoch 86/600\n",
      "14/14 [==============================] - 0s 5ms/step - loss: 0.0537 - val_loss: 0.1299\n",
      "Epoch 87/600\n",
      "14/14 [==============================] - 0s 6ms/step - loss: 0.0542 - val_loss: 0.1284\n",
      "Epoch 88/600\n",
      "14/14 [==============================] - 0s 5ms/step - loss: 0.0526 - val_loss: 0.1312\n",
      "Epoch 89/600\n",
      "14/14 [==============================] - 0s 5ms/step - loss: 0.0515 - val_loss: 0.1351\n",
      "Epoch 90/600\n",
      "14/14 [==============================] - 0s 5ms/step - loss: 0.0507 - val_loss: 0.1303\n",
      "Epoch 91/600\n",
      "14/14 [==============================] - 0s 5ms/step - loss: 0.0518 - val_loss: 0.1286\n",
      "Epoch 92/600\n",
      "14/14 [==============================] - 0s 5ms/step - loss: 0.0518 - val_loss: 0.1407\n",
      "Epoch 93/600\n",
      "14/14 [==============================] - 0s 5ms/step - loss: 0.0510 - val_loss: 0.1334\n",
      "Epoch 94/600\n",
      "14/14 [==============================] - 0s 5ms/step - loss: 0.0499 - val_loss: 0.1348\n",
      "Epoch 95/600\n",
      "14/14 [==============================] - 0s 5ms/step - loss: 0.0508 - val_loss: 0.1319\n",
      "Epoch 96/600\n",
      "14/14 [==============================] - 0s 5ms/step - loss: 0.0506 - val_loss: 0.1313\n",
      "Epoch 97/600\n",
      "14/14 [==============================] - 0s 5ms/step - loss: 0.0500 - val_loss: 0.1411\n",
      "Epoch 98/600\n",
      "14/14 [==============================] - 0s 5ms/step - loss: 0.0531 - val_loss: 0.1362\n",
      "Epoch 99/600\n",
      "14/14 [==============================] - 0s 5ms/step - loss: 0.0535 - val_loss: 0.1333\n",
      "Epoch 100/600\n",
      "14/14 [==============================] - 0s 5ms/step - loss: 0.0564 - val_loss: 0.1392\n",
      "Epoch 101/600\n",
      "14/14 [==============================] - 0s 4ms/step - loss: 0.0548 - val_loss: 0.1313\n",
      "Epoch 102/600\n",
      "14/14 [==============================] - 0s 5ms/step - loss: 0.0542 - val_loss: 0.1402\n",
      "Epoch 103/600\n",
      "14/14 [==============================] - 0s 4ms/step - loss: 0.0506 - val_loss: 0.1326\n",
      "Epoch 104/600\n",
      "14/14 [==============================] - 0s 5ms/step - loss: 0.0485 - val_loss: 0.1376\n",
      "Epoch 105/600\n",
      "14/14 [==============================] - 0s 5ms/step - loss: 0.0481 - val_loss: 0.1347\n",
      "Epoch 106/600\n",
      "14/14 [==============================] - 0s 5ms/step - loss: 0.0488 - val_loss: 0.1407\n",
      "Epoch 107/600\n",
      "14/14 [==============================] - 0s 5ms/step - loss: 0.0521 - val_loss: 0.1378\n",
      "Epoch 108/600\n",
      "14/14 [==============================] - 0s 5ms/step - loss: 0.0519 - val_loss: 0.1361\n",
      "Epoch 109/600\n",
      "14/14 [==============================] - 0s 5ms/step - loss: 0.0535 - val_loss: 0.1426\n",
      "Epoch 110/600\n",
      "14/14 [==============================] - 0s 5ms/step - loss: 0.0546 - val_loss: 0.1316\n",
      "Epoch 111/600\n",
      "14/14 [==============================] - 0s 5ms/step - loss: 0.0467 - val_loss: 0.1448\n",
      "Epoch 112/600\n",
      "14/14 [==============================] - 0s 4ms/step - loss: 0.0514 - val_loss: 0.1357\n",
      "Epoch 113/600\n",
      "14/14 [==============================] - 0s 4ms/step - loss: 0.0513 - val_loss: 0.1423\n",
      "Epoch 114/600\n",
      "14/14 [==============================] - 0s 5ms/step - loss: 0.0460 - val_loss: 0.1414\n",
      "Epoch 115/600\n",
      "14/14 [==============================] - 0s 5ms/step - loss: 0.0466 - val_loss: 0.1365\n",
      "Epoch 116/600\n",
      "14/14 [==============================] - 0s 4ms/step - loss: 0.0511 - val_loss: 0.1389\n",
      "Epoch 117/600\n",
      "14/14 [==============================] - 0s 4ms/step - loss: 0.0541 - val_loss: 0.1385\n",
      "Epoch 118/600\n",
      "14/14 [==============================] - 0s 4ms/step - loss: 0.0451 - val_loss: 0.1443\n",
      "Epoch 119/600\n",
      "14/14 [==============================] - 0s 5ms/step - loss: 0.0451 - val_loss: 0.1361\n",
      "Epoch 120/600\n",
      "14/14 [==============================] - 0s 5ms/step - loss: 0.0499 - val_loss: 0.1466\n",
      "Epoch 121/600\n",
      "14/14 [==============================] - 0s 4ms/step - loss: 0.0451 - val_loss: 0.1343\n",
      "Epoch 122/600\n",
      "14/14 [==============================] - 0s 4ms/step - loss: 0.0445 - val_loss: 0.1333\n",
      "Epoch 123/600\n",
      "14/14 [==============================] - 0s 4ms/step - loss: 0.0444 - val_loss: 0.1418\n",
      "Epoch 124/600\n",
      "14/14 [==============================] - 0s 5ms/step - loss: 0.0443 - val_loss: 0.1392\n",
      "Epoch 125/600\n",
      "14/14 [==============================] - 0s 4ms/step - loss: 0.0440 - val_loss: 0.1376\n",
      "Epoch 126/600\n",
      "14/14 [==============================] - 0s 4ms/step - loss: 0.0436 - val_loss: 0.1376\n",
      "Epoch 127/600\n",
      "14/14 [==============================] - 0s 4ms/step - loss: 0.0445 - val_loss: 0.1373\n",
      "Epoch 128/600\n",
      "14/14 [==============================] - 0s 4ms/step - loss: 0.0431 - val_loss: 0.1395\n",
      "Epoch 129/600\n",
      "14/14 [==============================] - 0s 5ms/step - loss: 0.0431 - val_loss: 0.1359\n",
      "Epoch 130/600\n",
      "14/14 [==============================] - 0s 5ms/step - loss: 0.0455 - val_loss: 0.1370\n",
      "Epoch 131/600\n",
      "14/14 [==============================] - 0s 4ms/step - loss: 0.0449 - val_loss: 0.1383\n",
      "Epoch 132/600\n",
      "14/14 [==============================] - 0s 4ms/step - loss: 0.0424 - val_loss: 0.1348\n",
      "Epoch 133/600\n",
      "14/14 [==============================] - 0s 5ms/step - loss: 0.0428 - val_loss: 0.1409\n",
      "Epoch 134/600\n",
      "14/14 [==============================] - 0s 4ms/step - loss: 0.0435 - val_loss: 0.1431\n",
      "Epoch 135/600\n",
      "14/14 [==============================] - 0s 4ms/step - loss: 0.0453 - val_loss: 0.1447\n",
      "Epoch 136/600\n",
      "14/14 [==============================] - 0s 4ms/step - loss: 0.0569 - val_loss: 0.1363\n",
      "Epoch 137/600\n",
      "14/14 [==============================] - 0s 4ms/step - loss: 0.0482 - val_loss: 0.1434\n",
      "Epoch 138/600\n",
      "14/14 [==============================] - 0s 4ms/step - loss: 0.0526 - val_loss: 0.1308\n",
      "Epoch 139/600\n",
      "14/14 [==============================] - 0s 4ms/step - loss: 0.0438 - val_loss: 0.1429\n",
      "Epoch 140/600\n",
      "14/14 [==============================] - 0s 4ms/step - loss: 0.0426 - val_loss: 0.1338\n",
      "Epoch 141/600\n",
      "14/14 [==============================] - 0s 4ms/step - loss: 0.0413 - val_loss: 0.1369\n",
      "Epoch 142/600\n",
      "14/14 [==============================] - 0s 4ms/step - loss: 0.0411 - val_loss: 0.1371\n",
      "Epoch 143/600\n",
      "14/14 [==============================] - 0s 5ms/step - loss: 0.0408 - val_loss: 0.1375\n",
      "Epoch 144/600\n",
      "14/14 [==============================] - 0s 4ms/step - loss: 0.0407 - val_loss: 0.1393\n",
      "Epoch 145/600\n",
      "14/14 [==============================] - 0s 4ms/step - loss: 0.0414 - val_loss: 0.1393\n",
      "Epoch 146/600\n",
      "14/14 [==============================] - 0s 4ms/step - loss: 0.0405 - val_loss: 0.1389\n",
      "Epoch 147/600\n",
      "14/14 [==============================] - 0s 4ms/step - loss: 0.0416 - val_loss: 0.1427\n",
      "Epoch 148/600\n",
      "14/14 [==============================] - 0s 5ms/step - loss: 0.0394 - val_loss: 0.1368\n",
      "Epoch 149/600\n",
      "14/14 [==============================] - 0s 5ms/step - loss: 0.0430 - val_loss: 0.1411\n",
      "Epoch 150/600\n",
      "14/14 [==============================] - 0s 4ms/step - loss: 0.0413 - val_loss: 0.1422\n",
      "Epoch 151/600\n",
      "14/14 [==============================] - 0s 5ms/step - loss: 0.0430 - val_loss: 0.1440\n",
      "Epoch 152/600\n",
      "14/14 [==============================] - 0s 4ms/step - loss: 0.0406 - val_loss: 0.1391\n",
      "Epoch 153/600\n",
      "14/14 [==============================] - 0s 4ms/step - loss: 0.0403 - val_loss: 0.1382\n",
      "Epoch 154/600\n",
      "14/14 [==============================] - 0s 5ms/step - loss: 0.0397 - val_loss: 0.1449\n",
      "Epoch 155/600\n",
      "14/14 [==============================] - 0s 4ms/step - loss: 0.0403 - val_loss: 0.1431\n",
      "Epoch 156/600\n",
      "14/14 [==============================] - 0s 5ms/step - loss: 0.0404 - val_loss: 0.1383\n",
      "Epoch 157/600\n",
      "14/14 [==============================] - 0s 5ms/step - loss: 0.0389 - val_loss: 0.1452\n",
      "Epoch 158/600\n",
      "14/14 [==============================] - 0s 4ms/step - loss: 0.0388 - val_loss: 0.1389\n",
      "Epoch 159/600\n",
      "14/14 [==============================] - 0s 4ms/step - loss: 0.0393 - val_loss: 0.1428\n",
      "Epoch 160/600\n",
      "14/14 [==============================] - 0s 4ms/step - loss: 0.0391 - val_loss: 0.1432\n",
      "Epoch 161/600\n",
      "14/14 [==============================] - 0s 4ms/step - loss: 0.0390 - val_loss: 0.1377\n",
      "Epoch 162/600\n",
      "14/14 [==============================] - 0s 4ms/step - loss: 0.0386 - val_loss: 0.1484\n",
      "Epoch 163/600\n",
      "14/14 [==============================] - 0s 4ms/step - loss: 0.0449 - val_loss: 0.1391\n",
      "Epoch 164/600\n"
     ]
    },
    {
     "name": "stdout",
     "output_type": "stream",
     "text": [
      "14/14 [==============================] - 0s 4ms/step - loss: 0.0400 - val_loss: 0.1372\n",
      "Epoch 165/600\n",
      "14/14 [==============================] - 0s 4ms/step - loss: 0.0385 - val_loss: 0.1448\n",
      "Epoch 166/600\n",
      "14/14 [==============================] - 0s 4ms/step - loss: 0.0372 - val_loss: 0.1341\n",
      "Epoch 167/600\n",
      "14/14 [==============================] - 0s 4ms/step - loss: 0.0378 - val_loss: 0.1456\n",
      "Epoch 168/600\n",
      "14/14 [==============================] - 0s 5ms/step - loss: 0.0366 - val_loss: 0.1341\n",
      "Epoch 169/600\n",
      "14/14 [==============================] - 0s 4ms/step - loss: 0.0369 - val_loss: 0.1413\n",
      "Epoch 170/600\n",
      "14/14 [==============================] - 0s 4ms/step - loss: 0.0384 - val_loss: 0.1379\n",
      "Epoch 171/600\n",
      "14/14 [==============================] - 0s 4ms/step - loss: 0.0365 - val_loss: 0.1388\n",
      "Epoch 172/600\n",
      "14/14 [==============================] - 0s 4ms/step - loss: 0.0365 - val_loss: 0.1456\n",
      "Epoch 173/600\n",
      "14/14 [==============================] - 0s 4ms/step - loss: 0.0361 - val_loss: 0.1432\n",
      "Epoch 174/600\n",
      "14/14 [==============================] - 0s 4ms/step - loss: 0.0365 - val_loss: 0.1446\n",
      "Epoch 175/600\n",
      "14/14 [==============================] - 0s 4ms/step - loss: 0.0376 - val_loss: 0.1453\n",
      "Epoch 176/600\n",
      "14/14 [==============================] - 0s 4ms/step - loss: 0.0379 - val_loss: 0.1470\n",
      "Epoch 177/600\n",
      "14/14 [==============================] - 0s 4ms/step - loss: 0.0351 - val_loss: 0.1386\n",
      "Epoch 178/600\n",
      "14/14 [==============================] - 0s 5ms/step - loss: 0.0370 - val_loss: 0.1502\n",
      "Epoch 179/600\n",
      "14/14 [==============================] - 0s 5ms/step - loss: 0.0352 - val_loss: 0.1401\n",
      "Epoch 180/600\n",
      "14/14 [==============================] - 0s 4ms/step - loss: 0.0351 - val_loss: 0.1420\n",
      "Epoch 181/600\n",
      "14/14 [==============================] - 0s 4ms/step - loss: 0.0355 - val_loss: 0.1394\n",
      "Epoch 182/600\n",
      "14/14 [==============================] - 0s 4ms/step - loss: 0.0358 - val_loss: 0.1370\n",
      "Epoch 183/600\n",
      "14/14 [==============================] - 0s 4ms/step - loss: 0.0372 - val_loss: 0.1416\n",
      "Epoch 184/600\n",
      "14/14 [==============================] - 0s 4ms/step - loss: 0.0368 - val_loss: 0.1388\n",
      "Epoch 185/600\n",
      "14/14 [==============================] - 0s 4ms/step - loss: 0.0344 - val_loss: 0.1490\n",
      "Epoch 186/600\n",
      "14/14 [==============================] - 0s 4ms/step - loss: 0.0366 - val_loss: 0.1419\n",
      "Epoch 187/600\n",
      "14/14 [==============================] - 0s 4ms/step - loss: 0.0347 - val_loss: 0.1437\n",
      "Epoch 188/600\n",
      "14/14 [==============================] - 0s 4ms/step - loss: 0.0349 - val_loss: 0.1405\n",
      "Epoch 189/600\n",
      "14/14 [==============================] - 0s 4ms/step - loss: 0.0342 - val_loss: 0.1483\n",
      "Epoch 190/600\n",
      "14/14 [==============================] - 0s 4ms/step - loss: 0.0359 - val_loss: 0.1444\n",
      "Epoch 191/600\n",
      "14/14 [==============================] - 0s 4ms/step - loss: 0.0354 - val_loss: 0.1386\n",
      "Epoch 192/600\n",
      "14/14 [==============================] - 0s 4ms/step - loss: 0.0375 - val_loss: 0.1373\n",
      "Epoch 193/600\n",
      "14/14 [==============================] - 0s 5ms/step - loss: 0.0370 - val_loss: 0.1448\n",
      "Epoch 194/600\n",
      "14/14 [==============================] - 0s 5ms/step - loss: 0.0343 - val_loss: 0.1398\n",
      "Epoch 195/600\n",
      "14/14 [==============================] - 0s 4ms/step - loss: 0.0328 - val_loss: 0.1463\n",
      "Epoch 196/600\n",
      "14/14 [==============================] - 0s 4ms/step - loss: 0.0348 - val_loss: 0.1465\n",
      "Epoch 197/600\n",
      "14/14 [==============================] - 0s 4ms/step - loss: 0.0349 - val_loss: 0.1424\n",
      "Epoch 198/600\n",
      "14/14 [==============================] - 0s 4ms/step - loss: 0.0373 - val_loss: 0.1497\n",
      "Epoch 199/600\n",
      "14/14 [==============================] - 0s 5ms/step - loss: 0.0364 - val_loss: 0.1448\n",
      "Epoch 200/600\n",
      "14/14 [==============================] - 0s 5ms/step - loss: 0.0336 - val_loss: 0.1468\n",
      "Epoch 201/600\n",
      "14/14 [==============================] - 0s 4ms/step - loss: 0.0382 - val_loss: 0.1445\n",
      "Epoch 202/600\n",
      "14/14 [==============================] - 0s 4ms/step - loss: 0.0336 - val_loss: 0.1431\n",
      "Epoch 203/600\n",
      "14/14 [==============================] - 0s 5ms/step - loss: 0.0333 - val_loss: 0.1526\n",
      "Epoch 204/600\n",
      "14/14 [==============================] - 0s 4ms/step - loss: 0.0348 - val_loss: 0.1397\n",
      "Epoch 205/600\n",
      "14/14 [==============================] - 0s 4ms/step - loss: 0.0373 - val_loss: 0.1438\n",
      "Epoch 206/600\n",
      "14/14 [==============================] - 0s 4ms/step - loss: 0.0369 - val_loss: 0.1415\n",
      "Epoch 207/600\n",
      "14/14 [==============================] - 0s 4ms/step - loss: 0.0352 - val_loss: 0.1433\n",
      "Epoch 208/600\n",
      "14/14 [==============================] - 0s 4ms/step - loss: 0.0313 - val_loss: 0.1351\n",
      "Epoch 209/600\n",
      "14/14 [==============================] - 0s 5ms/step - loss: 0.0318 - val_loss: 0.1601\n",
      "Epoch 210/600\n",
      "14/14 [==============================] - 0s 5ms/step - loss: 0.0364 - val_loss: 0.1377\n",
      "Epoch 211/600\n",
      "14/14 [==============================] - 0s 4ms/step - loss: 0.0333 - val_loss: 0.1431\n",
      "Epoch 212/600\n",
      "14/14 [==============================] - 0s 4ms/step - loss: 0.0314 - val_loss: 0.1391\n",
      "Epoch 213/600\n",
      "14/14 [==============================] - 0s 4ms/step - loss: 0.0309 - val_loss: 0.1432\n",
      "Epoch 214/600\n",
      "14/14 [==============================] - 0s 4ms/step - loss: 0.0364 - val_loss: 0.1450\n",
      "Epoch 215/600\n",
      "14/14 [==============================] - 0s 4ms/step - loss: 0.0312 - val_loss: 0.1481\n",
      "Epoch 216/600\n",
      "14/14 [==============================] - 0s 5ms/step - loss: 0.0313 - val_loss: 0.1459\n",
      "Epoch 217/600\n",
      "14/14 [==============================] - 0s 5ms/step - loss: 0.0303 - val_loss: 0.1392\n",
      "Epoch 218/600\n",
      "14/14 [==============================] - 0s 5ms/step - loss: 0.0313 - val_loss: 0.1506\n",
      "Epoch 219/600\n",
      "14/14 [==============================] - 0s 5ms/step - loss: 0.0321 - val_loss: 0.1365\n",
      "Epoch 220/600\n",
      "14/14 [==============================] - 0s 4ms/step - loss: 0.0327 - val_loss: 0.1429\n",
      "Epoch 221/600\n",
      "14/14 [==============================] - 0s 5ms/step - loss: 0.0296 - val_loss: 0.1475\n",
      "Epoch 222/600\n",
      "14/14 [==============================] - 0s 5ms/step - loss: 0.0300 - val_loss: 0.1405\n",
      "Epoch 223/600\n",
      "14/14 [==============================] - 0s 5ms/step - loss: 0.0296 - val_loss: 0.1467\n",
      "Epoch 224/600\n",
      "14/14 [==============================] - 0s 5ms/step - loss: 0.0295 - val_loss: 0.1438\n",
      "Epoch 225/600\n",
      "14/14 [==============================] - 0s 4ms/step - loss: 0.0293 - val_loss: 0.1445\n",
      "Epoch 226/600\n",
      "14/14 [==============================] - 0s 5ms/step - loss: 0.0293 - val_loss: 0.1508\n",
      "Epoch 227/600\n",
      "14/14 [==============================] - 0s 5ms/step - loss: 0.0294 - val_loss: 0.1387\n",
      "Epoch 228/600\n",
      "14/14 [==============================] - 0s 4ms/step - loss: 0.0296 - val_loss: 0.1452\n",
      "Epoch 229/600\n",
      "14/14 [==============================] - 0s 5ms/step - loss: 0.0309 - val_loss: 0.1475\n",
      "Epoch 230/600\n",
      "14/14 [==============================] - 0s 5ms/step - loss: 0.0286 - val_loss: 0.1419\n",
      "Epoch 231/600\n",
      "14/14 [==============================] - 0s 5ms/step - loss: 0.0282 - val_loss: 0.1472\n",
      "Epoch 232/600\n",
      "14/14 [==============================] - 0s 5ms/step - loss: 0.0284 - val_loss: 0.1460\n",
      "Epoch 233/600\n",
      "14/14 [==============================] - 0s 4ms/step - loss: 0.0291 - val_loss: 0.1387\n",
      "Epoch 234/600\n",
      "14/14 [==============================] - 0s 4ms/step - loss: 0.0302 - val_loss: 0.1470\n",
      "Epoch 235/600\n",
      "14/14 [==============================] - 0s 4ms/step - loss: 0.0286 - val_loss: 0.1421\n",
      "Epoch 236/600\n",
      "14/14 [==============================] - 0s 4ms/step - loss: 0.0289 - val_loss: 0.1456\n",
      "Epoch 237/600\n",
      "14/14 [==============================] - 0s 4ms/step - loss: 0.0315 - val_loss: 0.1432\n",
      "Epoch 238/600\n",
      "14/14 [==============================] - 0s 4ms/step - loss: 0.0309 - val_loss: 0.1470\n",
      "Epoch 239/600\n",
      "14/14 [==============================] - 0s 4ms/step - loss: 0.0300 - val_loss: 0.1455\n",
      "Epoch 240/600\n",
      "14/14 [==============================] - 0s 4ms/step - loss: 0.0297 - val_loss: 0.1463\n",
      "Epoch 241/600\n",
      "14/14 [==============================] - 0s 4ms/step - loss: 0.0346 - val_loss: 0.1468\n",
      "Epoch 242/600\n",
      "14/14 [==============================] - 0s 5ms/step - loss: 0.0328 - val_loss: 0.1353\n",
      "Epoch 243/600\n",
      "14/14 [==============================] - 0s 5ms/step - loss: 0.0400 - val_loss: 0.1513\n",
      "Epoch 244/600\n",
      "14/14 [==============================] - 0s 5ms/step - loss: 0.0308 - val_loss: 0.1431\n",
      "Epoch 245/600\n"
     ]
    },
    {
     "name": "stdout",
     "output_type": "stream",
     "text": [
      "14/14 [==============================] - 0s 5ms/step - loss: 0.0275 - val_loss: 0.1397\n",
      "Epoch 246/600\n",
      "14/14 [==============================] - 0s 5ms/step - loss: 0.0273 - val_loss: 0.1408\n",
      "Epoch 247/600\n",
      "14/14 [==============================] - 0s 5ms/step - loss: 0.0291 - val_loss: 0.1516\n",
      "Epoch 248/600\n",
      "14/14 [==============================] - 0s 5ms/step - loss: 0.0281 - val_loss: 0.1415\n",
      "Epoch 249/600\n",
      "14/14 [==============================] - 0s 5ms/step - loss: 0.0295 - val_loss: 0.1546\n",
      "Epoch 250/600\n",
      "14/14 [==============================] - 0s 5ms/step - loss: 0.0365 - val_loss: 0.1388\n",
      "Epoch 251/600\n",
      "14/14 [==============================] - 0s 5ms/step - loss: 0.0253 - val_loss: 0.1535\n",
      "Epoch 252/600\n",
      "14/14 [==============================] - 0s 5ms/step - loss: 0.0269 - val_loss: 0.1471\n",
      "Epoch 253/600\n",
      "14/14 [==============================] - 0s 5ms/step - loss: 0.0268 - val_loss: 0.1450\n",
      "Epoch 254/600\n",
      "14/14 [==============================] - 0s 5ms/step - loss: 0.0305 - val_loss: 0.1394\n",
      "Epoch 255/600\n",
      "14/14 [==============================] - 0s 5ms/step - loss: 0.0288 - val_loss: 0.1566\n",
      "Epoch 256/600\n",
      "14/14 [==============================] - 0s 5ms/step - loss: 0.0276 - val_loss: 0.1410\n",
      "Epoch 257/600\n",
      "14/14 [==============================] - 0s 5ms/step - loss: 0.0314 - val_loss: 0.1571\n",
      "Epoch 258/600\n",
      "14/14 [==============================] - 0s 4ms/step - loss: 0.0279 - val_loss: 0.1406\n",
      "Epoch 259/600\n",
      "14/14 [==============================] - 0s 4ms/step - loss: 0.0261 - val_loss: 0.1447\n",
      "Epoch 260/600\n",
      "14/14 [==============================] - 0s 4ms/step - loss: 0.0280 - val_loss: 0.1413\n",
      "Epoch 261/600\n",
      "14/14 [==============================] - 0s 4ms/step - loss: 0.0260 - val_loss: 0.1445\n",
      "Epoch 262/600\n",
      "14/14 [==============================] - 0s 5ms/step - loss: 0.0259 - val_loss: 0.1376\n",
      "Epoch 263/600\n",
      "14/14 [==============================] - 0s 4ms/step - loss: 0.0277 - val_loss: 0.1392\n",
      "Epoch 264/600\n",
      "14/14 [==============================] - 0s 4ms/step - loss: 0.0252 - val_loss: 0.1475\n",
      "Epoch 265/600\n",
      "14/14 [==============================] - 0s 4ms/step - loss: 0.0242 - val_loss: 0.1431\n",
      "Epoch 266/600\n",
      "14/14 [==============================] - 0s 4ms/step - loss: 0.0256 - val_loss: 0.1464\n",
      "Epoch 267/600\n",
      "14/14 [==============================] - 0s 4ms/step - loss: 0.0294 - val_loss: 0.1547\n",
      "Epoch 268/600\n",
      "14/14 [==============================] - 0s 4ms/step - loss: 0.0263 - val_loss: 0.1425\n",
      "Epoch 269/600\n",
      "14/14 [==============================] - 0s 4ms/step - loss: 0.0266 - val_loss: 0.1556\n",
      "Epoch 270/600\n",
      "14/14 [==============================] - 0s 4ms/step - loss: 0.0268 - val_loss: 0.1553\n",
      "Epoch 271/600\n",
      "14/14 [==============================] - 0s 4ms/step - loss: 0.0243 - val_loss: 0.1463\n",
      "Epoch 272/600\n",
      "14/14 [==============================] - 0s 4ms/step - loss: 0.0250 - val_loss: 0.1434\n",
      "Epoch 273/600\n",
      "14/14 [==============================] - 0s 4ms/step - loss: 0.0237 - val_loss: 0.1559\n",
      "Epoch 274/600\n",
      "14/14 [==============================] - 0s 4ms/step - loss: 0.0262 - val_loss: 0.1422\n",
      "Epoch 275/600\n",
      "14/14 [==============================] - 0s 4ms/step - loss: 0.0237 - val_loss: 0.1491\n",
      "Epoch 276/600\n",
      "14/14 [==============================] - 0s 5ms/step - loss: 0.0232 - val_loss: 0.1478\n",
      "Epoch 277/600\n",
      "14/14 [==============================] - 0s 4ms/step - loss: 0.0235 - val_loss: 0.1543\n",
      "Epoch 278/600\n",
      "14/14 [==============================] - 0s 5ms/step - loss: 0.0238 - val_loss: 0.1453\n",
      "Epoch 279/600\n",
      "14/14 [==============================] - 0s 4ms/step - loss: 0.0228 - val_loss: 0.1550\n",
      "Epoch 280/600\n",
      "14/14 [==============================] - 0s 4ms/step - loss: 0.0257 - val_loss: 0.1576\n",
      "Epoch 281/600\n",
      "14/14 [==============================] - 0s 4ms/step - loss: 0.0232 - val_loss: 0.1482\n",
      "Epoch 282/600\n",
      "14/14 [==============================] - 0s 5ms/step - loss: 0.0237 - val_loss: 0.1647\n",
      "Epoch 283/600\n",
      "14/14 [==============================] - 0s 4ms/step - loss: 0.0263 - val_loss: 0.1446\n",
      "Epoch 284/600\n",
      "14/14 [==============================] - 0s 5ms/step - loss: 0.0235 - val_loss: 0.1483\n",
      "Epoch 285/600\n",
      "14/14 [==============================] - 0s 4ms/step - loss: 0.0228 - val_loss: 0.1549\n",
      "Epoch 286/600\n",
      "14/14 [==============================] - 0s 4ms/step - loss: 0.0227 - val_loss: 0.1543\n",
      "Epoch 287/600\n",
      "14/14 [==============================] - 0s 5ms/step - loss: 0.0238 - val_loss: 0.1564\n",
      "Epoch 288/600\n",
      "14/14 [==============================] - 0s 5ms/step - loss: 0.0237 - val_loss: 0.1505\n",
      "Epoch 289/600\n",
      "14/14 [==============================] - 0s 5ms/step - loss: 0.0223 - val_loss: 0.1482\n",
      "Epoch 290/600\n",
      "14/14 [==============================] - 0s 5ms/step - loss: 0.0222 - val_loss: 0.1529\n",
      "Epoch 291/600\n",
      "14/14 [==============================] - 0s 4ms/step - loss: 0.0216 - val_loss: 0.1458\n",
      "Epoch 292/600\n",
      "14/14 [==============================] - 0s 5ms/step - loss: 0.0226 - val_loss: 0.1598\n",
      "Epoch 293/600\n",
      "14/14 [==============================] - 0s 4ms/step - loss: 0.0220 - val_loss: 0.1521\n",
      "Epoch 294/600\n",
      "14/14 [==============================] - 0s 4ms/step - loss: 0.0220 - val_loss: 0.1520\n",
      "Epoch 295/600\n",
      "14/14 [==============================] - 0s 5ms/step - loss: 0.0217 - val_loss: 0.1609\n",
      "Epoch 296/600\n",
      "14/14 [==============================] - 0s 5ms/step - loss: 0.0229 - val_loss: 0.1583\n",
      "Epoch 297/600\n",
      "14/14 [==============================] - 0s 5ms/step - loss: 0.0226 - val_loss: 0.1526\n",
      "Epoch 298/600\n",
      "14/14 [==============================] - 0s 5ms/step - loss: 0.0263 - val_loss: 0.1651\n",
      "Epoch 299/600\n",
      "14/14 [==============================] - 0s 5ms/step - loss: 0.0213 - val_loss: 0.1488\n",
      "Epoch 300/600\n",
      "14/14 [==============================] - 0s 5ms/step - loss: 0.0214 - val_loss: 0.1510\n",
      "Epoch 301/600\n",
      "14/14 [==============================] - 0s 5ms/step - loss: 0.0214 - val_loss: 0.1520\n",
      "Epoch 302/600\n",
      "14/14 [==============================] - 0s 6ms/step - loss: 0.0243 - val_loss: 0.1623\n",
      "Epoch 303/600\n",
      "14/14 [==============================] - 0s 5ms/step - loss: 0.0218 - val_loss: 0.1514\n",
      "Epoch 304/600\n",
      "14/14 [==============================] - 0s 5ms/step - loss: 0.0225 - val_loss: 0.1568\n",
      "Epoch 305/600\n",
      "14/14 [==============================] - 0s 6ms/step - loss: 0.0241 - val_loss: 0.1445\n",
      "Epoch 306/600\n",
      "14/14 [==============================] - 0s 6ms/step - loss: 0.0210 - val_loss: 0.1562\n",
      "Epoch 307/600\n",
      "14/14 [==============================] - 0s 5ms/step - loss: 0.0211 - val_loss: 0.1499\n",
      "Epoch 308/600\n",
      "14/14 [==============================] - 0s 5ms/step - loss: 0.0205 - val_loss: 0.1557\n",
      "Epoch 309/600\n",
      "14/14 [==============================] - 0s 6ms/step - loss: 0.0208 - val_loss: 0.1526\n",
      "Epoch 310/600\n",
      "14/14 [==============================] - 0s 6ms/step - loss: 0.0200 - val_loss: 0.1517\n",
      "Epoch 311/600\n",
      "14/14 [==============================] - 0s 6ms/step - loss: 0.0198 - val_loss: 0.1526\n",
      "Epoch 312/600\n",
      "14/14 [==============================] - 0s 6ms/step - loss: 0.0226 - val_loss: 0.1615\n",
      "Epoch 313/600\n",
      "14/14 [==============================] - 0s 6ms/step - loss: 0.0218 - val_loss: 0.1593\n",
      "Epoch 314/600\n",
      "14/14 [==============================] - 0s 6ms/step - loss: 0.0214 - val_loss: 0.1553\n",
      "Epoch 315/600\n",
      "14/14 [==============================] - 0s 6ms/step - loss: 0.0202 - val_loss: 0.1563\n",
      "Epoch 316/600\n",
      "14/14 [==============================] - 0s 5ms/step - loss: 0.0234 - val_loss: 0.1685\n",
      "Epoch 317/600\n",
      "14/14 [==============================] - 0s 5ms/step - loss: 0.0196 - val_loss: 0.1521\n",
      "Epoch 318/600\n",
      "14/14 [==============================] - 0s 5ms/step - loss: 0.0205 - val_loss: 0.1537\n",
      "Epoch 319/600\n",
      "14/14 [==============================] - 0s 5ms/step - loss: 0.0194 - val_loss: 0.1669\n",
      "Epoch 320/600\n",
      "14/14 [==============================] - 0s 6ms/step - loss: 0.0222 - val_loss: 0.1501\n",
      "Epoch 321/600\n",
      "14/14 [==============================] - 0s 5ms/step - loss: 0.0211 - val_loss: 0.1670\n",
      "Epoch 322/600\n",
      "14/14 [==============================] - 0s 6ms/step - loss: 0.0189 - val_loss: 0.1565\n",
      "Epoch 323/600\n",
      "14/14 [==============================] - 0s 5ms/step - loss: 0.0200 - val_loss: 0.1604\n",
      "Epoch 324/600\n",
      "14/14 [==============================] - 0s 5ms/step - loss: 0.0242 - val_loss: 0.1684\n",
      "Epoch 325/600\n",
      "14/14 [==============================] - 0s 6ms/step - loss: 0.0283 - val_loss: 0.1548\n",
      "Epoch 326/600\n"
     ]
    },
    {
     "name": "stdout",
     "output_type": "stream",
     "text": [
      "14/14 [==============================] - 0s 5ms/step - loss: 0.0216 - val_loss: 0.1478\n",
      "Epoch 327/600\n",
      "14/14 [==============================] - 0s 6ms/step - loss: 0.0204 - val_loss: 0.1659\n",
      "Epoch 328/600\n",
      "14/14 [==============================] - 0s 6ms/step - loss: 0.0200 - val_loss: 0.1615\n",
      "Epoch 329/600\n",
      "14/14 [==============================] - 0s 5ms/step - loss: 0.0189 - val_loss: 0.1724\n",
      "Epoch 330/600\n",
      "14/14 [==============================] - 0s 6ms/step - loss: 0.0193 - val_loss: 0.1520\n",
      "Epoch 331/600\n",
      "14/14 [==============================] - 0s 6ms/step - loss: 0.0188 - val_loss: 0.1721\n",
      "Epoch 332/600\n",
      "14/14 [==============================] - 0s 6ms/step - loss: 0.0193 - val_loss: 0.1486\n",
      "Epoch 333/600\n",
      "14/14 [==============================] - 0s 5ms/step - loss: 0.0230 - val_loss: 0.1660\n",
      "Epoch 334/600\n",
      "14/14 [==============================] - 0s 5ms/step - loss: 0.0255 - val_loss: 0.1561\n",
      "Epoch 335/600\n",
      "14/14 [==============================] - 0s 6ms/step - loss: 0.0212 - val_loss: 0.1617\n",
      "Epoch 336/600\n",
      "14/14 [==============================] - 0s 6ms/step - loss: 0.0234 - val_loss: 0.1533\n",
      "Epoch 337/600\n",
      "14/14 [==============================] - 0s 6ms/step - loss: 0.0203 - val_loss: 0.1728\n",
      "Epoch 338/600\n",
      "14/14 [==============================] - 0s 5ms/step - loss: 0.0215 - val_loss: 0.1517\n",
      "Epoch 339/600\n",
      "14/14 [==============================] - 0s 6ms/step - loss: 0.0187 - val_loss: 0.1636\n",
      "Epoch 340/600\n",
      "14/14 [==============================] - 0s 6ms/step - loss: 0.0173 - val_loss: 0.1550\n",
      "Epoch 341/600\n",
      "14/14 [==============================] - 0s 5ms/step - loss: 0.0181 - val_loss: 0.1608\n",
      "Epoch 342/600\n",
      "14/14 [==============================] - 0s 5ms/step - loss: 0.0182 - val_loss: 0.1711\n",
      "Epoch 343/600\n",
      "14/14 [==============================] - 0s 5ms/step - loss: 0.0172 - val_loss: 0.1542\n",
      "Epoch 344/600\n",
      "14/14 [==============================] - 0s 6ms/step - loss: 0.0218 - val_loss: 0.1845\n",
      "Epoch 345/600\n",
      "14/14 [==============================] - 0s 6ms/step - loss: 0.0198 - val_loss: 0.1656\n",
      "Epoch 346/600\n",
      "14/14 [==============================] - 0s 6ms/step - loss: 0.0179 - val_loss: 0.1605\n",
      "Epoch 347/600\n",
      "14/14 [==============================] - 0s 6ms/step - loss: 0.0198 - val_loss: 0.1598\n",
      "Epoch 348/600\n",
      "14/14 [==============================] - 0s 5ms/step - loss: 0.0176 - val_loss: 0.1650\n",
      "Epoch 349/600\n",
      "14/14 [==============================] - 0s 6ms/step - loss: 0.0201 - val_loss: 0.1597\n",
      "Epoch 350/600\n",
      "14/14 [==============================] - 0s 5ms/step - loss: 0.0188 - val_loss: 0.1663\n",
      "Epoch 351/600\n",
      "14/14 [==============================] - 0s 5ms/step - loss: 0.0188 - val_loss: 0.1652\n",
      "Epoch 352/600\n",
      "14/14 [==============================] - 0s 5ms/step - loss: 0.0169 - val_loss: 0.1619\n",
      "Epoch 353/600\n",
      "14/14 [==============================] - 0s 5ms/step - loss: 0.0176 - val_loss: 0.1650\n",
      "Epoch 354/600\n",
      "14/14 [==============================] - 0s 6ms/step - loss: 0.0166 - val_loss: 0.1674\n",
      "Epoch 355/600\n",
      "14/14 [==============================] - 0s 6ms/step - loss: 0.0185 - val_loss: 0.1767\n",
      "Epoch 356/600\n",
      "14/14 [==============================] - 0s 6ms/step - loss: 0.0179 - val_loss: 0.1614\n",
      "Epoch 357/600\n",
      "14/14 [==============================] - 0s 6ms/step - loss: 0.0183 - val_loss: 0.1665\n",
      "Epoch 358/600\n",
      "14/14 [==============================] - 0s 6ms/step - loss: 0.0188 - val_loss: 0.1798\n",
      "Epoch 359/600\n",
      "14/14 [==============================] - 0s 5ms/step - loss: 0.0171 - val_loss: 0.1587\n",
      "Epoch 360/600\n",
      "14/14 [==============================] - 0s 6ms/step - loss: 0.0167 - val_loss: 0.1684\n",
      "Epoch 361/600\n",
      "14/14 [==============================] - 0s 6ms/step - loss: 0.0158 - val_loss: 0.1660\n",
      "Epoch 362/600\n",
      "14/14 [==============================] - 0s 5ms/step - loss: 0.0171 - val_loss: 0.1777\n",
      "Epoch 363/600\n",
      "14/14 [==============================] - 0s 5ms/step - loss: 0.0182 - val_loss: 0.1650\n",
      "Epoch 364/600\n",
      "14/14 [==============================] - 0s 6ms/step - loss: 0.0169 - val_loss: 0.1822\n",
      "Epoch 365/600\n",
      "14/14 [==============================] - 0s 6ms/step - loss: 0.0153 - val_loss: 0.1591\n",
      "Epoch 366/600\n",
      "14/14 [==============================] - 0s 6ms/step - loss: 0.0171 - val_loss: 0.1793\n",
      "Epoch 367/600\n",
      "14/14 [==============================] - 0s 5ms/step - loss: 0.0167 - val_loss: 0.1705\n",
      "Epoch 368/600\n",
      "14/14 [==============================] - 0s 6ms/step - loss: 0.0166 - val_loss: 0.1595\n",
      "Epoch 369/600\n",
      "14/14 [==============================] - 0s 6ms/step - loss: 0.0176 - val_loss: 0.1715\n",
      "Epoch 370/600\n",
      "14/14 [==============================] - 0s 5ms/step - loss: 0.0163 - val_loss: 0.1610\n",
      "Epoch 371/600\n",
      "14/14 [==============================] - 0s 5ms/step - loss: 0.0160 - val_loss: 0.1836\n",
      "Epoch 372/600\n",
      "14/14 [==============================] - 0s 5ms/step - loss: 0.0165 - val_loss: 0.1636\n",
      "Epoch 373/600\n",
      "14/14 [==============================] - 0s 5ms/step - loss: 0.0161 - val_loss: 0.1681\n",
      "Epoch 374/600\n",
      "14/14 [==============================] - 0s 6ms/step - loss: 0.0156 - val_loss: 0.1822\n",
      "Epoch 375/600\n",
      "14/14 [==============================] - 0s 6ms/step - loss: 0.0158 - val_loss: 0.1594\n",
      "Epoch 376/600\n",
      "14/14 [==============================] - 0s 5ms/step - loss: 0.0198 - val_loss: 0.1826\n",
      "Epoch 377/600\n",
      "14/14 [==============================] - 0s 6ms/step - loss: 0.0171 - val_loss: 0.1715\n",
      "Epoch 378/600\n",
      "14/14 [==============================] - 0s 6ms/step - loss: 0.0181 - val_loss: 0.1723\n",
      "Epoch 379/600\n",
      "14/14 [==============================] - 0s 5ms/step - loss: 0.0152 - val_loss: 0.1709\n",
      "Epoch 380/600\n",
      "14/14 [==============================] - 0s 5ms/step - loss: 0.0157 - val_loss: 0.2045\n",
      "Epoch 381/600\n",
      "14/14 [==============================] - 0s 5ms/step - loss: 0.0165 - val_loss: 0.1625\n",
      "Epoch 382/600\n",
      "14/14 [==============================] - 0s 6ms/step - loss: 0.0164 - val_loss: 0.1877\n",
      "Epoch 383/600\n",
      "14/14 [==============================] - 0s 6ms/step - loss: 0.0169 - val_loss: 0.1704\n",
      "Epoch 384/600\n",
      "14/14 [==============================] - 0s 6ms/step - loss: 0.0198 - val_loss: 0.1680\n",
      "Epoch 385/600\n",
      "14/14 [==============================] - 0s 6ms/step - loss: 0.0168 - val_loss: 0.1725\n",
      "Epoch 386/600\n",
      "14/14 [==============================] - 0s 5ms/step - loss: 0.0142 - val_loss: 0.1737\n",
      "Epoch 387/600\n",
      "14/14 [==============================] - 0s 6ms/step - loss: 0.0143 - val_loss: 0.1846\n",
      "Epoch 388/600\n",
      "14/14 [==============================] - 0s 5ms/step - loss: 0.0165 - val_loss: 0.1613\n",
      "Epoch 389/600\n",
      "14/14 [==============================] - 0s 6ms/step - loss: 0.0228 - val_loss: 0.1917\n",
      "Epoch 390/600\n",
      "14/14 [==============================] - 0s 6ms/step - loss: 0.0145 - val_loss: 0.1690\n",
      "Epoch 391/600\n",
      "14/14 [==============================] - 0s 5ms/step - loss: 0.0149 - val_loss: 0.1786\n",
      "Epoch 392/600\n",
      "14/14 [==============================] - 0s 6ms/step - loss: 0.0141 - val_loss: 0.1755\n",
      "Epoch 393/600\n",
      "14/14 [==============================] - 0s 5ms/step - loss: 0.0141 - val_loss: 0.1984\n",
      "Epoch 394/600\n",
      "14/14 [==============================] - 0s 6ms/step - loss: 0.0181 - val_loss: 0.1709\n",
      "Epoch 395/600\n",
      "14/14 [==============================] - 0s 5ms/step - loss: 0.0160 - val_loss: 0.2056\n",
      "Epoch 396/600\n",
      "14/14 [==============================] - 0s 6ms/step - loss: 0.0135 - val_loss: 0.1628\n",
      "Epoch 397/600\n",
      "14/14 [==============================] - 0s 6ms/step - loss: 0.0186 - val_loss: 0.1922\n",
      "Epoch 398/600\n",
      "14/14 [==============================] - 0s 5ms/step - loss: 0.0149 - val_loss: 0.1765\n",
      "Epoch 399/600\n",
      "14/14 [==============================] - 0s 5ms/step - loss: 0.0146 - val_loss: 0.1742\n",
      "Epoch 400/600\n",
      "14/14 [==============================] - 0s 6ms/step - loss: 0.0160 - val_loss: 0.1816\n",
      "Epoch 401/600\n",
      "14/14 [==============================] - 0s 5ms/step - loss: 0.0200 - val_loss: 0.1670\n",
      "Epoch 402/600\n",
      "14/14 [==============================] - 0s 5ms/step - loss: 0.0210 - val_loss: 0.2009\n",
      "Epoch 403/600\n",
      "14/14 [==============================] - 0s 5ms/step - loss: 0.0161 - val_loss: 0.1743\n",
      "Epoch 404/600\n",
      "14/14 [==============================] - 0s 5ms/step - loss: 0.0147 - val_loss: 0.1696\n",
      "Epoch 405/600\n",
      "14/14 [==============================] - 0s 5ms/step - loss: 0.0145 - val_loss: 0.1710\n",
      "Epoch 406/600\n",
      "14/14 [==============================] - 0s 6ms/step - loss: 0.0145 - val_loss: 0.1849\n",
      "Epoch 407/600\n"
     ]
    },
    {
     "name": "stdout",
     "output_type": "stream",
     "text": [
      "14/14 [==============================] - 0s 5ms/step - loss: 0.0130 - val_loss: 0.1795\n",
      "Epoch 408/600\n",
      "14/14 [==============================] - 0s 6ms/step - loss: 0.0135 - val_loss: 0.1805\n",
      "Epoch 409/600\n",
      "14/14 [==============================] - 0s 6ms/step - loss: 0.0127 - val_loss: 0.1818\n",
      "Epoch 410/600\n",
      "14/14 [==============================] - 0s 6ms/step - loss: 0.0139 - val_loss: 0.1744\n",
      "Epoch 411/600\n",
      "14/14 [==============================] - 0s 5ms/step - loss: 0.0129 - val_loss: 0.1897\n",
      "Epoch 412/600\n",
      "14/14 [==============================] - 0s 6ms/step - loss: 0.0137 - val_loss: 0.1802\n",
      "Epoch 413/600\n",
      "14/14 [==============================] - 0s 6ms/step - loss: 0.0125 - val_loss: 0.1856\n",
      "Epoch 414/600\n",
      "14/14 [==============================] - 0s 6ms/step - loss: 0.0124 - val_loss: 0.1852\n",
      "Epoch 415/600\n",
      "14/14 [==============================] - 0s 6ms/step - loss: 0.0140 - val_loss: 0.1936\n",
      "Epoch 416/600\n",
      "14/14 [==============================] - 0s 6ms/step - loss: 0.0146 - val_loss: 0.1744\n",
      "Epoch 417/600\n",
      "14/14 [==============================] - 0s 6ms/step - loss: 0.0149 - val_loss: 0.1903\n",
      "Epoch 418/600\n",
      "14/14 [==============================] - 0s 6ms/step - loss: 0.0121 - val_loss: 0.1803\n",
      "Epoch 419/600\n",
      "14/14 [==============================] - 0s 5ms/step - loss: 0.0152 - val_loss: 0.2086\n",
      "Epoch 420/600\n",
      "14/14 [==============================] - 0s 5ms/step - loss: 0.0177 - val_loss: 0.1748\n",
      "Epoch 421/600\n",
      "14/14 [==============================] - 0s 6ms/step - loss: 0.0117 - val_loss: 0.1913\n",
      "Epoch 422/600\n",
      "14/14 [==============================] - 0s 6ms/step - loss: 0.0130 - val_loss: 0.1744\n",
      "Epoch 423/600\n",
      "14/14 [==============================] - 0s 6ms/step - loss: 0.0124 - val_loss: 0.1931\n",
      "Epoch 424/600\n",
      "14/14 [==============================] - 0s 5ms/step - loss: 0.0125 - val_loss: 0.1786\n",
      "Epoch 425/600\n",
      "14/14 [==============================] - 0s 6ms/step - loss: 0.0121 - val_loss: 0.1829\n",
      "Epoch 426/600\n",
      "14/14 [==============================] - 0s 5ms/step - loss: 0.0123 - val_loss: 0.1844\n",
      "Epoch 427/600\n",
      "14/14 [==============================] - 0s 5ms/step - loss: 0.0122 - val_loss: 0.1832\n",
      "Epoch 428/600\n",
      "14/14 [==============================] - 0s 6ms/step - loss: 0.0124 - val_loss: 0.1916\n",
      "Epoch 429/600\n",
      "14/14 [==============================] - 0s 6ms/step - loss: 0.0125 - val_loss: 0.1772\n",
      "Epoch 430/600\n",
      "14/14 [==============================] - 0s 6ms/step - loss: 0.0128 - val_loss: 0.2024\n",
      "Epoch 431/600\n",
      "14/14 [==============================] - 0s 6ms/step - loss: 0.0106 - val_loss: 0.1792\n",
      "Epoch 432/600\n",
      "14/14 [==============================] - 0s 5ms/step - loss: 0.0141 - val_loss: 0.1914\n",
      "Epoch 433/600\n",
      "14/14 [==============================] - 0s 6ms/step - loss: 0.0129 - val_loss: 0.1926\n",
      "Epoch 434/600\n",
      "14/14 [==============================] - 0s 6ms/step - loss: 0.0108 - val_loss: 0.1861\n",
      "Epoch 435/600\n",
      "14/14 [==============================] - 0s 6ms/step - loss: 0.0115 - val_loss: 0.1868\n",
      "Epoch 436/600\n",
      "14/14 [==============================] - 0s 7ms/step - loss: 0.0116 - val_loss: 0.1902\n",
      "Epoch 437/600\n",
      "14/14 [==============================] - 0s 7ms/step - loss: 0.0159 - val_loss: 0.2207\n",
      "Epoch 438/600\n",
      "14/14 [==============================] - 0s 7ms/step - loss: 0.0171 - val_loss: 0.1710\n",
      "Epoch 439/600\n",
      "14/14 [==============================] - 0s 6ms/step - loss: 0.0139 - val_loss: 0.2103\n",
      "Epoch 440/600\n",
      "14/14 [==============================] - 0s 7ms/step - loss: 0.0128 - val_loss: 0.1833\n",
      "Epoch 441/600\n",
      "14/14 [==============================] - 0s 6ms/step - loss: 0.0116 - val_loss: 0.1912\n",
      "Epoch 442/600\n",
      "14/14 [==============================] - 0s 6ms/step - loss: 0.0117 - val_loss: 0.1911\n",
      "Epoch 443/600\n",
      "14/14 [==============================] - 0s 6ms/step - loss: 0.0109 - val_loss: 0.1864\n",
      "Epoch 444/600\n",
      "14/14 [==============================] - 0s 7ms/step - loss: 0.0134 - val_loss: 0.2026\n",
      "Epoch 445/600\n",
      "14/14 [==============================] - 0s 7ms/step - loss: 0.0108 - val_loss: 0.1891\n",
      "Epoch 446/600\n",
      "14/14 [==============================] - 0s 7ms/step - loss: 0.0110 - val_loss: 0.1990\n",
      "Epoch 447/600\n",
      "14/14 [==============================] - 0s 7ms/step - loss: 0.0126 - val_loss: 0.1917\n",
      "Epoch 448/600\n",
      "14/14 [==============================] - 0s 6ms/step - loss: 0.0124 - val_loss: 0.1852\n",
      "Epoch 449/600\n",
      "14/14 [==============================] - 0s 6ms/step - loss: 0.0116 - val_loss: 0.1974\n",
      "Epoch 450/600\n",
      "14/14 [==============================] - 0s 6ms/step - loss: 0.0129 - val_loss: 0.2106\n",
      "Epoch 451/600\n",
      "14/14 [==============================] - 0s 6ms/step - loss: 0.0190 - val_loss: 0.1762\n",
      "Epoch 452/600\n",
      "14/14 [==============================] - 0s 6ms/step - loss: 0.0106 - val_loss: 0.2087\n",
      "Epoch 453/600\n",
      "14/14 [==============================] - 0s 6ms/step - loss: 0.0116 - val_loss: 0.1978\n",
      "Epoch 454/600\n",
      "14/14 [==============================] - 0s 6ms/step - loss: 0.0104 - val_loss: 0.1932\n",
      "Epoch 455/600\n",
      "14/14 [==============================] - 0s 6ms/step - loss: 0.0101 - val_loss: 0.1992\n",
      "Epoch 456/600\n",
      "14/14 [==============================] - 0s 6ms/step - loss: 0.0106 - val_loss: 0.2000\n",
      "Epoch 457/600\n",
      "14/14 [==============================] - 0s 7ms/step - loss: 0.0115 - val_loss: 0.1914\n",
      "Epoch 458/600\n",
      "14/14 [==============================] - 0s 7ms/step - loss: 0.0092 - val_loss: 0.2162\n",
      "Epoch 459/600\n",
      "14/14 [==============================] - 0s 7ms/step - loss: 0.0106 - val_loss: 0.1934\n",
      "Epoch 460/600\n",
      "14/14 [==============================] - 0s 7ms/step - loss: 0.0111 - val_loss: 0.1998\n",
      "Epoch 461/600\n",
      "14/14 [==============================] - 0s 7ms/step - loss: 0.0106 - val_loss: 0.1930\n",
      "Epoch 462/600\n",
      "14/14 [==============================] - 0s 9ms/step - loss: 0.0099 - val_loss: 0.1952\n",
      "Epoch 463/600\n",
      "14/14 [==============================] - 0s 6ms/step - loss: 0.0098 - val_loss: 0.2125\n",
      "Epoch 464/600\n",
      "14/14 [==============================] - 0s 7ms/step - loss: 0.0098 - val_loss: 0.1881\n",
      "Epoch 465/600\n",
      "14/14 [==============================] - 0s 6ms/step - loss: 0.0138 - val_loss: 0.2360\n",
      "Epoch 466/600\n",
      "14/14 [==============================] - 0s 7ms/step - loss: 0.0115 - val_loss: 0.1949\n",
      "Epoch 467/600\n",
      "14/14 [==============================] - 0s 7ms/step - loss: 0.0095 - val_loss: 0.2004\n",
      "Epoch 468/600\n",
      "14/14 [==============================] - 0s 7ms/step - loss: 0.0108 - val_loss: 0.1888\n",
      "Epoch 469/600\n",
      "14/14 [==============================] - 0s 6ms/step - loss: 0.0098 - val_loss: 0.2091\n",
      "Epoch 470/600\n",
      "14/14 [==============================] - 0s 6ms/step - loss: 0.0125 - val_loss: 0.1951\n",
      "Epoch 471/600\n",
      "14/14 [==============================] - 0s 6ms/step - loss: 0.0094 - val_loss: 0.2126\n",
      "Epoch 472/600\n",
      "14/14 [==============================] - 0s 6ms/step - loss: 0.0108 - val_loss: 0.1968\n",
      "Epoch 473/600\n",
      "14/14 [==============================] - 0s 6ms/step - loss: 0.0091 - val_loss: 0.2091\n",
      "Epoch 474/600\n",
      "14/14 [==============================] - 0s 6ms/step - loss: 0.0094 - val_loss: 0.2016\n",
      "Epoch 475/600\n",
      "14/14 [==============================] - 0s 7ms/step - loss: 0.0091 - val_loss: 0.2069\n",
      "Epoch 476/600\n",
      "14/14 [==============================] - 0s 7ms/step - loss: 0.0092 - val_loss: 0.1977\n",
      "Epoch 477/600\n",
      "14/14 [==============================] - 0s 6ms/step - loss: 0.0096 - val_loss: 0.1972\n",
      "Epoch 478/600\n",
      "14/14 [==============================] - 0s 6ms/step - loss: 0.0098 - val_loss: 0.2032\n",
      "Epoch 479/600\n",
      "14/14 [==============================] - 0s 6ms/step - loss: 0.0089 - val_loss: 0.2112\n",
      "Epoch 480/600\n",
      "14/14 [==============================] - 0s 6ms/step - loss: 0.0088 - val_loss: 0.2011\n",
      "Epoch 481/600\n",
      "14/14 [==============================] - 0s 6ms/step - loss: 0.0097 - val_loss: 0.2072\n",
      "Epoch 482/600\n",
      "14/14 [==============================] - 0s 5ms/step - loss: 0.0099 - val_loss: 0.2125\n",
      "Epoch 483/600\n",
      "14/14 [==============================] - 0s 6ms/step - loss: 0.0086 - val_loss: 0.2074\n",
      "Epoch 484/600\n",
      "14/14 [==============================] - 0s 6ms/step - loss: 0.0103 - val_loss: 0.2077\n",
      "Epoch 485/600\n",
      "14/14 [==============================] - 0s 6ms/step - loss: 0.0091 - val_loss: 0.2136\n",
      "Epoch 486/600\n",
      "14/14 [==============================] - 0s 6ms/step - loss: 0.0096 - val_loss: 0.2149\n",
      "Epoch 487/600\n",
      "14/14 [==============================] - 0s 5ms/step - loss: 0.0107 - val_loss: 0.2042\n",
      "Epoch 488/600\n"
     ]
    },
    {
     "name": "stdout",
     "output_type": "stream",
     "text": [
      "14/14 [==============================] - 0s 5ms/step - loss: 0.0094 - val_loss: 0.2311\n",
      "Epoch 489/600\n",
      "14/14 [==============================] - 0s 5ms/step - loss: 0.0102 - val_loss: 0.2072\n",
      "Epoch 490/600\n",
      "14/14 [==============================] - 0s 6ms/step - loss: 0.0088 - val_loss: 0.2367\n",
      "Epoch 491/600\n",
      "14/14 [==============================] - 0s 5ms/step - loss: 0.0106 - val_loss: 0.2053\n",
      "Epoch 492/600\n",
      "14/14 [==============================] - 0s 6ms/step - loss: 0.0082 - val_loss: 0.2140\n",
      "Epoch 493/600\n",
      "14/14 [==============================] - 0s 5ms/step - loss: 0.0082 - val_loss: 0.2144\n",
      "Epoch 494/600\n",
      "14/14 [==============================] - 0s 6ms/step - loss: 0.0087 - val_loss: 0.2233\n",
      "Epoch 495/600\n",
      "14/14 [==============================] - 0s 6ms/step - loss: 0.0089 - val_loss: 0.2196\n",
      "Epoch 496/600\n",
      "14/14 [==============================] - 0s 6ms/step - loss: 0.0096 - val_loss: 0.2070\n",
      "Epoch 497/600\n",
      "14/14 [==============================] - 0s 6ms/step - loss: 0.0086 - val_loss: 0.2231\n",
      "Epoch 498/600\n",
      "14/14 [==============================] - 0s 5ms/step - loss: 0.0084 - val_loss: 0.2119\n",
      "Epoch 499/600\n",
      "14/14 [==============================] - 0s 5ms/step - loss: 0.0090 - val_loss: 0.2208\n",
      "Epoch 500/600\n",
      "14/14 [==============================] - 0s 5ms/step - loss: 0.0098 - val_loss: 0.2254\n",
      "Epoch 501/600\n",
      "14/14 [==============================] - 0s 5ms/step - loss: 0.0078 - val_loss: 0.2115\n",
      "Epoch 502/600\n",
      "14/14 [==============================] - 0s 5ms/step - loss: 0.0081 - val_loss: 0.2291\n",
      "Epoch 503/600\n",
      "14/14 [==============================] - 0s 6ms/step - loss: 0.0157 - val_loss: 0.2072\n",
      "Epoch 504/600\n",
      "14/14 [==============================] - 0s 6ms/step - loss: 0.0149 - val_loss: 0.2459\n",
      "Epoch 505/600\n",
      "14/14 [==============================] - 0s 6ms/step - loss: 0.0108 - val_loss: 0.2235\n",
      "Epoch 506/600\n",
      "14/14 [==============================] - 0s 6ms/step - loss: 0.0097 - val_loss: 0.2200\n",
      "Epoch 507/600\n",
      "14/14 [==============================] - 0s 5ms/step - loss: 0.0080 - val_loss: 0.2288\n",
      "Epoch 508/600\n",
      "14/14 [==============================] - 0s 5ms/step - loss: 0.0111 - val_loss: 0.2155\n",
      "Epoch 509/600\n",
      "14/14 [==============================] - 0s 6ms/step - loss: 0.0092 - val_loss: 0.2326\n",
      "Epoch 510/600\n",
      "14/14 [==============================] - 0s 6ms/step - loss: 0.0088 - val_loss: 0.2170\n",
      "Epoch 511/600\n",
      "14/14 [==============================] - 0s 6ms/step - loss: 0.0087 - val_loss: 0.2449\n",
      "Epoch 512/600\n",
      "14/14 [==============================] - 0s 6ms/step - loss: 0.0091 - val_loss: 0.2150\n",
      "Epoch 513/600\n",
      "14/14 [==============================] - 0s 6ms/step - loss: 0.0075 - val_loss: 0.2359\n",
      "Epoch 514/600\n",
      "14/14 [==============================] - 0s 5ms/step - loss: 0.0089 - val_loss: 0.2239\n",
      "Epoch 515/600\n",
      "14/14 [==============================] - 0s 5ms/step - loss: 0.0085 - val_loss: 0.2300\n",
      "Epoch 516/600\n",
      "14/14 [==============================] - 0s 5ms/step - loss: 0.0075 - val_loss: 0.2290\n",
      "Epoch 517/600\n",
      "14/14 [==============================] - 0s 5ms/step - loss: 0.0076 - val_loss: 0.2247\n",
      "Epoch 518/600\n",
      "14/14 [==============================] - 0s 5ms/step - loss: 0.0074 - val_loss: 0.2357\n",
      "Epoch 519/600\n",
      "14/14 [==============================] - 0s 5ms/step - loss: 0.0142 - val_loss: 0.2121\n",
      "Epoch 520/600\n",
      "14/14 [==============================] - 0s 5ms/step - loss: 0.0099 - val_loss: 0.2369\n",
      "Epoch 521/600\n",
      "14/14 [==============================] - 0s 5ms/step - loss: 0.0073 - val_loss: 0.2406\n",
      "Epoch 522/600\n",
      "14/14 [==============================] - 0s 5ms/step - loss: 0.0076 - val_loss: 0.2313\n",
      "Epoch 523/600\n",
      "14/14 [==============================] - 0s 5ms/step - loss: 0.0072 - val_loss: 0.2371\n",
      "Epoch 524/600\n",
      "14/14 [==============================] - 0s 5ms/step - loss: 0.0070 - val_loss: 0.2348\n",
      "Epoch 525/600\n",
      "14/14 [==============================] - 0s 6ms/step - loss: 0.0081 - val_loss: 0.2324\n",
      "Epoch 526/600\n",
      "14/14 [==============================] - 0s 5ms/step - loss: 0.0079 - val_loss: 0.2466\n",
      "Epoch 527/600\n",
      "14/14 [==============================] - 0s 5ms/step - loss: 0.0072 - val_loss: 0.2410\n",
      "Epoch 528/600\n",
      "14/14 [==============================] - 0s 6ms/step - loss: 0.0076 - val_loss: 0.2391\n",
      "Epoch 529/600\n",
      "14/14 [==============================] - 0s 6ms/step - loss: 0.0076 - val_loss: 0.2279\n",
      "Epoch 530/600\n",
      "14/14 [==============================] - 0s 5ms/step - loss: 0.0085 - val_loss: 0.2479\n",
      "Epoch 531/600\n",
      "14/14 [==============================] - 0s 5ms/step - loss: 0.0076 - val_loss: 0.2401\n",
      "Epoch 532/600\n",
      "14/14 [==============================] - 0s 6ms/step - loss: 0.0098 - val_loss: 0.2326\n",
      "Epoch 533/600\n",
      "14/14 [==============================] - 0s 5ms/step - loss: 0.0092 - val_loss: 0.2437\n",
      "Epoch 534/600\n",
      "14/14 [==============================] - 0s 6ms/step - loss: 0.0069 - val_loss: 0.2393\n",
      "Epoch 535/600\n",
      "14/14 [==============================] - 0s 5ms/step - loss: 0.0067 - val_loss: 0.2400\n",
      "Epoch 536/600\n",
      "14/14 [==============================] - 0s 6ms/step - loss: 0.0067 - val_loss: 0.2457\n",
      "Epoch 537/600\n",
      "14/14 [==============================] - 0s 6ms/step - loss: 0.0068 - val_loss: 0.2435\n",
      "Epoch 538/600\n",
      "14/14 [==============================] - 0s 5ms/step - loss: 0.0065 - val_loss: 0.2443\n",
      "Epoch 539/600\n",
      "14/14 [==============================] - 0s 5ms/step - loss: 0.0066 - val_loss: 0.2398\n",
      "Epoch 540/600\n",
      "14/14 [==============================] - 0s 5ms/step - loss: 0.0065 - val_loss: 0.2471\n",
      "Epoch 541/600\n",
      "14/14 [==============================] - 0s 5ms/step - loss: 0.0062 - val_loss: 0.2459\n",
      "Epoch 542/600\n",
      "14/14 [==============================] - 0s 5ms/step - loss: 0.0066 - val_loss: 0.2489\n",
      "Epoch 543/600\n",
      "14/14 [==============================] - 0s 6ms/step - loss: 0.0067 - val_loss: 0.2456\n",
      "Epoch 544/600\n",
      "14/14 [==============================] - 0s 5ms/step - loss: 0.0074 - val_loss: 0.2610\n",
      "Epoch 545/600\n",
      "14/14 [==============================] - 0s 6ms/step - loss: 0.0072 - val_loss: 0.2520\n",
      "Epoch 546/600\n",
      "14/14 [==============================] - 0s 5ms/step - loss: 0.0092 - val_loss: 0.2591\n",
      "Epoch 547/600\n",
      "14/14 [==============================] - 0s 5ms/step - loss: 0.0088 - val_loss: 0.2371\n",
      "Epoch 548/600\n",
      "14/14 [==============================] - 0s 5ms/step - loss: 0.0165 - val_loss: 0.2952\n",
      "Epoch 549/600\n",
      "14/14 [==============================] - 0s 6ms/step - loss: 0.0114 - val_loss: 0.2486\n",
      "Epoch 550/600\n",
      "14/14 [==============================] - 0s 5ms/step - loss: 0.0074 - val_loss: 0.2713\n",
      "Epoch 551/600\n",
      "14/14 [==============================] - 0s 5ms/step - loss: 0.0079 - val_loss: 0.2473\n",
      "Epoch 552/600\n",
      "14/14 [==============================] - 0s 5ms/step - loss: 0.0058 - val_loss: 0.2583\n",
      "Epoch 553/600\n",
      "14/14 [==============================] - 0s 5ms/step - loss: 0.0065 - val_loss: 0.2494\n",
      "Epoch 554/600\n",
      "14/14 [==============================] - 0s 5ms/step - loss: 0.0065 - val_loss: 0.2624\n",
      "Epoch 555/600\n",
      "14/14 [==============================] - 0s 6ms/step - loss: 0.0067 - val_loss: 0.2630\n",
      "Epoch 556/600\n",
      "14/14 [==============================] - 0s 5ms/step - loss: 0.0059 - val_loss: 0.2575\n",
      "Epoch 557/600\n",
      "14/14 [==============================] - 0s 5ms/step - loss: 0.0065 - val_loss: 0.2653\n",
      "Epoch 558/600\n",
      "14/14 [==============================] - 0s 5ms/step - loss: 0.0064 - val_loss: 0.2695\n",
      "Epoch 559/600\n",
      "14/14 [==============================] - 0s 5ms/step - loss: 0.0062 - val_loss: 0.2545\n",
      "Epoch 560/600\n",
      "14/14 [==============================] - 0s 5ms/step - loss: 0.0068 - val_loss: 0.2766\n",
      "Epoch 561/600\n",
      "14/14 [==============================] - 0s 5ms/step - loss: 0.0095 - val_loss: 0.2507\n",
      "Epoch 562/600\n",
      "14/14 [==============================] - 0s 6ms/step - loss: 0.0059 - val_loss: 0.2693\n",
      "Epoch 563/600\n",
      "14/14 [==============================] - 0s 6ms/step - loss: 0.0067 - val_loss: 0.2552\n",
      "Epoch 564/600\n",
      "14/14 [==============================] - 0s 5ms/step - loss: 0.0056 - val_loss: 0.2675\n",
      "Epoch 565/600\n",
      "14/14 [==============================] - 0s 6ms/step - loss: 0.0062 - val_loss: 0.2679\n",
      "Epoch 566/600\n",
      "14/14 [==============================] - 0s 6ms/step - loss: 0.0061 - val_loss: 0.2554\n",
      "Epoch 567/600\n",
      "14/14 [==============================] - 0s 5ms/step - loss: 0.0058 - val_loss: 0.2630\n",
      "Epoch 568/600\n",
      "14/14 [==============================] - 0s 5ms/step - loss: 0.0058 - val_loss: 0.2699\n",
      "Epoch 569/600\n"
     ]
    },
    {
     "name": "stdout",
     "output_type": "stream",
     "text": [
      "14/14 [==============================] - 0s 5ms/step - loss: 0.0058 - val_loss: 0.2744\n",
      "Epoch 570/600\n",
      "14/14 [==============================] - 0s 6ms/step - loss: 0.0065 - val_loss: 0.2632\n",
      "Epoch 571/600\n",
      "14/14 [==============================] - 0s 5ms/step - loss: 0.0055 - val_loss: 0.2684\n",
      "Epoch 572/600\n",
      "14/14 [==============================] - 0s 5ms/step - loss: 0.0073 - val_loss: 0.2636\n",
      "Epoch 573/600\n",
      "14/14 [==============================] - 0s 5ms/step - loss: 0.0061 - val_loss: 0.2827\n",
      "Epoch 574/600\n",
      "14/14 [==============================] - 0s 6ms/step - loss: 0.0070 - val_loss: 0.2726\n",
      "Epoch 575/600\n",
      "14/14 [==============================] - 0s 6ms/step - loss: 0.0065 - val_loss: 0.2753\n",
      "Epoch 576/600\n",
      "14/14 [==============================] - 0s 5ms/step - loss: 0.0065 - val_loss: 0.2804\n",
      "Epoch 577/600\n",
      "14/14 [==============================] - 0s 5ms/step - loss: 0.0062 - val_loss: 0.2750\n",
      "Epoch 578/600\n",
      "14/14 [==============================] - 0s 6ms/step - loss: 0.0052 - val_loss: 0.2765\n",
      "Epoch 579/600\n",
      "14/14 [==============================] - 0s 5ms/step - loss: 0.0052 - val_loss: 0.2796\n",
      "Epoch 580/600\n",
      "14/14 [==============================] - 0s 6ms/step - loss: 0.0055 - val_loss: 0.2843\n",
      "Epoch 581/600\n",
      "14/14 [==============================] - 0s 6ms/step - loss: 0.0056 - val_loss: 0.2780\n",
      "Epoch 582/600\n",
      "14/14 [==============================] - 0s 5ms/step - loss: 0.0062 - val_loss: 0.2813\n",
      "Epoch 583/600\n",
      "14/14 [==============================] - 0s 5ms/step - loss: 0.0057 - val_loss: 0.2811\n",
      "Epoch 584/600\n",
      "14/14 [==============================] - 0s 5ms/step - loss: 0.0050 - val_loss: 0.2806\n",
      "Epoch 585/600\n",
      "14/14 [==============================] - 0s 5ms/step - loss: 0.0052 - val_loss: 0.2933\n",
      "Epoch 586/600\n",
      "14/14 [==============================] - 0s 5ms/step - loss: 0.0050 - val_loss: 0.2752\n",
      "Epoch 587/600\n",
      "14/14 [==============================] - 0s 6ms/step - loss: 0.0064 - val_loss: 0.3014\n",
      "Epoch 588/600\n",
      "14/14 [==============================] - 0s 5ms/step - loss: 0.0076 - val_loss: 0.2938\n",
      "Epoch 589/600\n",
      "14/14 [==============================] - 0s 6ms/step - loss: 0.0057 - val_loss: 0.2840\n",
      "Epoch 590/600\n",
      "14/14 [==============================] - 0s 5ms/step - loss: 0.0078 - val_loss: 0.3028\n",
      "Epoch 591/600\n",
      "14/14 [==============================] - 0s 6ms/step - loss: 0.0048 - val_loss: 0.2828\n",
      "Epoch 592/600\n",
      "14/14 [==============================] - 0s 5ms/step - loss: 0.0071 - val_loss: 0.3062\n",
      "Epoch 593/600\n",
      "14/14 [==============================] - 0s 5ms/step - loss: 0.0062 - val_loss: 0.2855\n",
      "Epoch 594/600\n",
      "14/14 [==============================] - 0s 5ms/step - loss: 0.0089 - val_loss: 0.2873\n",
      "Epoch 595/600\n",
      "14/14 [==============================] - 0s 5ms/step - loss: 0.0064 - val_loss: 0.3146\n",
      "Epoch 596/600\n",
      "14/14 [==============================] - 0s 5ms/step - loss: 0.0062 - val_loss: 0.3067\n",
      "Epoch 597/600\n",
      "14/14 [==============================] - 0s 6ms/step - loss: 0.0070 - val_loss: 0.2907\n",
      "Epoch 598/600\n",
      "14/14 [==============================] - 0s 5ms/step - loss: 0.0066 - val_loss: 0.3048\n",
      "Epoch 599/600\n",
      "14/14 [==============================] - 0s 5ms/step - loss: 0.0052 - val_loss: 0.2969\n",
      "Epoch 600/600\n",
      "14/14 [==============================] - 0s 6ms/step - loss: 0.0051 - val_loss: 0.2978\n"
     ]
    },
    {
     "data": {
      "text/plain": [
       "<keras.callbacks.History at 0x281e9837dc0>"
      ]
     },
     "execution_count": 50,
     "metadata": {},
     "output_type": "execute_result"
    }
   ],
   "source": [
    "# https://stats.stackexchange.com/questions/164876/tradeoff-batch-size-vs-number-of-iterations-to-train-a-neural-network\n",
    "# https://datascience.stackexchange.com/questions/18414/are-there-any-rules-for-choosing-the-size-of-a-mini-batch\n",
    "\n",
    "model.fit(x=X_train, \n",
    "          y=y_train, \n",
    "          epochs=600,\n",
    "          validation_data=(X_test, y_test), verbose=1\n",
    "          )"
   ]
  },
  {
   "cell_type": "code",
   "execution_count": 51,
   "metadata": {},
   "outputs": [
    {
     "name": "stdout",
     "output_type": "stream",
     "text": [
      "The maximum validation loss is  0.6621464490890503 \n",
      "The minimum validation loss is 0.12392142415046692\n"
     ]
    }
   ],
   "source": [
    "l=list(model.history.history['val_loss'])\n",
    "print(\"The maximum validation loss is \",max(l),\"\\nThe minimum validation loss is\",min(l))"
   ]
  },
  {
   "cell_type": "code",
   "execution_count": 52,
   "metadata": {},
   "outputs": [],
   "source": [
    "model_loss = pd.DataFrame(model.history.history)"
   ]
  },
  {
   "cell_type": "code",
   "execution_count": 53,
   "metadata": {},
   "outputs": [
    {
     "data": {
      "text/html": [
       "<div>\n",
       "<style scoped>\n",
       "    .dataframe tbody tr th:only-of-type {\n",
       "        vertical-align: middle;\n",
       "    }\n",
       "\n",
       "    .dataframe tbody tr th {\n",
       "        vertical-align: top;\n",
       "    }\n",
       "\n",
       "    .dataframe thead th {\n",
       "        text-align: right;\n",
       "    }\n",
       "</style>\n",
       "<table border=\"1\" class=\"dataframe\">\n",
       "  <thead>\n",
       "    <tr style=\"text-align: right;\">\n",
       "      <th></th>\n",
       "      <th>loss</th>\n",
       "      <th>val_loss</th>\n",
       "    </tr>\n",
       "  </thead>\n",
       "  <tbody>\n",
       "    <tr>\n",
       "      <th>0</th>\n",
       "      <td>0.685029</td>\n",
       "      <td>0.662146</td>\n",
       "    </tr>\n",
       "    <tr>\n",
       "      <th>1</th>\n",
       "      <td>0.646165</td>\n",
       "      <td>0.625158</td>\n",
       "    </tr>\n",
       "    <tr>\n",
       "      <th>2</th>\n",
       "      <td>0.605741</td>\n",
       "      <td>0.580238</td>\n",
       "    </tr>\n",
       "    <tr>\n",
       "      <th>3</th>\n",
       "      <td>0.558658</td>\n",
       "      <td>0.529949</td>\n",
       "    </tr>\n",
       "    <tr>\n",
       "      <th>4</th>\n",
       "      <td>0.508532</td>\n",
       "      <td>0.479278</td>\n",
       "    </tr>\n",
       "  </tbody>\n",
       "</table>\n",
       "</div>"
      ],
      "text/plain": [
       "       loss  val_loss\n",
       "0  0.685029  0.662146\n",
       "1  0.646165  0.625158\n",
       "2  0.605741  0.580238\n",
       "3  0.558658  0.529949\n",
       "4  0.508532  0.479278"
      ]
     },
     "execution_count": 53,
     "metadata": {},
     "output_type": "execute_result"
    }
   ],
   "source": [
    "model_loss.head()"
   ]
  },
  {
   "cell_type": "code",
   "execution_count": 54,
   "metadata": {},
   "outputs": [
    {
     "data": {
      "text/plain": [
       "<AxesSubplot:>"
      ]
     },
     "execution_count": 54,
     "metadata": {},
     "output_type": "execute_result"
    },
    {
     "data": {
      "image/png": "[encoded data removed]",
      "text/plain": [
       "<Figure size 640x480 with 1 Axes>"
      ]
     },
     "metadata": {},
     "output_type": "display_data"
    }
   ],
   "source": [
    "model_loss.plot()"
   ]
  },
  {
   "cell_type": "code",
   "execution_count": 55,
   "metadata": {},
   "outputs": [],
   "source": [
    "model = Sequential()\n",
    "model.add(Dense(units=30,activation='relu'))\n",
    "model.add(Dense(units=15,activation='relu'))\n",
    "model.add(Dense(units=1,activation='sigmoid'))\n",
    "model.compile(loss='binary_crossentropy', optimizer='adam')"
   ]
  },
  {
   "cell_type": "code",
   "execution_count": 56,
   "metadata": {},
   "outputs": [],
   "source": [
    "from tensorflow.keras.callbacks import EarlyStopping"
   ]
  },
  {
   "cell_type": "markdown",
   "metadata": {},
   "source": [
    "Stop training when a monitored quantity has stopped improving.\n",
    "\n",
    "    Arguments:\n",
    "        monitor: Quantity to be monitored.\n",
    "        min_delta: Minimum change in the monitored quantity\n",
    "            to qualify as an improvement, i.e. an absolute\n",
    "            change of less than min_delta, will count as no\n",
    "            improvement.\n",
    "        patience: Number of epochs with no improvement\n",
    "            after which training will be stopped.\n",
    "        verbose: verbosity mode.\n",
    "        mode: One of `{\"auto\", \"min\", \"max\"}`. In `min` mode,\n",
    "            training will stop when the quantity\n",
    "            monitored has stopped decreasing; in `max`\n",
    "            mode it will stop when the quantity\n",
    "            monitored has stopped increasing; in `auto`\n",
    "            mode, the direction is automatically inferred\n",
    "            from the name of the monitored quantity."
   ]
  },
  {
   "cell_type": "code",
   "execution_count": 57,
   "metadata": {},
   "outputs": [],
   "source": [
    "early_stop = EarlyStopping(monitor='val_loss', mode='min', verbose=1, patience=25)"
   ]
  },
  {
   "cell_type": "code",
   "execution_count": 58,
   "metadata": {},
   "outputs": [
    {
     "name": "stdout",
     "output_type": "stream",
     "text": [
      "Epoch 1/600\n",
      "14/14 [==============================] - 1s 20ms/step - loss: 0.6603 - val_loss: 0.6464\n",
      "Epoch 2/600\n",
      "14/14 [==============================] - 0s 5ms/step - loss: 0.6283 - val_loss: 0.6131\n",
      "Epoch 3/600\n",
      "14/14 [==============================] - 0s 5ms/step - loss: 0.5904 - val_loss: 0.5671\n",
      "Epoch 4/600\n",
      "14/14 [==============================] - 0s 5ms/step - loss: 0.5387 - val_loss: 0.5107\n",
      "Epoch 5/600\n",
      "14/14 [==============================] - 0s 5ms/step - loss: 0.4802 - val_loss: 0.4470\n",
      "Epoch 6/600\n",
      "14/14 [==============================] - 0s 5ms/step - loss: 0.4217 - val_loss: 0.3863\n",
      "Epoch 7/600\n",
      "14/14 [==============================] - 0s 4ms/step - loss: 0.3685 - val_loss: 0.3357\n",
      "Epoch 8/600\n",
      "14/14 [==============================] - 0s 5ms/step - loss: 0.3252 - val_loss: 0.2916\n",
      "Epoch 9/600\n",
      "14/14 [==============================] - 0s 4ms/step - loss: 0.2927 - val_loss: 0.2587\n",
      "Epoch 10/600\n",
      "14/14 [==============================] - 0s 5ms/step - loss: 0.2604 - val_loss: 0.2320\n",
      "Epoch 11/600\n",
      "14/14 [==============================] - 0s 5ms/step - loss: 0.2359 - val_loss: 0.2144\n",
      "Epoch 12/600\n",
      "14/14 [==============================] - 0s 5ms/step - loss: 0.2172 - val_loss: 0.1965\n",
      "Epoch 13/600\n",
      "14/14 [==============================] - 0s 5ms/step - loss: 0.2019 - val_loss: 0.1809\n",
      "Epoch 14/600\n",
      "14/14 [==============================] - 0s 4ms/step - loss: 0.1874 - val_loss: 0.1739\n",
      "Epoch 15/600\n",
      "14/14 [==============================] - 0s 5ms/step - loss: 0.1758 - val_loss: 0.1626\n",
      "Epoch 16/600\n",
      "14/14 [==============================] - 0s 4ms/step - loss: 0.1672 - val_loss: 0.1564\n",
      "Epoch 17/600\n",
      "14/14 [==============================] - 0s 5ms/step - loss: 0.1566 - val_loss: 0.1517\n",
      "Epoch 18/600\n",
      "14/14 [==============================] - 0s 5ms/step - loss: 0.1504 - val_loss: 0.1446\n",
      "Epoch 19/600\n",
      "14/14 [==============================] - 0s 4ms/step - loss: 0.1406 - val_loss: 0.1399\n",
      "Epoch 20/600\n",
      "14/14 [==============================] - 0s 4ms/step - loss: 0.1345 - val_loss: 0.1354\n",
      "Epoch 21/600\n",
      "14/14 [==============================] - 0s 5ms/step - loss: 0.1273 - val_loss: 0.1309\n",
      "Epoch 22/600\n",
      "14/14 [==============================] - 0s 5ms/step - loss: 0.1225 - val_loss: 0.1286\n",
      "Epoch 23/600\n",
      "14/14 [==============================] - 0s 5ms/step - loss: 0.1172 - val_loss: 0.1259\n",
      "Epoch 24/600\n",
      "14/14 [==============================] - 0s 5ms/step - loss: 0.1122 - val_loss: 0.1283\n",
      "Epoch 25/600\n",
      "14/14 [==============================] - 0s 5ms/step - loss: 0.1059 - val_loss: 0.1231\n",
      "Epoch 26/600\n",
      "14/14 [==============================] - 0s 5ms/step - loss: 0.1015 - val_loss: 0.1206\n",
      "Epoch 27/600\n",
      "14/14 [==============================] - 0s 5ms/step - loss: 0.0977 - val_loss: 0.1209\n",
      "Epoch 28/600\n",
      "14/14 [==============================] - 0s 5ms/step - loss: 0.0951 - val_loss: 0.1187\n",
      "Epoch 29/600\n",
      "14/14 [==============================] - 0s 5ms/step - loss: 0.0924 - val_loss: 0.1276\n",
      "Epoch 30/600\n",
      "14/14 [==============================] - 0s 5ms/step - loss: 0.0919 - val_loss: 0.1151\n",
      "Epoch 31/600\n",
      "14/14 [==============================] - 0s 5ms/step - loss: 0.0863 - val_loss: 0.1299\n",
      "Epoch 32/600\n",
      "14/14 [==============================] - 0s 5ms/step - loss: 0.0861 - val_loss: 0.1155\n",
      "Epoch 33/600\n",
      "14/14 [==============================] - 0s 5ms/step - loss: 0.0804 - val_loss: 0.1173\n",
      "Epoch 34/600\n",
      "14/14 [==============================] - 0s 5ms/step - loss: 0.0784 - val_loss: 0.1165\n",
      "Epoch 35/600\n",
      "14/14 [==============================] - 0s 5ms/step - loss: 0.0760 - val_loss: 0.1164\n",
      "Epoch 36/600\n",
      "14/14 [==============================] - 0s 5ms/step - loss: 0.0759 - val_loss: 0.1142\n",
      "Epoch 37/600\n",
      "14/14 [==============================] - 0s 5ms/step - loss: 0.0785 - val_loss: 0.1252\n",
      "Epoch 38/600\n",
      "14/14 [==============================] - 0s 5ms/step - loss: 0.0800 - val_loss: 0.1120\n",
      "Epoch 39/600\n",
      "14/14 [==============================] - 0s 5ms/step - loss: 0.0722 - val_loss: 0.1182\n",
      "Epoch 40/600\n",
      "14/14 [==============================] - 0s 5ms/step - loss: 0.0713 - val_loss: 0.1136\n",
      "Epoch 41/600\n",
      "14/14 [==============================] - 0s 5ms/step - loss: 0.0694 - val_loss: 0.1157\n",
      "Epoch 42/600\n",
      "14/14 [==============================] - 0s 5ms/step - loss: 0.0690 - val_loss: 0.1154\n",
      "Epoch 43/600\n",
      "14/14 [==============================] - 0s 5ms/step - loss: 0.0661 - val_loss: 0.1119\n",
      "Epoch 44/600\n",
      "14/14 [==============================] - 0s 5ms/step - loss: 0.0640 - val_loss: 0.1158\n",
      "Epoch 45/600\n",
      "14/14 [==============================] - 0s 5ms/step - loss: 0.0634 - val_loss: 0.1130\n",
      "Epoch 46/600\n",
      "14/14 [==============================] - 0s 5ms/step - loss: 0.0634 - val_loss: 0.1139\n",
      "Epoch 47/600\n",
      "14/14 [==============================] - 0s 5ms/step - loss: 0.0631 - val_loss: 0.1118\n",
      "Epoch 48/600\n",
      "14/14 [==============================] - 0s 4ms/step - loss: 0.0609 - val_loss: 0.1191\n",
      "Epoch 49/600\n",
      "14/14 [==============================] - 0s 4ms/step - loss: 0.0605 - val_loss: 0.1124\n",
      "Epoch 50/600\n",
      "14/14 [==============================] - 0s 4ms/step - loss: 0.0627 - val_loss: 0.1206\n",
      "Epoch 51/600\n",
      "14/14 [==============================] - 0s 4ms/step - loss: 0.0590 - val_loss: 0.1135\n",
      "Epoch 52/600\n",
      "14/14 [==============================] - 0s 4ms/step - loss: 0.0630 - val_loss: 0.1134\n",
      "Epoch 53/600\n",
      "14/14 [==============================] - 0s 4ms/step - loss: 0.0628 - val_loss: 0.1211\n",
      "Epoch 54/600\n",
      "14/14 [==============================] - 0s 5ms/step - loss: 0.0617 - val_loss: 0.1125\n",
      "Epoch 55/600\n",
      "14/14 [==============================] - 0s 5ms/step - loss: 0.0606 - val_loss: 0.1168\n",
      "Epoch 56/600\n",
      "14/14 [==============================] - 0s 4ms/step - loss: 0.0591 - val_loss: 0.1127\n",
      "Epoch 57/600\n",
      "14/14 [==============================] - 0s 5ms/step - loss: 0.0545 - val_loss: 0.1235\n",
      "Epoch 58/600\n",
      "14/14 [==============================] - 0s 5ms/step - loss: 0.0562 - val_loss: 0.1142\n",
      "Epoch 59/600\n",
      "14/14 [==============================] - 0s 5ms/step - loss: 0.0551 - val_loss: 0.1184\n",
      "Epoch 60/600\n",
      "14/14 [==============================] - 0s 5ms/step - loss: 0.0544 - val_loss: 0.1167\n",
      "Epoch 61/600\n",
      "14/14 [==============================] - 0s 4ms/step - loss: 0.0544 - val_loss: 0.1160\n",
      "Epoch 62/600\n",
      "14/14 [==============================] - 0s 5ms/step - loss: 0.0581 - val_loss: 0.1206\n",
      "Epoch 63/600\n",
      "14/14 [==============================] - 0s 5ms/step - loss: 0.0538 - val_loss: 0.1131\n",
      "Epoch 64/600\n",
      "14/14 [==============================] - 0s 5ms/step - loss: 0.0562 - val_loss: 0.1141\n",
      "Epoch 65/600\n",
      "14/14 [==============================] - 0s 4ms/step - loss: 0.0517 - val_loss: 0.1135\n",
      "Epoch 66/600\n",
      "14/14 [==============================] - 0s 4ms/step - loss: 0.0521 - val_loss: 0.1143\n",
      "Epoch 67/600\n",
      "14/14 [==============================] - 0s 5ms/step - loss: 0.0522 - val_loss: 0.1159\n",
      "Epoch 68/600\n",
      "14/14 [==============================] - 0s 5ms/step - loss: 0.0527 - val_loss: 0.1122\n",
      "Epoch 69/600\n",
      "14/14 [==============================] - 0s 4ms/step - loss: 0.0534 - val_loss: 0.1166\n",
      "Epoch 70/600\n",
      "14/14 [==============================] - 0s 5ms/step - loss: 0.0511 - val_loss: 0.1147\n",
      "Epoch 71/600\n",
      "14/14 [==============================] - 0s 4ms/step - loss: 0.0514 - val_loss: 0.1149\n",
      "Epoch 72/600\n",
      "14/14 [==============================] - 0s 4ms/step - loss: 0.0553 - val_loss: 0.1167\n",
      "Epoch 72: early stopping\n"
     ]
    },
    {
     "data": {
      "text/plain": [
       "<keras.callbacks.History at 0x281ec2d8610>"
      ]
     },
     "execution_count": 58,
     "metadata": {},
     "output_type": "execute_result"
    }
   ],
   "source": [
    "model.fit(x=X_train, \n",
    "          y=y_train, \n",
    "          epochs=600,\n",
    "          validation_data=(X_test, y_test), verbose=1,\n",
    "          callbacks=[early_stop]\n",
    "          )"
   ]
  },
  {
   "cell_type": "code",
   "execution_count": 59,
   "metadata": {},
   "outputs": [
    {
     "data": {
      "text/plain": [
       "<AxesSubplot:>"
      ]
     },
     "execution_count": 59,
     "metadata": {},
     "output_type": "execute_result"
    },
    {
     "data": {
      "image/png": "[encoded data removed]",
      "text/plain": [
       "<Figure size 640x480 with 1 Axes>"
      ]
     },
     "metadata": {},
     "output_type": "display_data"
    }
   ],
   "source": [
    "model_loss = pd.DataFrame(model.history.history)\n",
    "model_loss.plot()"
   ]
  },
  {
   "cell_type": "code",
   "execution_count": 60,
   "metadata": {},
   "outputs": [],
   "source": [
    "from tensorflow.keras.layers import Dropout"
   ]
  },
  {
   "cell_type": "code",
   "execution_count": 61,
   "metadata": {},
   "outputs": [],
   "source": [
    "model = Sequential()\n",
    "model.add(Dense(units=30,activation='relu'))\n",
    "model.add(Dropout(0.5))\n",
    "\n",
    "model.add(Dense(units=15,activation='relu'))\n",
    "model.add(Dropout(0.5))\n",
    "\n",
    "model.add(Dense(units=1,activation='sigmoid'))\n",
    "model.compile(loss='binary_crossentropy', optimizer='adam')"
   ]
  },
  {
   "cell_type": "code",
   "execution_count": 62,
   "metadata": {},
   "outputs": [
    {
     "name": "stdout",
     "output_type": "stream",
     "text": [
      "Epoch 1/600\n",
      "14/14 [==============================] - 3s 17ms/step - loss: 0.6729 - val_loss: 0.6536\n",
      "Epoch 2/600\n",
      "14/14 [==============================] - 0s 4ms/step - loss: 0.6838 - val_loss: 0.6401\n",
      "Epoch 3/600\n",
      "14/14 [==============================] - 0s 4ms/step - loss: 0.6558 - val_loss: 0.6300\n",
      "Epoch 4/600\n",
      "14/14 [==============================] - 0s 5ms/step - loss: 0.6305 - val_loss: 0.6154\n",
      "Epoch 5/600\n",
      "14/14 [==============================] - 0s 4ms/step - loss: 0.6267 - val_loss: 0.5967\n",
      "Epoch 6/600\n",
      "14/14 [==============================] - 0s 4ms/step - loss: 0.6096 - val_loss: 0.5751\n",
      "Epoch 7/600\n",
      "14/14 [==============================] - 0s 4ms/step - loss: 0.5946 - val_loss: 0.5545\n",
      "Epoch 8/600\n",
      "14/14 [==============================] - 0s 4ms/step - loss: 0.5830 - val_loss: 0.5301\n",
      "Epoch 9/600\n",
      "14/14 [==============================] - 0s 4ms/step - loss: 0.5609 - val_loss: 0.5050\n",
      "Epoch 10/600\n",
      "14/14 [==============================] - 0s 4ms/step - loss: 0.5367 - val_loss: 0.4831\n",
      "Epoch 11/600\n",
      "14/14 [==============================] - 0s 4ms/step - loss: 0.5154 - val_loss: 0.4584\n",
      "Epoch 12/600\n",
      "14/14 [==============================] - 0s 4ms/step - loss: 0.5202 - val_loss: 0.4376\n",
      "Epoch 13/600\n",
      "14/14 [==============================] - 0s 4ms/step - loss: 0.4747 - val_loss: 0.4127\n",
      "Epoch 14/600\n",
      "14/14 [==============================] - 0s 5ms/step - loss: 0.4763 - val_loss: 0.3824\n",
      "Epoch 15/600\n",
      "14/14 [==============================] - 0s 5ms/step - loss: 0.4579 - val_loss: 0.3600\n",
      "Epoch 16/600\n",
      "14/14 [==============================] - 0s 5ms/step - loss: 0.4262 - val_loss: 0.3355\n",
      "Epoch 17/600\n",
      "14/14 [==============================] - 0s 5ms/step - loss: 0.4026 - val_loss: 0.3081\n",
      "Epoch 18/600\n",
      "14/14 [==============================] - 0s 4ms/step - loss: 0.3875 - val_loss: 0.2893\n",
      "Epoch 19/600\n",
      "14/14 [==============================] - 0s 5ms/step - loss: 0.3769 - val_loss: 0.2742\n",
      "Epoch 20/600\n",
      "14/14 [==============================] - 0s 5ms/step - loss: 0.3691 - val_loss: 0.2583\n",
      "Epoch 21/600\n",
      "14/14 [==============================] - 0s 5ms/step - loss: 0.3510 - val_loss: 0.2436\n",
      "Epoch 22/600\n",
      "14/14 [==============================] - 0s 5ms/step - loss: 0.2990 - val_loss: 0.2284\n",
      "Epoch 23/600\n",
      "14/14 [==============================] - 0s 5ms/step - loss: 0.3284 - val_loss: 0.2160\n",
      "Epoch 24/600\n",
      "14/14 [==============================] - 0s 5ms/step - loss: 0.2814 - val_loss: 0.2033\n",
      "Epoch 25/600\n",
      "14/14 [==============================] - 0s 5ms/step - loss: 0.3092 - val_loss: 0.1945\n",
      "Epoch 26/600\n",
      "14/14 [==============================] - 0s 4ms/step - loss: 0.2912 - val_loss: 0.1866\n",
      "Epoch 27/600\n",
      "14/14 [==============================] - 0s 4ms/step - loss: 0.2842 - val_loss: 0.1795\n",
      "Epoch 28/600\n",
      "14/14 [==============================] - 0s 5ms/step - loss: 0.2499 - val_loss: 0.1743\n",
      "Epoch 29/600\n",
      "14/14 [==============================] - 0s 5ms/step - loss: 0.2475 - val_loss: 0.1638\n",
      "Epoch 30/600\n",
      "14/14 [==============================] - 0s 5ms/step - loss: 0.2754 - val_loss: 0.1583\n",
      "Epoch 31/600\n",
      "14/14 [==============================] - 0s 5ms/step - loss: 0.2417 - val_loss: 0.1550\n",
      "Epoch 32/600\n",
      "14/14 [==============================] - 0s 5ms/step - loss: 0.2197 - val_loss: 0.1506\n",
      "Epoch 33/600\n",
      "14/14 [==============================] - 0s 4ms/step - loss: 0.2107 - val_loss: 0.1426\n",
      "Epoch 34/600\n",
      "14/14 [==============================] - 0s 4ms/step - loss: 0.2497 - val_loss: 0.1437\n",
      "Epoch 35/600\n",
      "14/14 [==============================] - 0s 4ms/step - loss: 0.2118 - val_loss: 0.1438\n",
      "Epoch 36/600\n",
      "14/14 [==============================] - 0s 4ms/step - loss: 0.2641 - val_loss: 0.1362\n",
      "Epoch 37/600\n",
      "14/14 [==============================] - 0s 4ms/step - loss: 0.2049 - val_loss: 0.1356\n",
      "Epoch 38/600\n",
      "14/14 [==============================] - 0s 4ms/step - loss: 0.2096 - val_loss: 0.1375\n",
      "Epoch 39/600\n",
      "14/14 [==============================] - 0s 4ms/step - loss: 0.2029 - val_loss: 0.1249\n",
      "Epoch 40/600\n",
      "14/14 [==============================] - 0s 4ms/step - loss: 0.2104 - val_loss: 0.1255\n",
      "Epoch 41/600\n",
      "14/14 [==============================] - 0s 4ms/step - loss: 0.1916 - val_loss: 0.1243\n",
      "Epoch 42/600\n",
      "14/14 [==============================] - 0s 4ms/step - loss: 0.1984 - val_loss: 0.1251\n",
      "Epoch 43/600\n",
      "14/14 [==============================] - 0s 4ms/step - loss: 0.1744 - val_loss: 0.1265\n",
      "Epoch 44/600\n",
      "14/14 [==============================] - 0s 4ms/step - loss: 0.1797 - val_loss: 0.1165\n",
      "Epoch 45/600\n",
      "14/14 [==============================] - 0s 4ms/step - loss: 0.1780 - val_loss: 0.1152\n",
      "Epoch 46/600\n",
      "14/14 [==============================] - 0s 4ms/step - loss: 0.2072 - val_loss: 0.1113\n",
      "Epoch 47/600\n",
      "14/14 [==============================] - 0s 4ms/step - loss: 0.1644 - val_loss: 0.1118\n",
      "Epoch 48/600\n",
      "14/14 [==============================] - 0s 4ms/step - loss: 0.1905 - val_loss: 0.1131\n",
      "Epoch 49/600\n",
      "14/14 [==============================] - 0s 4ms/step - loss: 0.1455 - val_loss: 0.1147\n",
      "Epoch 50/600\n",
      "14/14 [==============================] - 0s 4ms/step - loss: 0.1622 - val_loss: 0.1092\n",
      "Epoch 51/600\n",
      "14/14 [==============================] - 0s 4ms/step - loss: 0.1558 - val_loss: 0.1035\n",
      "Epoch 52/600\n",
      "14/14 [==============================] - 0s 4ms/step - loss: 0.1568 - val_loss: 0.1120\n",
      "Epoch 53/600\n",
      "14/14 [==============================] - 0s 4ms/step - loss: 0.1594 - val_loss: 0.1030\n",
      "Epoch 54/600\n",
      "14/14 [==============================] - 0s 4ms/step - loss: 0.1717 - val_loss: 0.1031\n",
      "Epoch 55/600\n",
      "14/14 [==============================] - 0s 4ms/step - loss: 0.1507 - val_loss: 0.1055\n",
      "Epoch 56/600\n",
      "14/14 [==============================] - 0s 4ms/step - loss: 0.1563 - val_loss: 0.1081\n",
      "Epoch 57/600\n",
      "14/14 [==============================] - 0s 4ms/step - loss: 0.1680 - val_loss: 0.1031\n",
      "Epoch 58/600\n",
      "14/14 [==============================] - 0s 3ms/step - loss: 0.1560 - val_loss: 0.1033\n",
      "Epoch 59/600\n",
      "14/14 [==============================] - 0s 4ms/step - loss: 0.1573 - val_loss: 0.1100\n",
      "Epoch 60/600\n",
      "14/14 [==============================] - 0s 4ms/step - loss: 0.1420 - val_loss: 0.1034\n",
      "Epoch 61/600\n",
      "14/14 [==============================] - 0s 4ms/step - loss: 0.1420 - val_loss: 0.1010\n",
      "Epoch 62/600\n",
      "14/14 [==============================] - 0s 4ms/step - loss: 0.1306 - val_loss: 0.1022\n",
      "Epoch 63/600\n",
      "14/14 [==============================] - 0s 3ms/step - loss: 0.1380 - val_loss: 0.1127\n",
      "Epoch 64/600\n",
      "14/14 [==============================] - 0s 3ms/step - loss: 0.1621 - val_loss: 0.0977\n",
      "Epoch 65/600\n",
      "14/14 [==============================] - 0s 4ms/step - loss: 0.1493 - val_loss: 0.0998\n",
      "Epoch 66/600\n",
      "14/14 [==============================] - 0s 4ms/step - loss: 0.1191 - val_loss: 0.0971\n",
      "Epoch 67/600\n",
      "14/14 [==============================] - 0s 4ms/step - loss: 0.1500 - val_loss: 0.0984\n",
      "Epoch 68/600\n",
      "14/14 [==============================] - 0s 4ms/step - loss: 0.1103 - val_loss: 0.1020\n",
      "Epoch 69/600\n",
      "14/14 [==============================] - 0s 4ms/step - loss: 0.1531 - val_loss: 0.0991\n",
      "Epoch 70/600\n",
      "14/14 [==============================] - 0s 4ms/step - loss: 0.1067 - val_loss: 0.0954\n",
      "Epoch 71/600\n",
      "14/14 [==============================] - 0s 4ms/step - loss: 0.1150 - val_loss: 0.0947\n",
      "Epoch 72/600\n",
      "14/14 [==============================] - 0s 4ms/step - loss: 0.1481 - val_loss: 0.0945\n",
      "Epoch 73/600\n",
      "14/14 [==============================] - 0s 4ms/step - loss: 0.1215 - val_loss: 0.0940\n",
      "Epoch 74/600\n",
      "14/14 [==============================] - 0s 4ms/step - loss: 0.1264 - val_loss: 0.0950\n",
      "Epoch 75/600\n",
      "14/14 [==============================] - 0s 4ms/step - loss: 0.1313 - val_loss: 0.1091\n",
      "Epoch 76/600\n",
      "14/14 [==============================] - 0s 4ms/step - loss: 0.1395 - val_loss: 0.0923\n",
      "Epoch 77/600\n",
      "14/14 [==============================] - 0s 4ms/step - loss: 0.1225 - val_loss: 0.0924\n",
      "Epoch 78/600\n",
      "14/14 [==============================] - 0s 4ms/step - loss: 0.1186 - val_loss: 0.1019\n",
      "Epoch 79/600\n",
      "14/14 [==============================] - 0s 3ms/step - loss: 0.1346 - val_loss: 0.0991\n",
      "Epoch 80/600\n",
      "14/14 [==============================] - 0s 4ms/step - loss: 0.1179 - val_loss: 0.0923\n",
      "Epoch 81/600\n",
      "14/14 [==============================] - 0s 3ms/step - loss: 0.1183 - val_loss: 0.0949\n",
      "Epoch 82/600\n",
      "14/14 [==============================] - 0s 3ms/step - loss: 0.1115 - val_loss: 0.0918\n",
      "Epoch 83/600\n"
     ]
    },
    {
     "name": "stdout",
     "output_type": "stream",
     "text": [
      "14/14 [==============================] - 0s 4ms/step - loss: 0.1181 - val_loss: 0.0948\n",
      "Epoch 84/600\n",
      "14/14 [==============================] - 0s 5ms/step - loss: 0.1076 - val_loss: 0.1028\n",
      "Epoch 85/600\n",
      "14/14 [==============================] - 0s 6ms/step - loss: 0.1172 - val_loss: 0.0937\n",
      "Epoch 86/600\n",
      "14/14 [==============================] - 0s 6ms/step - loss: 0.1168 - val_loss: 0.0966\n",
      "Epoch 87/600\n",
      "14/14 [==============================] - 0s 6ms/step - loss: 0.1270 - val_loss: 0.1123\n",
      "Epoch 88/600\n",
      "14/14 [==============================] - 0s 5ms/step - loss: 0.1087 - val_loss: 0.0914\n",
      "Epoch 89/600\n",
      "14/14 [==============================] - 0s 4ms/step - loss: 0.1135 - val_loss: 0.0904\n",
      "Epoch 90/600\n",
      "14/14 [==============================] - 0s 4ms/step - loss: 0.0988 - val_loss: 0.1036\n",
      "Epoch 91/600\n",
      "14/14 [==============================] - 0s 4ms/step - loss: 0.1203 - val_loss: 0.0999\n",
      "Epoch 92/600\n",
      "14/14 [==============================] - 0s 4ms/step - loss: 0.1236 - val_loss: 0.0881\n",
      "Epoch 93/600\n",
      "14/14 [==============================] - 0s 4ms/step - loss: 0.1000 - val_loss: 0.0895\n",
      "Epoch 94/600\n",
      "14/14 [==============================] - 0s 4ms/step - loss: 0.1153 - val_loss: 0.1010\n",
      "Epoch 95/600\n",
      "14/14 [==============================] - 0s 4ms/step - loss: 0.1184 - val_loss: 0.1010\n",
      "Epoch 96/600\n",
      "14/14 [==============================] - 0s 4ms/step - loss: 0.1248 - val_loss: 0.0994\n",
      "Epoch 97/600\n",
      "14/14 [==============================] - 0s 4ms/step - loss: 0.1073 - val_loss: 0.0906\n",
      "Epoch 98/600\n",
      "14/14 [==============================] - 0s 4ms/step - loss: 0.0914 - val_loss: 0.1007\n",
      "Epoch 99/600\n",
      "14/14 [==============================] - 0s 4ms/step - loss: 0.1075 - val_loss: 0.0888\n",
      "Epoch 100/600\n",
      "14/14 [==============================] - 0s 4ms/step - loss: 0.1212 - val_loss: 0.0989\n",
      "Epoch 101/600\n",
      "14/14 [==============================] - 0s 4ms/step - loss: 0.0918 - val_loss: 0.0987\n",
      "Epoch 102/600\n",
      "14/14 [==============================] - 0s 4ms/step - loss: 0.1239 - val_loss: 0.0889\n",
      "Epoch 103/600\n",
      "14/14 [==============================] - 0s 4ms/step - loss: 0.1023 - val_loss: 0.0951\n",
      "Epoch 104/600\n",
      "14/14 [==============================] - 0s 4ms/step - loss: 0.0870 - val_loss: 0.1012\n",
      "Epoch 105/600\n",
      "14/14 [==============================] - 0s 4ms/step - loss: 0.0992 - val_loss: 0.0919\n",
      "Epoch 106/600\n",
      "14/14 [==============================] - 0s 4ms/step - loss: 0.1054 - val_loss: 0.0944\n",
      "Epoch 107/600\n",
      "14/14 [==============================] - 0s 3ms/step - loss: 0.1041 - val_loss: 0.0907\n",
      "Epoch 108/600\n",
      "14/14 [==============================] - 0s 4ms/step - loss: 0.1097 - val_loss: 0.0921\n",
      "Epoch 109/600\n",
      "14/14 [==============================] - 0s 4ms/step - loss: 0.1015 - val_loss: 0.1031\n",
      "Epoch 110/600\n",
      "14/14 [==============================] - 0s 4ms/step - loss: 0.0895 - val_loss: 0.0918\n",
      "Epoch 111/600\n",
      "14/14 [==============================] - 0s 4ms/step - loss: 0.0998 - val_loss: 0.0949\n",
      "Epoch 112/600\n",
      "14/14 [==============================] - 0s 4ms/step - loss: 0.0945 - val_loss: 0.0910\n",
      "Epoch 113/600\n",
      "14/14 [==============================] - 0s 4ms/step - loss: 0.1156 - val_loss: 0.0973\n",
      "Epoch 114/600\n",
      "14/14 [==============================] - 0s 4ms/step - loss: 0.1099 - val_loss: 0.0934\n",
      "Epoch 115/600\n",
      "14/14 [==============================] - 0s 4ms/step - loss: 0.1044 - val_loss: 0.0895\n",
      "Epoch 116/600\n",
      "14/14 [==============================] - 0s 4ms/step - loss: 0.0903 - val_loss: 0.0927\n",
      "Epoch 117/600\n",
      "14/14 [==============================] - 0s 4ms/step - loss: 0.0883 - val_loss: 0.1023\n",
      "Epoch 117: early stopping\n"
     ]
    },
    {
     "data": {
      "text/plain": [
       "<keras.callbacks.History at 0x281ed597220>"
      ]
     },
     "execution_count": 62,
     "metadata": {},
     "output_type": "execute_result"
    }
   ],
   "source": [
    "model.fit(x=X_train, \n",
    "          y=y_train, \n",
    "          epochs=600,\n",
    "          validation_data=(X_test, y_test), verbose=1,\n",
    "          callbacks=[early_stop]\n",
    "          )"
   ]
  },
  {
   "cell_type": "code",
   "execution_count": 63,
   "metadata": {},
   "outputs": [
    {
     "data": {
      "text/plain": [
       "<AxesSubplot:>"
      ]
     },
     "execution_count": 63,
     "metadata": {},
     "output_type": "execute_result"
    },
    {
     "data": {
      "image/png": "[encoded data removed]",
      "text/plain": [
       "<Figure size 640x480 with 1 Axes>"
      ]
     },
     "metadata": {},
     "output_type": "display_data"
    }
   ],
   "source": [
    "model_loss = pd.DataFrame(model.history.history)\n",
    "model_loss.plot()"
   ]
  },
  {
   "cell_type": "markdown",
   "metadata": {},
   "source": [
    "# Model Evaluation"
   ]
  },
  {
   "cell_type": "code",
   "execution_count": 64,
   "metadata": {},
   "outputs": [
    {
     "name": "stdout",
     "output_type": "stream",
     "text": [
      "5/5 [==============================] - 3s 2ms/step\n"
     ]
    }
   ],
   "source": [
    "predictions=(model.predict(X_test) > 0.5).astype(\"int32\")"
   ]
  },
  {
   "cell_type": "code",
   "execution_count": 65,
   "metadata": {},
   "outputs": [],
   "source": [
    "from sklearn.metrics import classification_report,confusion_matrix"
   ]
  },
  {
   "cell_type": "code",
   "execution_count": 66,
   "metadata": {},
   "outputs": [
    {
     "name": "stdout",
     "output_type": "stream",
     "text": [
      "              precision    recall  f1-score   support\n",
      "\n",
      "           0       0.96      0.98      0.97        55\n",
      "           1       0.99      0.98      0.98        88\n",
      "\n",
      "    accuracy                           0.98       143\n",
      "   macro avg       0.98      0.98      0.98       143\n",
      "weighted avg       0.98      0.98      0.98       143\n",
      "\n"
     ]
    }
   ],
   "source": [
    "# https://en.wikipedia.org/wiki/Precision_and_recall\n",
    "print(classification_report(y_test,predictions))"
   ]
  },
  {
   "cell_type": "code",
   "execution_count": 67,
   "metadata": {},
   "outputs": [
    {
     "name": "stdout",
     "output_type": "stream",
     "text": [
      "[[54  1]\n",
      " [ 2 86]]\n"
     ]
    }
   ],
   "source": [
    "print(confusion_matrix(y_test,predictions))"
   ]
  },
  {
   "cell_type": "code",
   "execution_count": 68,
   "metadata": {},
   "outputs": [],
   "source": [
    "accuracy['ANN']=accuracy_score(y_test,predictions)"
   ]
  },
  {
   "cell_type": "code",
   "execution_count": 69,
   "metadata": {},
   "outputs": [
    {
     "data": {
      "text/plain": [
       "{'Logistic Regression': 0.972027972027972,\n",
       " 'KNN': 0.9370629370629371,\n",
       " 'Naive Bayes': 0.9300699300699301,\n",
       " 'Decision Tree': 0.9300699300699301,\n",
       " 'Random Forest Classifier': 0.965034965034965,\n",
       " 'AdaBoosting': 0.9300699300699301,\n",
       " 'Bagging': 0.972027972027972,\n",
       " 'ANN': 0.9790209790209791}"
      ]
     },
     "execution_count": 69,
     "metadata": {},
     "output_type": "execute_result"
    }
   ],
   "source": [
    "accuracy"
   ]
  },
  {
   "cell_type": "code",
   "execution_count": 73,
   "metadata": {},
   "outputs": [],
   "source": [
    "color=['blue','black','yellow','green','red','pink','violet','gold']"
   ]
  },
  {
   "cell_type": "code",
   "execution_count": 76,
   "metadata": {},
   "outputs": [
    {
     "data": {
      "text/plain": [
       "<BarContainer object of 8 artists>"
      ]
     },
     "execution_count": 76,
     "metadata": {},
     "output_type": "execute_result"
    },
    {
     "data": {
      "image/png": "[encoded data removed]",
      "text/plain": [
       "<Figure size 1800x600 with 1 Axes>"
      ]
     },
     "metadata": {},
     "output_type": "display_data"
    }
   ],
   "source": [
    "plt.figure(figsize=(18,6))\n",
    "plt.bar(x=accuracy.keys(),height=accuracy.values(),color=color)"
   ]
  },
  {
   "cell_type": "markdown",
   "metadata": {},
   "source": [
    "### Save the model in JSON format and weights in h5 format"
   ]
  },
  {
   "cell_type": "code",
   "execution_count": null,
   "metadata": {},
   "outputs": [],
   "source": [
    "model_json=model.to_json()"
   ]
  },
  {
   "cell_type": "code",
   "execution_count": null,
   "metadata": {},
   "outputs": [],
   "source": [
    "with open(\"model_ann.json\",\"w\") as json_file:\n",
    "    json_file.write(model_json)"
   ]
  },
  {
   "cell_type": "code",
   "execution_count": null,
   "metadata": {},
   "outputs": [],
   "source": [
    "model.save_weights(\"model_ann_weights.h5\")"
   ]
  },
  {
   "cell_type": "markdown",
   "metadata": {},
   "source": [
    "### Predict the new feature target value"
   ]
  },
  {
   "cell_type": "code",
   "execution_count": null,
   "metadata": {},
   "outputs": [],
   "source": [
    "val=list(df.iloc(0)[0])"
   ]
  },
  {
   "cell_type": "code",
   "execution_count": null,
   "metadata": {},
   "outputs": [],
   "source": [
    "df.iloc(0)[0]"
   ]
  },
  {
   "cell_type": "code",
   "execution_count": null,
   "metadata": {},
   "outputs": [],
   "source": [
    "X_test[0]"
   ]
  },
  {
   "cell_type": "code",
   "execution_count": null,
   "metadata": {},
   "outputs": [],
   "source": [
    "val=np.array(val[:30])"
   ]
  },
  {
   "cell_type": "code",
   "execution_count": null,
   "metadata": {},
   "outputs": [],
   "source": [
    "val.shape"
   ]
  },
  {
   "cell_type": "code",
   "execution_count": null,
   "metadata": {},
   "outputs": [],
   "source": [
    "val=scaler.transform([val])"
   ]
  },
  {
   "cell_type": "code",
   "execution_count": null,
   "metadata": {},
   "outputs": [],
   "source": [
    "p=(model.predict(val) > 0.5).astype(\"int32\")"
   ]
  },
  {
   "cell_type": "code",
   "execution_count": null,
   "metadata": {},
   "outputs": [],
   "source": [
    "p[0][0]"
   ]
  }
 ],
 "metadata": {
  "kernelspec": {
   "display_name": "Python 3 (ipykernel)",
   "language": "python",
   "name": "python3"
  },
  "language_info": {
   "codemirror_mode": {
    "name": "ipython",
    "version": 3
   },
   "file_extension": ".py",
   "mimetype": "text/x-python",
   "name": "python",
   "nbconvert_exporter": "python",
   "pygments_lexer": "ipython3",
   "version": "3.9.13"
  }
 },
 "nbformat": 4,
 "nbformat_minor": 2
}
