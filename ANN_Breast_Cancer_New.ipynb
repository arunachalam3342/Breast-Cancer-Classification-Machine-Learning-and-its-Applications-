{
 "cells": [
  {
   "cell_type": "code",
   "execution_count": 2,
   "id": "b65ade6e",
   "metadata": {},
   "outputs": [],
   "source": [
    "import pandas as pd\n",
    "import numpy as np"
   ]
  },
  {
   "cell_type": "code",
   "execution_count": 3,
   "id": "ff34850e",
   "metadata": {},
   "outputs": [],
   "source": [
    "col_names=['Id','Clump Thickness','Uniformity of Cell Size','Uniformity of Cell Shape','Marginal Adhesion','Single Epithelial Cell Size','Bare Nuclei','Bland Chromatin','Normal Nucleoli','Mitoses','Class']"
   ]
  },
  {
   "cell_type": "code",
   "execution_count": 4,
   "id": "7c7e0fc9",
   "metadata": {},
   "outputs": [],
   "source": [
    "data= pd.read_csv('DATA/breast-cancer-wisconsin.data',names=col_names)"
   ]
  },
  {
   "cell_type": "code",
   "execution_count": 5,
   "id": "d1747905",
   "metadata": {},
   "outputs": [
    {
     "data": {
      "text/html": [
       "<div>\n",
       "<style scoped>\n",
       "    .dataframe tbody tr th:only-of-type {\n",
       "        vertical-align: middle;\n",
       "    }\n",
       "\n",
       "    .dataframe tbody tr th {\n",
       "        vertical-align: top;\n",
       "    }\n",
       "\n",
       "    .dataframe thead th {\n",
       "        text-align: right;\n",
       "    }\n",
       "</style>\n",
       "<table border=\"1\" class=\"dataframe\">\n",
       "  <thead>\n",
       "    <tr style=\"text-align: right;\">\n",
       "      <th></th>\n",
       "      <th>Id</th>\n",
       "      <th>Clump Thickness</th>\n",
       "      <th>Uniformity of Cell Size</th>\n",
       "      <th>Uniformity of Cell Shape</th>\n",
       "      <th>Marginal Adhesion</th>\n",
       "      <th>Single Epithelial Cell Size</th>\n",
       "      <th>Bare Nuclei</th>\n",
       "      <th>Bland Chromatin</th>\n",
       "      <th>Normal Nucleoli</th>\n",
       "      <th>Mitoses</th>\n",
       "      <th>Class</th>\n",
       "    </tr>\n",
       "  </thead>\n",
       "  <tbody>\n",
       "    <tr>\n",
       "      <th>0</th>\n",
       "      <td>1000025</td>\n",
       "      <td>5</td>\n",
       "      <td>1</td>\n",
       "      <td>1</td>\n",
       "      <td>1</td>\n",
       "      <td>2</td>\n",
       "      <td>1</td>\n",
       "      <td>3</td>\n",
       "      <td>1</td>\n",
       "      <td>1</td>\n",
       "      <td>2</td>\n",
       "    </tr>\n",
       "    <tr>\n",
       "      <th>1</th>\n",
       "      <td>1002945</td>\n",
       "      <td>5</td>\n",
       "      <td>4</td>\n",
       "      <td>4</td>\n",
       "      <td>5</td>\n",
       "      <td>7</td>\n",
       "      <td>10</td>\n",
       "      <td>3</td>\n",
       "      <td>2</td>\n",
       "      <td>1</td>\n",
       "      <td>2</td>\n",
       "    </tr>\n",
       "    <tr>\n",
       "      <th>2</th>\n",
       "      <td>1015425</td>\n",
       "      <td>3</td>\n",
       "      <td>1</td>\n",
       "      <td>1</td>\n",
       "      <td>1</td>\n",
       "      <td>2</td>\n",
       "      <td>2</td>\n",
       "      <td>3</td>\n",
       "      <td>1</td>\n",
       "      <td>1</td>\n",
       "      <td>2</td>\n",
       "    </tr>\n",
       "    <tr>\n",
       "      <th>3</th>\n",
       "      <td>1016277</td>\n",
       "      <td>6</td>\n",
       "      <td>8</td>\n",
       "      <td>8</td>\n",
       "      <td>1</td>\n",
       "      <td>3</td>\n",
       "      <td>4</td>\n",
       "      <td>3</td>\n",
       "      <td>7</td>\n",
       "      <td>1</td>\n",
       "      <td>2</td>\n",
       "    </tr>\n",
       "    <tr>\n",
       "      <th>4</th>\n",
       "      <td>1017023</td>\n",
       "      <td>4</td>\n",
       "      <td>1</td>\n",
       "      <td>1</td>\n",
       "      <td>3</td>\n",
       "      <td>2</td>\n",
       "      <td>1</td>\n",
       "      <td>3</td>\n",
       "      <td>1</td>\n",
       "      <td>1</td>\n",
       "      <td>2</td>\n",
       "    </tr>\n",
       "  </tbody>\n",
       "</table>\n",
       "</div>"
      ],
      "text/plain": [
       "        Id  Clump Thickness  Uniformity of Cell Size  \\\n",
       "0  1000025                5                        1   \n",
       "1  1002945                5                        4   \n",
       "2  1015425                3                        1   \n",
       "3  1016277                6                        8   \n",
       "4  1017023                4                        1   \n",
       "\n",
       "   Uniformity of Cell Shape  Marginal Adhesion  Single Epithelial Cell Size  \\\n",
       "0                         1                  1                            2   \n",
       "1                         4                  5                            7   \n",
       "2                         1                  1                            2   \n",
       "3                         8                  1                            3   \n",
       "4                         1                  3                            2   \n",
       "\n",
       "  Bare Nuclei  Bland Chromatin  Normal Nucleoli  Mitoses  Class  \n",
       "0           1                3                1        1      2  \n",
       "1          10                3                2        1      2  \n",
       "2           2                3                1        1      2  \n",
       "3           4                3                7        1      2  \n",
       "4           1                3                1        1      2  "
      ]
     },
     "execution_count": 5,
     "metadata": {},
     "output_type": "execute_result"
    }
   ],
   "source": [
    "data.head()"
   ]
  },
  {
   "cell_type": "code",
   "execution_count": 6,
   "id": "8a4d3ed8",
   "metadata": {},
   "outputs": [
    {
     "name": "stdout",
     "output_type": "stream",
     "text": [
      "<class 'pandas.core.frame.DataFrame'>\n",
      "RangeIndex: 699 entries, 0 to 698\n",
      "Data columns (total 11 columns):\n",
      " #   Column                       Non-Null Count  Dtype \n",
      "---  ------                       --------------  ----- \n",
      " 0   Id                           699 non-null    int64 \n",
      " 1   Clump Thickness              699 non-null    int64 \n",
      " 2   Uniformity of Cell Size      699 non-null    int64 \n",
      " 3   Uniformity of Cell Shape     699 non-null    int64 \n",
      " 4   Marginal Adhesion            699 non-null    int64 \n",
      " 5   Single Epithelial Cell Size  699 non-null    int64 \n",
      " 6   Bare Nuclei                  699 non-null    object\n",
      " 7   Bland Chromatin              699 non-null    int64 \n",
      " 8   Normal Nucleoli              699 non-null    int64 \n",
      " 9   Mitoses                      699 non-null    int64 \n",
      " 10  Class                        699 non-null    int64 \n",
      "dtypes: int64(10), object(1)\n",
      "memory usage: 60.2+ KB\n"
     ]
    }
   ],
   "source": [
    "data.info()"
   ]
  },
  {
   "cell_type": "code",
   "execution_count": 7,
   "id": "a61b03e1",
   "metadata": {},
   "outputs": [],
   "source": [
    "#remove id column\n",
    "data.drop('Id',axis=1,inplace=True)"
   ]
  },
  {
   "cell_type": "code",
   "execution_count": 8,
   "id": "70dc3474",
   "metadata": {},
   "outputs": [
    {
     "name": "stdout",
     "output_type": "stream",
     "text": [
      "Clump Thickness [ 5  3  6  4  8  1  2  7 10  9]\n",
      "Uniformity of Cell Size [ 1  4  8 10  2  3  7  5  6  9]\n",
      "Uniformity of Cell Shape [ 1  4  8 10  2  3  5  6  7  9]\n",
      "Marginal Adhesion [ 1  5  3  8 10  4  6  2  9  7]\n",
      "Single Epithelial Cell Size [ 2  7  3  1  6  4  5  8 10  9]\n",
      "Bare Nuclei ['1' '10' '2' '4' '3' '9' '7' '?' '5' '8' '6']\n",
      "Bland Chromatin [ 3  9  1  2  4  5  7  8  6 10]\n",
      "Normal Nucleoli [ 1  2  7  4  5  3 10  6  9  8]\n",
      "Mitoses [ 1  5  4  2  3  7 10  8  6]\n",
      "Class [2 4]\n"
     ]
    }
   ],
   "source": [
    "for i in data.columns:\n",
    "    print(i,data[i].unique())"
   ]
  },
  {
   "cell_type": "markdown",
   "id": "79835590",
   "metadata": {},
   "source": [
    "### Filling missing data in Bare Nuclei column"
   ]
  },
  {
   "cell_type": "code",
   "execution_count": 9,
   "id": "f987339d",
   "metadata": {},
   "outputs": [
    {
     "data": {
      "text/plain": [
       "16"
      ]
     },
     "execution_count": 9,
     "metadata": {},
     "output_type": "execute_result"
    }
   ],
   "source": [
    "len(data[data['Bare Nuclei']=='?'])"
   ]
  },
  {
   "cell_type": "code",
   "execution_count": 10,
   "id": "686078fb",
   "metadata": {},
   "outputs": [
    {
     "data": {
      "text/plain": [
       "(699, 10)"
      ]
     },
     "execution_count": 10,
     "metadata": {},
     "output_type": "execute_result"
    }
   ],
   "source": [
    "data.shape"
   ]
  },
  {
   "cell_type": "code",
   "execution_count": 11,
   "id": "94e2b02b",
   "metadata": {},
   "outputs": [],
   "source": [
    "data_new=pd.DataFrame(data[data['Bare Nuclei']!='?'])"
   ]
  },
  {
   "cell_type": "code",
   "execution_count": 12,
   "id": "352ff64e",
   "metadata": {},
   "outputs": [
    {
     "data": {
      "text/plain": [
       "(683, 10)"
      ]
     },
     "execution_count": 12,
     "metadata": {},
     "output_type": "execute_result"
    }
   ],
   "source": [
    "data_new.shape"
   ]
  },
  {
   "cell_type": "code",
   "execution_count": 13,
   "id": "6e472646",
   "metadata": {},
   "outputs": [],
   "source": [
    "data_new['Bare Nuclei']=data_new['Bare Nuclei'].apply(int)"
   ]
  },
  {
   "cell_type": "code",
   "execution_count": 14,
   "id": "39fdc192",
   "metadata": {},
   "outputs": [
    {
     "name": "stdout",
     "output_type": "stream",
     "text": [
      "<class 'pandas.core.frame.DataFrame'>\n",
      "Int64Index: 683 entries, 0 to 698\n",
      "Data columns (total 10 columns):\n",
      " #   Column                       Non-Null Count  Dtype\n",
      "---  ------                       --------------  -----\n",
      " 0   Clump Thickness              683 non-null    int64\n",
      " 1   Uniformity of Cell Size      683 non-null    int64\n",
      " 2   Uniformity of Cell Shape     683 non-null    int64\n",
      " 3   Marginal Adhesion            683 non-null    int64\n",
      " 4   Single Epithelial Cell Size  683 non-null    int64\n",
      " 5   Bare Nuclei                  683 non-null    int64\n",
      " 6   Bland Chromatin              683 non-null    int64\n",
      " 7   Normal Nucleoli              683 non-null    int64\n",
      " 8   Mitoses                      683 non-null    int64\n",
      " 9   Class                        683 non-null    int64\n",
      "dtypes: int64(10)\n",
      "memory usage: 58.7 KB\n"
     ]
    }
   ],
   "source": [
    "data_new.info()"
   ]
  },
  {
   "cell_type": "code",
   "execution_count": 15,
   "id": "c271c6a0",
   "metadata": {},
   "outputs": [
    {
     "data": {
      "text/plain": [
       "Clump Thickness                0.593091\n",
       "Uniformity of Cell Size        0.691709\n",
       "Uniformity of Cell Shape       0.713878\n",
       "Marginal Adhesion              0.670648\n",
       "Single Epithelial Cell Size    0.585716\n",
       "Bare Nuclei                    1.000000\n",
       "Bland Chromatin                0.680615\n",
       "Normal Nucleoli                0.584280\n",
       "Mitoses                        0.339210\n",
       "Class                          0.822696\n",
       "Name: Bare Nuclei, dtype: float64"
      ]
     },
     "execution_count": 15,
     "metadata": {},
     "output_type": "execute_result"
    }
   ],
   "source": [
    "data_new.corr()['Bare Nuclei']"
   ]
  },
  {
   "cell_type": "code",
   "execution_count": 16,
   "id": "24890d8d",
   "metadata": {},
   "outputs": [
    {
     "data": {
      "text/plain": [
       "129"
      ]
     },
     "execution_count": 16,
     "metadata": {},
     "output_type": "execute_result"
    }
   ],
   "source": [
    "len(data_new[(data_new['Bare Nuclei']==10) & (data_new['Class']==4)])"
   ]
  },
  {
   "cell_type": "code",
   "execution_count": 17,
   "id": "b0b2bc7c",
   "metadata": {},
   "outputs": [
    {
     "data": {
      "text/plain": [
       "129"
      ]
     },
     "execution_count": 17,
     "metadata": {},
     "output_type": "execute_result"
    }
   ],
   "source": [
    "len(data_new[(data_new['Bare Nuclei']==10) & (data_new['Class']==4) & (data_new['Uniformity of Cell Shape']>=1)])"
   ]
  },
  {
   "cell_type": "code",
   "execution_count": 18,
   "id": "25a7a70a",
   "metadata": {},
   "outputs": [
    {
     "data": {
      "text/plain": [
       "387"
      ]
     },
     "execution_count": 18,
     "metadata": {},
     "output_type": "execute_result"
    }
   ],
   "source": [
    "len(data_new[(data_new['Bare Nuclei']==1) & (data_new['Class']==2)])"
   ]
  },
  {
   "cell_type": "code",
   "execution_count": 19,
   "id": "931c6577",
   "metadata": {},
   "outputs": [
    {
     "data": {
      "text/plain": [
       "15"
      ]
     },
     "execution_count": 19,
     "metadata": {},
     "output_type": "execute_result"
    }
   ],
   "source": [
    "len(data_new[(data_new['Bare Nuclei']==1) & (data_new['Class']==4)])"
   ]
  },
  {
   "cell_type": "code",
   "execution_count": 20,
   "id": "7591d5af",
   "metadata": {},
   "outputs": [
    {
     "data": {
      "text/plain": [
       "3"
      ]
     },
     "execution_count": 20,
     "metadata": {},
     "output_type": "execute_result"
    }
   ],
   "source": [
    "len(data_new[(data_new['Bare Nuclei']==10) & (data_new['Class']==2)])"
   ]
  },
  {
   "cell_type": "code",
   "execution_count": 21,
   "id": "be74d7d6",
   "metadata": {},
   "outputs": [],
   "source": [
    "import seaborn as sns"
   ]
  },
  {
   "cell_type": "code",
   "execution_count": 22,
   "id": "6606c528",
   "metadata": {},
   "outputs": [
    {
     "data": {
      "text/plain": [
       "<AxesSubplot:xlabel='Bare Nuclei', ylabel='Class'>"
      ]
     },
     "execution_count": 22,
     "metadata": {},
     "output_type": "execute_result"
    },
    {
     "data": {
      "image/png": "[encoded data removed]",
      "text/plain": [
       "<Figure size 640x480 with 1 Axes>"
      ]
     },
     "metadata": {},
     "output_type": "display_data"
    }
   ],
   "source": [
    "sns.scatterplot(x='Bare Nuclei',y='Class',data=data_new)"
   ]
  },
  {
   "cell_type": "code",
   "execution_count": 23,
   "id": "0603d527",
   "metadata": {},
   "outputs": [
    {
     "data": {
      "text/plain": [
       "<AxesSubplot:xlabel='Bare Nuclei', ylabel='Uniformity of Cell Shape'>"
      ]
     },
     "execution_count": 23,
     "metadata": {},
     "output_type": "execute_result"
    },
    {
     "data": {
      "image/png": "[encoded data removed]",
      "text/plain": [
       "<Figure size 640x480 with 1 Axes>"
      ]
     },
     "metadata": {},
     "output_type": "display_data"
    }
   ],
   "source": [
    "sns.lineplot(x='Bare Nuclei',y='Uniformity of Cell Shape',data=data_new)"
   ]
  },
  {
   "cell_type": "code",
   "execution_count": 24,
   "id": "5e64f3c1",
   "metadata": {},
   "outputs": [
    {
     "data": {
      "text/plain": [
       "540"
      ]
     },
     "execution_count": 24,
     "metadata": {},
     "output_type": "execute_result"
    }
   ],
   "source": [
    "len(data_new[data_new['Bare Nuclei']>=data_new['Uniformity of Cell Shape']])"
   ]
  },
  {
   "cell_type": "code",
   "execution_count": 25,
   "id": "dab497a5",
   "metadata": {},
   "outputs": [],
   "source": [
    "miss_data=pd.DataFrame(data[data['Bare Nuclei']=='?'])"
   ]
  },
  {
   "cell_type": "code",
   "execution_count": 26,
   "id": "70751169",
   "metadata": {},
   "outputs": [
    {
     "data": {
      "text/html": [
       "<div>\n",
       "<style scoped>\n",
       "    .dataframe tbody tr th:only-of-type {\n",
       "        vertical-align: middle;\n",
       "    }\n",
       "\n",
       "    .dataframe tbody tr th {\n",
       "        vertical-align: top;\n",
       "    }\n",
       "\n",
       "    .dataframe thead th {\n",
       "        text-align: right;\n",
       "    }\n",
       "</style>\n",
       "<table border=\"1\" class=\"dataframe\">\n",
       "  <thead>\n",
       "    <tr style=\"text-align: right;\">\n",
       "      <th></th>\n",
       "      <th>Clump Thickness</th>\n",
       "      <th>Uniformity of Cell Size</th>\n",
       "      <th>Uniformity of Cell Shape</th>\n",
       "      <th>Marginal Adhesion</th>\n",
       "      <th>Single Epithelial Cell Size</th>\n",
       "      <th>Bare Nuclei</th>\n",
       "      <th>Bland Chromatin</th>\n",
       "      <th>Normal Nucleoli</th>\n",
       "      <th>Mitoses</th>\n",
       "      <th>Class</th>\n",
       "    </tr>\n",
       "  </thead>\n",
       "  <tbody>\n",
       "    <tr>\n",
       "      <th>23</th>\n",
       "      <td>8</td>\n",
       "      <td>4</td>\n",
       "      <td>5</td>\n",
       "      <td>1</td>\n",
       "      <td>2</td>\n",
       "      <td>?</td>\n",
       "      <td>7</td>\n",
       "      <td>3</td>\n",
       "      <td>1</td>\n",
       "      <td>4</td>\n",
       "    </tr>\n",
       "    <tr>\n",
       "      <th>40</th>\n",
       "      <td>6</td>\n",
       "      <td>6</td>\n",
       "      <td>6</td>\n",
       "      <td>9</td>\n",
       "      <td>6</td>\n",
       "      <td>?</td>\n",
       "      <td>7</td>\n",
       "      <td>8</td>\n",
       "      <td>1</td>\n",
       "      <td>2</td>\n",
       "    </tr>\n",
       "    <tr>\n",
       "      <th>139</th>\n",
       "      <td>1</td>\n",
       "      <td>1</td>\n",
       "      <td>1</td>\n",
       "      <td>1</td>\n",
       "      <td>1</td>\n",
       "      <td>?</td>\n",
       "      <td>2</td>\n",
       "      <td>1</td>\n",
       "      <td>1</td>\n",
       "      <td>2</td>\n",
       "    </tr>\n",
       "    <tr>\n",
       "      <th>145</th>\n",
       "      <td>1</td>\n",
       "      <td>1</td>\n",
       "      <td>3</td>\n",
       "      <td>1</td>\n",
       "      <td>2</td>\n",
       "      <td>?</td>\n",
       "      <td>2</td>\n",
       "      <td>1</td>\n",
       "      <td>1</td>\n",
       "      <td>2</td>\n",
       "    </tr>\n",
       "    <tr>\n",
       "      <th>158</th>\n",
       "      <td>1</td>\n",
       "      <td>1</td>\n",
       "      <td>2</td>\n",
       "      <td>1</td>\n",
       "      <td>3</td>\n",
       "      <td>?</td>\n",
       "      <td>1</td>\n",
       "      <td>1</td>\n",
       "      <td>1</td>\n",
       "      <td>2</td>\n",
       "    </tr>\n",
       "    <tr>\n",
       "      <th>164</th>\n",
       "      <td>5</td>\n",
       "      <td>1</td>\n",
       "      <td>1</td>\n",
       "      <td>1</td>\n",
       "      <td>2</td>\n",
       "      <td>?</td>\n",
       "      <td>3</td>\n",
       "      <td>1</td>\n",
       "      <td>1</td>\n",
       "      <td>2</td>\n",
       "    </tr>\n",
       "    <tr>\n",
       "      <th>235</th>\n",
       "      <td>3</td>\n",
       "      <td>1</td>\n",
       "      <td>4</td>\n",
       "      <td>1</td>\n",
       "      <td>2</td>\n",
       "      <td>?</td>\n",
       "      <td>3</td>\n",
       "      <td>1</td>\n",
       "      <td>1</td>\n",
       "      <td>2</td>\n",
       "    </tr>\n",
       "    <tr>\n",
       "      <th>249</th>\n",
       "      <td>3</td>\n",
       "      <td>1</td>\n",
       "      <td>1</td>\n",
       "      <td>1</td>\n",
       "      <td>2</td>\n",
       "      <td>?</td>\n",
       "      <td>3</td>\n",
       "      <td>1</td>\n",
       "      <td>1</td>\n",
       "      <td>2</td>\n",
       "    </tr>\n",
       "    <tr>\n",
       "      <th>275</th>\n",
       "      <td>3</td>\n",
       "      <td>1</td>\n",
       "      <td>3</td>\n",
       "      <td>1</td>\n",
       "      <td>2</td>\n",
       "      <td>?</td>\n",
       "      <td>2</td>\n",
       "      <td>1</td>\n",
       "      <td>1</td>\n",
       "      <td>2</td>\n",
       "    </tr>\n",
       "    <tr>\n",
       "      <th>292</th>\n",
       "      <td>8</td>\n",
       "      <td>8</td>\n",
       "      <td>8</td>\n",
       "      <td>1</td>\n",
       "      <td>2</td>\n",
       "      <td>?</td>\n",
       "      <td>6</td>\n",
       "      <td>10</td>\n",
       "      <td>1</td>\n",
       "      <td>4</td>\n",
       "    </tr>\n",
       "    <tr>\n",
       "      <th>294</th>\n",
       "      <td>1</td>\n",
       "      <td>1</td>\n",
       "      <td>1</td>\n",
       "      <td>1</td>\n",
       "      <td>2</td>\n",
       "      <td>?</td>\n",
       "      <td>2</td>\n",
       "      <td>1</td>\n",
       "      <td>1</td>\n",
       "      <td>2</td>\n",
       "    </tr>\n",
       "    <tr>\n",
       "      <th>297</th>\n",
       "      <td>5</td>\n",
       "      <td>4</td>\n",
       "      <td>3</td>\n",
       "      <td>1</td>\n",
       "      <td>2</td>\n",
       "      <td>?</td>\n",
       "      <td>2</td>\n",
       "      <td>3</td>\n",
       "      <td>1</td>\n",
       "      <td>2</td>\n",
       "    </tr>\n",
       "    <tr>\n",
       "      <th>315</th>\n",
       "      <td>4</td>\n",
       "      <td>6</td>\n",
       "      <td>5</td>\n",
       "      <td>6</td>\n",
       "      <td>7</td>\n",
       "      <td>?</td>\n",
       "      <td>4</td>\n",
       "      <td>9</td>\n",
       "      <td>1</td>\n",
       "      <td>2</td>\n",
       "    </tr>\n",
       "    <tr>\n",
       "      <th>321</th>\n",
       "      <td>3</td>\n",
       "      <td>1</td>\n",
       "      <td>1</td>\n",
       "      <td>1</td>\n",
       "      <td>2</td>\n",
       "      <td>?</td>\n",
       "      <td>3</td>\n",
       "      <td>1</td>\n",
       "      <td>1</td>\n",
       "      <td>2</td>\n",
       "    </tr>\n",
       "    <tr>\n",
       "      <th>411</th>\n",
       "      <td>1</td>\n",
       "      <td>1</td>\n",
       "      <td>1</td>\n",
       "      <td>1</td>\n",
       "      <td>1</td>\n",
       "      <td>?</td>\n",
       "      <td>2</td>\n",
       "      <td>1</td>\n",
       "      <td>1</td>\n",
       "      <td>2</td>\n",
       "    </tr>\n",
       "    <tr>\n",
       "      <th>617</th>\n",
       "      <td>1</td>\n",
       "      <td>1</td>\n",
       "      <td>1</td>\n",
       "      <td>1</td>\n",
       "      <td>1</td>\n",
       "      <td>?</td>\n",
       "      <td>1</td>\n",
       "      <td>1</td>\n",
       "      <td>1</td>\n",
       "      <td>2</td>\n",
       "    </tr>\n",
       "  </tbody>\n",
       "</table>\n",
       "</div>"
      ],
      "text/plain": [
       "     Clump Thickness  Uniformity of Cell Size  Uniformity of Cell Shape  \\\n",
       "23                 8                        4                         5   \n",
       "40                 6                        6                         6   \n",
       "139                1                        1                         1   \n",
       "145                1                        1                         3   \n",
       "158                1                        1                         2   \n",
       "164                5                        1                         1   \n",
       "235                3                        1                         4   \n",
       "249                3                        1                         1   \n",
       "275                3                        1                         3   \n",
       "292                8                        8                         8   \n",
       "294                1                        1                         1   \n",
       "297                5                        4                         3   \n",
       "315                4                        6                         5   \n",
       "321                3                        1                         1   \n",
       "411                1                        1                         1   \n",
       "617                1                        1                         1   \n",
       "\n",
       "     Marginal Adhesion  Single Epithelial Cell Size Bare Nuclei  \\\n",
       "23                   1                            2           ?   \n",
       "40                   9                            6           ?   \n",
       "139                  1                            1           ?   \n",
       "145                  1                            2           ?   \n",
       "158                  1                            3           ?   \n",
       "164                  1                            2           ?   \n",
       "235                  1                            2           ?   \n",
       "249                  1                            2           ?   \n",
       "275                  1                            2           ?   \n",
       "292                  1                            2           ?   \n",
       "294                  1                            2           ?   \n",
       "297                  1                            2           ?   \n",
       "315                  6                            7           ?   \n",
       "321                  1                            2           ?   \n",
       "411                  1                            1           ?   \n",
       "617                  1                            1           ?   \n",
       "\n",
       "     Bland Chromatin  Normal Nucleoli  Mitoses  Class  \n",
       "23                 7                3        1      4  \n",
       "40                 7                8        1      2  \n",
       "139                2                1        1      2  \n",
       "145                2                1        1      2  \n",
       "158                1                1        1      2  \n",
       "164                3                1        1      2  \n",
       "235                3                1        1      2  \n",
       "249                3                1        1      2  \n",
       "275                2                1        1      2  \n",
       "292                6               10        1      4  \n",
       "294                2                1        1      2  \n",
       "297                2                3        1      2  \n",
       "315                4                9        1      2  \n",
       "321                3                1        1      2  \n",
       "411                2                1        1      2  \n",
       "617                1                1        1      2  "
      ]
     },
     "execution_count": 26,
     "metadata": {},
     "output_type": "execute_result"
    }
   ],
   "source": [
    "miss_data"
   ]
  },
  {
   "cell_type": "code",
   "execution_count": 27,
   "id": "c5e2550c",
   "metadata": {},
   "outputs": [],
   "source": [
    "miss_ind=list(miss_data.index)\n",
    "miss_ind.sort()"
   ]
  },
  {
   "cell_type": "code",
   "execution_count": 28,
   "id": "054699ae",
   "metadata": {},
   "outputs": [
    {
     "data": {
      "text/plain": [
       "[23, 40, 139, 145, 158, 164, 235, 249, 275, 292, 294, 297, 315, 321, 411, 617]"
      ]
     },
     "execution_count": 28,
     "metadata": {},
     "output_type": "execute_result"
    }
   ],
   "source": [
    "miss_ind"
   ]
  },
  {
   "cell_type": "code",
   "execution_count": 29,
   "id": "dcdfeb25",
   "metadata": {},
   "outputs": [],
   "source": [
    "def make_data(x):\n",
    "    if x=='?':\n",
    "        ind=miss_ind.pop(0)\n",
    "        df=data.iloc[ind]\n",
    "        if df['Class']==2 and df['Uniformity of Cell Shape']==1:\n",
    "            return 1\n",
    "        elif df['Class']==4 and df['Uniformity of Cell Shape']>=5:\n",
    "            return 10\n",
    "        elif df['Class']==2 and df['Uniformity of Cell Shape']>=5:\n",
    "            return 10\n",
    "        else:\n",
    "            return df['Uniformity of Cell Shape']\n",
    "    else:\n",
    "        return x\n",
    "        "
   ]
  },
  {
   "cell_type": "code",
   "execution_count": 30,
   "id": "b00b2809",
   "metadata": {},
   "outputs": [],
   "source": [
    "data['Bare Nuclei']=data['Bare Nuclei'].apply(make_data)"
   ]
  },
  {
   "cell_type": "code",
   "execution_count": 31,
   "id": "38e6c601",
   "metadata": {},
   "outputs": [],
   "source": [
    "data['Bare Nuclei']=data['Bare Nuclei'].apply(int)"
   ]
  },
  {
   "cell_type": "code",
   "execution_count": 32,
   "id": "a6e8672d",
   "metadata": {},
   "outputs": [
    {
     "data": {
      "text/html": [
       "<div>\n",
       "<style scoped>\n",
       "    .dataframe tbody tr th:only-of-type {\n",
       "        vertical-align: middle;\n",
       "    }\n",
       "\n",
       "    .dataframe tbody tr th {\n",
       "        vertical-align: top;\n",
       "    }\n",
       "\n",
       "    .dataframe thead th {\n",
       "        text-align: right;\n",
       "    }\n",
       "</style>\n",
       "<table border=\"1\" class=\"dataframe\">\n",
       "  <thead>\n",
       "    <tr style=\"text-align: right;\">\n",
       "      <th></th>\n",
       "      <th>Clump Thickness</th>\n",
       "      <th>Uniformity of Cell Size</th>\n",
       "      <th>Uniformity of Cell Shape</th>\n",
       "      <th>Marginal Adhesion</th>\n",
       "      <th>Single Epithelial Cell Size</th>\n",
       "      <th>Bare Nuclei</th>\n",
       "      <th>Bland Chromatin</th>\n",
       "      <th>Normal Nucleoli</th>\n",
       "      <th>Mitoses</th>\n",
       "      <th>Class</th>\n",
       "    </tr>\n",
       "  </thead>\n",
       "  <tbody>\n",
       "  </tbody>\n",
       "</table>\n",
       "</div>"
      ],
      "text/plain": [
       "Empty DataFrame\n",
       "Columns: [Clump Thickness, Uniformity of Cell Size, Uniformity of Cell Shape, Marginal Adhesion, Single Epithelial Cell Size, Bare Nuclei, Bland Chromatin, Normal Nucleoli, Mitoses, Class]\n",
       "Index: []"
      ]
     },
     "execution_count": 32,
     "metadata": {},
     "output_type": "execute_result"
    }
   ],
   "source": [
    "data.iloc[miss_ind]"
   ]
  },
  {
   "cell_type": "code",
   "execution_count": 33,
   "id": "b7f85e9b",
   "metadata": {},
   "outputs": [
    {
     "name": "stdout",
     "output_type": "stream",
     "text": [
      "<class 'pandas.core.frame.DataFrame'>\n",
      "RangeIndex: 699 entries, 0 to 698\n",
      "Data columns (total 10 columns):\n",
      " #   Column                       Non-Null Count  Dtype\n",
      "---  ------                       --------------  -----\n",
      " 0   Clump Thickness              699 non-null    int64\n",
      " 1   Uniformity of Cell Size      699 non-null    int64\n",
      " 2   Uniformity of Cell Shape     699 non-null    int64\n",
      " 3   Marginal Adhesion            699 non-null    int64\n",
      " 4   Single Epithelial Cell Size  699 non-null    int64\n",
      " 5   Bare Nuclei                  699 non-null    int64\n",
      " 6   Bland Chromatin              699 non-null    int64\n",
      " 7   Normal Nucleoli              699 non-null    int64\n",
      " 8   Mitoses                      699 non-null    int64\n",
      " 9   Class                        699 non-null    int64\n",
      "dtypes: int64(10)\n",
      "memory usage: 54.7 KB\n"
     ]
    }
   ],
   "source": [
    "data.info()"
   ]
  },
  {
   "cell_type": "code",
   "execution_count": 34,
   "id": "fab00d31",
   "metadata": {},
   "outputs": [
    {
     "data": {
      "text/html": [
       "<div>\n",
       "<style scoped>\n",
       "    .dataframe tbody tr th:only-of-type {\n",
       "        vertical-align: middle;\n",
       "    }\n",
       "\n",
       "    .dataframe tbody tr th {\n",
       "        vertical-align: top;\n",
       "    }\n",
       "\n",
       "    .dataframe thead th {\n",
       "        text-align: right;\n",
       "    }\n",
       "</style>\n",
       "<table border=\"1\" class=\"dataframe\">\n",
       "  <thead>\n",
       "    <tr style=\"text-align: right;\">\n",
       "      <th></th>\n",
       "      <th>count</th>\n",
       "      <th>mean</th>\n",
       "      <th>std</th>\n",
       "      <th>min</th>\n",
       "      <th>25%</th>\n",
       "      <th>50%</th>\n",
       "      <th>75%</th>\n",
       "      <th>max</th>\n",
       "    </tr>\n",
       "  </thead>\n",
       "  <tbody>\n",
       "    <tr>\n",
       "      <th>Clump Thickness</th>\n",
       "      <td>699.0</td>\n",
       "      <td>4.417740</td>\n",
       "      <td>2.815741</td>\n",
       "      <td>1.0</td>\n",
       "      <td>2.0</td>\n",
       "      <td>4.0</td>\n",
       "      <td>6.0</td>\n",
       "      <td>10.0</td>\n",
       "    </tr>\n",
       "    <tr>\n",
       "      <th>Uniformity of Cell Size</th>\n",
       "      <td>699.0</td>\n",
       "      <td>3.134478</td>\n",
       "      <td>3.051459</td>\n",
       "      <td>1.0</td>\n",
       "      <td>1.0</td>\n",
       "      <td>1.0</td>\n",
       "      <td>5.0</td>\n",
       "      <td>10.0</td>\n",
       "    </tr>\n",
       "    <tr>\n",
       "      <th>Uniformity of Cell Shape</th>\n",
       "      <td>699.0</td>\n",
       "      <td>3.207439</td>\n",
       "      <td>2.971913</td>\n",
       "      <td>1.0</td>\n",
       "      <td>1.0</td>\n",
       "      <td>1.0</td>\n",
       "      <td>5.0</td>\n",
       "      <td>10.0</td>\n",
       "    </tr>\n",
       "    <tr>\n",
       "      <th>Marginal Adhesion</th>\n",
       "      <td>699.0</td>\n",
       "      <td>2.806867</td>\n",
       "      <td>2.855379</td>\n",
       "      <td>1.0</td>\n",
       "      <td>1.0</td>\n",
       "      <td>1.0</td>\n",
       "      <td>4.0</td>\n",
       "      <td>10.0</td>\n",
       "    </tr>\n",
       "    <tr>\n",
       "      <th>Single Epithelial Cell Size</th>\n",
       "      <td>699.0</td>\n",
       "      <td>3.216023</td>\n",
       "      <td>2.214300</td>\n",
       "      <td>1.0</td>\n",
       "      <td>2.0</td>\n",
       "      <td>2.0</td>\n",
       "      <td>4.0</td>\n",
       "      <td>10.0</td>\n",
       "    </tr>\n",
       "    <tr>\n",
       "      <th>Bare Nuclei</th>\n",
       "      <td>699.0</td>\n",
       "      <td>3.552217</td>\n",
       "      <td>3.644449</td>\n",
       "      <td>1.0</td>\n",
       "      <td>1.0</td>\n",
       "      <td>1.0</td>\n",
       "      <td>6.0</td>\n",
       "      <td>10.0</td>\n",
       "    </tr>\n",
       "    <tr>\n",
       "      <th>Bland Chromatin</th>\n",
       "      <td>699.0</td>\n",
       "      <td>3.437768</td>\n",
       "      <td>2.438364</td>\n",
       "      <td>1.0</td>\n",
       "      <td>2.0</td>\n",
       "      <td>3.0</td>\n",
       "      <td>5.0</td>\n",
       "      <td>10.0</td>\n",
       "    </tr>\n",
       "    <tr>\n",
       "      <th>Normal Nucleoli</th>\n",
       "      <td>699.0</td>\n",
       "      <td>2.866953</td>\n",
       "      <td>3.053634</td>\n",
       "      <td>1.0</td>\n",
       "      <td>1.0</td>\n",
       "      <td>1.0</td>\n",
       "      <td>4.0</td>\n",
       "      <td>10.0</td>\n",
       "    </tr>\n",
       "    <tr>\n",
       "      <th>Mitoses</th>\n",
       "      <td>699.0</td>\n",
       "      <td>1.589413</td>\n",
       "      <td>1.715078</td>\n",
       "      <td>1.0</td>\n",
       "      <td>1.0</td>\n",
       "      <td>1.0</td>\n",
       "      <td>1.0</td>\n",
       "      <td>10.0</td>\n",
       "    </tr>\n",
       "    <tr>\n",
       "      <th>Class</th>\n",
       "      <td>699.0</td>\n",
       "      <td>2.689557</td>\n",
       "      <td>0.951273</td>\n",
       "      <td>2.0</td>\n",
       "      <td>2.0</td>\n",
       "      <td>2.0</td>\n",
       "      <td>4.0</td>\n",
       "      <td>4.0</td>\n",
       "    </tr>\n",
       "  </tbody>\n",
       "</table>\n",
       "</div>"
      ],
      "text/plain": [
       "                             count      mean       std  min  25%  50%  75%  \\\n",
       "Clump Thickness              699.0  4.417740  2.815741  1.0  2.0  4.0  6.0   \n",
       "Uniformity of Cell Size      699.0  3.134478  3.051459  1.0  1.0  1.0  5.0   \n",
       "Uniformity of Cell Shape     699.0  3.207439  2.971913  1.0  1.0  1.0  5.0   \n",
       "Marginal Adhesion            699.0  2.806867  2.855379  1.0  1.0  1.0  4.0   \n",
       "Single Epithelial Cell Size  699.0  3.216023  2.214300  1.0  2.0  2.0  4.0   \n",
       "Bare Nuclei                  699.0  3.552217  3.644449  1.0  1.0  1.0  6.0   \n",
       "Bland Chromatin              699.0  3.437768  2.438364  1.0  2.0  3.0  5.0   \n",
       "Normal Nucleoli              699.0  2.866953  3.053634  1.0  1.0  1.0  4.0   \n",
       "Mitoses                      699.0  1.589413  1.715078  1.0  1.0  1.0  1.0   \n",
       "Class                        699.0  2.689557  0.951273  2.0  2.0  2.0  4.0   \n",
       "\n",
       "                              max  \n",
       "Clump Thickness              10.0  \n",
       "Uniformity of Cell Size      10.0  \n",
       "Uniformity of Cell Shape     10.0  \n",
       "Marginal Adhesion            10.0  \n",
       "Single Epithelial Cell Size  10.0  \n",
       "Bare Nuclei                  10.0  \n",
       "Bland Chromatin              10.0  \n",
       "Normal Nucleoli              10.0  \n",
       "Mitoses                      10.0  \n",
       "Class                         4.0  "
      ]
     },
     "execution_count": 34,
     "metadata": {},
     "output_type": "execute_result"
    }
   ],
   "source": [
    "data.describe().T"
   ]
  },
  {
   "cell_type": "code",
   "execution_count": 35,
   "id": "9a965e39",
   "metadata": {},
   "outputs": [
    {
     "name": "stdout",
     "output_type": "stream",
     "text": [
      "Clump Thickness 0\n",
      "Uniformity of Cell Size 0\n",
      "Uniformity of Cell Shape 0\n",
      "Marginal Adhesion 0\n",
      "Single Epithelial Cell Size 0\n",
      "Bare Nuclei 0\n",
      "Bland Chromatin 0\n",
      "Normal Nucleoli 0\n",
      "Mitoses 0\n",
      "Class 0\n"
     ]
    }
   ],
   "source": [
    "for i in data.columns: #missing values\n",
    "    print(i,sum(data[i].isnull()))"
   ]
  },
  {
   "cell_type": "code",
   "execution_count": 36,
   "id": "65715cbd",
   "metadata": {},
   "outputs": [],
   "source": [
    "import seaborn as sns\n",
    "import matplotlib.pyplot as plt"
   ]
  },
  {
   "cell_type": "code",
   "execution_count": 37,
   "id": "99c63d3e",
   "metadata": {},
   "outputs": [
    {
     "name": "stdout",
     "output_type": "stream",
     "text": [
      "Clump Thickness\n",
      "9      14\n",
      "7      23\n",
      "6      34\n",
      "8      46\n",
      "2      50\n",
      "10     69\n",
      "4      80\n",
      "3     108\n",
      "5     130\n",
      "1     145\n",
      "Name: Clump Thickness, dtype: int64\n",
      "Uniformity of Cell Size\n",
      "9       6\n",
      "7      19\n",
      "6      27\n",
      "8      29\n",
      "5      30\n",
      "4      40\n",
      "2      45\n",
      "3      52\n",
      "10     67\n",
      "1     384\n",
      "Name: Uniformity of Cell Size, dtype: int64\n",
      "Uniformity of Cell Shape\n",
      "9       7\n",
      "8      28\n",
      "6      30\n",
      "7      30\n",
      "5      34\n",
      "4      44\n",
      "3      56\n",
      "10     58\n",
      "2      59\n",
      "1     353\n",
      "Name: Uniformity of Cell Shape, dtype: int64\n",
      "Marginal Adhesion\n",
      "9       5\n",
      "7      13\n",
      "6      22\n",
      "5      23\n",
      "8      25\n",
      "4      33\n",
      "10     55\n",
      "3      58\n",
      "2      58\n",
      "1     407\n",
      "Name: Marginal Adhesion, dtype: int64\n",
      "Single Epithelial Cell Size\n",
      "9       2\n",
      "7      12\n",
      "8      21\n",
      "10     31\n",
      "5      39\n",
      "6      41\n",
      "1      47\n",
      "4      48\n",
      "3      72\n",
      "2     386\n",
      "Name: Single Epithelial Cell Size, dtype: int64\n",
      "Bare Nuclei\n",
      "6       4\n",
      "7       8\n",
      "9       9\n",
      "4      20\n",
      "8      21\n",
      "5      30\n",
      "2      31\n",
      "3      31\n",
      "10    136\n",
      "1     409\n",
      "Name: Bare Nuclei, dtype: int64\n",
      "Bland Chromatin\n",
      "6      10\n",
      "9      11\n",
      "10     20\n",
      "8      28\n",
      "5      34\n",
      "4      40\n",
      "7      73\n",
      "1     152\n",
      "3     165\n",
      "2     166\n",
      "Name: Bland Chromatin, dtype: int64\n",
      "Normal Nucleoli\n",
      "7      16\n",
      "9      16\n",
      "4      18\n",
      "5      19\n",
      "6      22\n",
      "8      24\n",
      "2      36\n",
      "3      44\n",
      "10     61\n",
      "1     443\n",
      "Name: Normal Nucleoli, dtype: int64\n",
      "Mitoses\n",
      "6       3\n",
      "5       6\n",
      "8       8\n",
      "7       9\n",
      "4      12\n",
      "10     14\n",
      "3      33\n",
      "2      35\n",
      "1     579\n",
      "Name: Mitoses, dtype: int64\n",
      "Class\n",
      "4    241\n",
      "2    458\n",
      "Name: Class, dtype: int64\n"
     ]
    }
   ],
   "source": [
    "#counts of each scale(1-10) in features \n",
    "for i in data.columns:\n",
    "    print(i)\n",
    "    print(data[i].value_counts(ascending=True))"
   ]
  },
  {
   "cell_type": "markdown",
   "id": "a1508806",
   "metadata": {},
   "source": [
    "### EDA"
   ]
  },
  {
   "cell_type": "code",
   "execution_count": 38,
   "id": "c8ddb90d",
   "metadata": {},
   "outputs": [
    {
     "data": {
      "image/png": "[encoded data removed]",
      "text/plain": [
       "<Figure size 640x480 with 4 Axes>"
      ]
     },
     "metadata": {},
     "output_type": "display_data"
    }
   ],
   "source": [
    "plt.subplot(221)\n",
    "sns.countplot(x=data.columns[0],data=data)\n",
    "plt.subplot(222)\n",
    "sns.countplot(x=data.columns[1],data=data)\n",
    "plt.subplot(223)\n",
    "sns.countplot(x=data.columns[2],data=data)\n",
    "plt.subplot(224)\n",
    "sns.countplot(x=data.columns[3],data=data)\n",
    "plt.subplots_adjust(bottom=0.2,wspace=0.4,hspace=0.4)"
   ]
  },
  {
   "cell_type": "code",
   "execution_count": 39,
   "id": "00d54107",
   "metadata": {},
   "outputs": [
    {
     "data": {
      "image/png": "[encoded data removed]",
      "text/plain": [
       "<Figure size 640x480 with 4 Axes>"
      ]
     },
     "metadata": {},
     "output_type": "display_data"
    }
   ],
   "source": [
    "plt.subplot(221)\n",
    "sns.countplot(x=data.columns[4],data=data)\n",
    "plt.subplot(222)\n",
    "sns.countplot(x=data.columns[5],data=data)\n",
    "plt.subplot(223)\n",
    "sns.countplot(x=data.columns[6],data=data)\n",
    "plt.subplot(224)\n",
    "sns.countplot(x=data.columns[7],data=data)\n",
    "plt.subplots_adjust(bottom=0.2,wspace=0.4,hspace=0.4)"
   ]
  },
  {
   "cell_type": "code",
   "execution_count": 40,
   "id": "bb6a7dde",
   "metadata": {},
   "outputs": [
    {
     "data": {
      "image/png": "[encoded data removed]",
      "text/plain": [
       "<Figure size 640x480 with 2 Axes>"
      ]
     },
     "metadata": {},
     "output_type": "display_data"
    }
   ],
   "source": [
    "plt.subplot(221)\n",
    "sns.countplot(x=data.columns[8],data=data)\n",
    "plt.subplot(222)\n",
    "sns.countplot(x=data.columns[9],data=data,)\n",
    "plt.subplots_adjust(wspace=0.4)"
   ]
  },
  {
   "cell_type": "code",
   "execution_count": 41,
   "id": "b1956dac",
   "metadata": {},
   "outputs": [
    {
     "data": {
      "text/plain": [
       "<AxesSubplot:>"
      ]
     },
     "execution_count": 41,
     "metadata": {},
     "output_type": "execute_result"
    },
    {
     "data": {
      "image/png": "[encoded data removed]",
      "text/plain": [
       "<Figure size 640x480 with 2 Axes>"
      ]
     },
     "metadata": {},
     "output_type": "display_data"
    }
   ],
   "source": [
    "sns.heatmap(data.corr())"
   ]
  },
  {
   "cell_type": "code",
   "execution_count": 42,
   "id": "5b58a60e",
   "metadata": {},
   "outputs": [
    {
     "data": {
      "text/plain": [
       "Mitoses                        0.423170\n",
       "Single Epithelial Cell Size    0.682785\n",
       "Marginal Adhesion              0.696800\n",
       "Normal Nucleoli                0.712244\n",
       "Clump Thickness                0.716001\n",
       "Bland Chromatin                0.756616\n",
       "Bare Nuclei                    0.815676\n",
       "Uniformity of Cell Size        0.817904\n",
       "Uniformity of Cell Shape       0.818934\n",
       "Class                          1.000000\n",
       "Name: Class, dtype: float64"
      ]
     },
     "execution_count": 42,
     "metadata": {},
     "output_type": "execute_result"
    }
   ],
   "source": [
    "data.corr()['Class'].sort_values() #correlation of all features with class"
   ]
  },
  {
   "cell_type": "code",
   "execution_count": 43,
   "id": "3d0bff7b",
   "metadata": {},
   "outputs": [
    {
     "data": {
      "text/plain": [
       "<AxesSubplot:>"
      ]
     },
     "execution_count": 43,
     "metadata": {},
     "output_type": "execute_result"
    },
    {
     "data": {
      "image/png": "[encoded data removed]",
      "text/plain": [
       "<Figure size 640x480 with 1 Axes>"
      ]
     },
     "metadata": {},
     "output_type": "display_data"
    }
   ],
   "source": [
    "data.corr()['Class'].sort_values().plot(kind='bar')"
   ]
  },
  {
   "cell_type": "code",
   "execution_count": 44,
   "id": "ef99e08a",
   "metadata": {},
   "outputs": [
    {
     "data": {
      "text/plain": [
       "<AxesSubplot:>"
      ]
     },
     "execution_count": 44,
     "metadata": {},
     "output_type": "execute_result"
    },
    {
     "data": {
      "image/png": "[encoded data removed]",
      "text/plain": [
       "<Figure size 640x480 with 1 Axes>"
      ]
     },
     "metadata": {},
     "output_type": "display_data"
    }
   ],
   "source": [
    "data.corr()['Class'][:-1].sort_values().plot(kind='bar')"
   ]
  },
  {
   "cell_type": "markdown",
   "id": "8d6c87ef",
   "metadata": {},
   "source": [
    "## Train Test Split"
   ]
  },
  {
   "cell_type": "code",
   "execution_count": 45,
   "id": "7e52d5c7",
   "metadata": {},
   "outputs": [],
   "source": [
    "def class_variable(x):\n",
    "    if x==2:\n",
    "        return 0\n",
    "    else:\n",
    "        return 1"
   ]
  },
  {
   "cell_type": "code",
   "execution_count": 46,
   "id": "b5b0c8af",
   "metadata": {},
   "outputs": [],
   "source": [
    "data['Class']=data['Class'].apply(class_variable)"
   ]
  },
  {
   "cell_type": "code",
   "execution_count": 47,
   "id": "78a22177",
   "metadata": {},
   "outputs": [],
   "source": [
    "#write the preprocessed data to csv\n",
    "data.to_csv(\"DATA/process.csv\",encoding='utf-8',index=False)"
   ]
  },
  {
   "cell_type": "code",
   "execution_count": 48,
   "id": "438e5e2a",
   "metadata": {},
   "outputs": [],
   "source": [
    "X = data.drop('Class',axis=1).values\n",
    "y = data['Class'].values"
   ]
  },
  {
   "cell_type": "code",
   "execution_count": 49,
   "id": "1c8c0a10",
   "metadata": {},
   "outputs": [],
   "source": [
    "from sklearn.model_selection import train_test_split"
   ]
  },
  {
   "cell_type": "code",
   "execution_count": 50,
   "id": "40464096",
   "metadata": {},
   "outputs": [],
   "source": [
    "X_train, X_test, y_train, y_test = train_test_split(X,y,test_size=0.25,random_state=101)"
   ]
  },
  {
   "cell_type": "markdown",
   "id": "1ddf2dd1",
   "metadata": {},
   "source": [
    "### Scaling Data"
   ]
  },
  {
   "cell_type": "code",
   "execution_count": 51,
   "id": "f19b260e",
   "metadata": {},
   "outputs": [],
   "source": [
    "from sklearn.preprocessing import MinMaxScaler"
   ]
  },
  {
   "cell_type": "code",
   "execution_count": 52,
   "id": "1cf914aa",
   "metadata": {},
   "outputs": [],
   "source": [
    "scaler = MinMaxScaler()"
   ]
  },
  {
   "cell_type": "code",
   "execution_count": 53,
   "id": "c4e54cbd",
   "metadata": {},
   "outputs": [
    {
     "data": {
      "text/html": [
       "<style>#sk-container-id-1 {color: black;background-color: white;}#sk-container-id-1 pre{padding: 0;}#sk-container-id-1 div.sk-toggleable {background-color: white;}#sk-container-id-1 label.sk-toggleable__label {cursor: pointer;display: block;width: 100%;margin-bottom: 0;padding: 0.3em;box-sizing: border-box;text-align: center;}#sk-container-id-1 label.sk-toggleable__label-arrow:before {content: \"▸\";float: left;margin-right: 0.25em;color: #696969;}#sk-container-id-1 label.sk-toggleable__label-arrow:hover:before {color: black;}#sk-container-id-1 div.sk-estimator:hover label.sk-toggleable__label-arrow:before {color: black;}#sk-container-id-1 div.sk-toggleable__content {max-height: 0;max-width: 0;overflow: hidden;text-align: left;background-color: #f0f8ff;}#sk-container-id-1 div.sk-toggleable__content pre {margin: 0.2em;color: black;border-radius: 0.25em;background-color: #f0f8ff;}#sk-container-id-1 input.sk-toggleable__control:checked~div.sk-toggleable__content {max-height: 200px;max-width: 100%;overflow: auto;}#sk-container-id-1 input.sk-toggleable__control:checked~label.sk-toggleable__label-arrow:before {content: \"▾\";}#sk-container-id-1 div.sk-estimator input.sk-toggleable__control:checked~label.sk-toggleable__label {background-color: #d4ebff;}#sk-container-id-1 div.sk-label input.sk-toggleable__control:checked~label.sk-toggleable__label {background-color: #d4ebff;}#sk-container-id-1 input.sk-hidden--visually {border: 0;clip: rect(1px 1px 1px 1px);clip: rect(1px, 1px, 1px, 1px);height: 1px;margin: -1px;overflow: hidden;padding: 0;position: absolute;width: 1px;}#sk-container-id-1 div.sk-estimator {font-family: monospace;background-color: #f0f8ff;border: 1px dotted black;border-radius: 0.25em;box-sizing: border-box;margin-bottom: 0.5em;}#sk-container-id-1 div.sk-estimator:hover {background-color: #d4ebff;}#sk-container-id-1 div.sk-parallel-item::after {content: \"\";width: 100%;border-bottom: 1px solid gray;flex-grow: 1;}#sk-container-id-1 div.sk-label:hover label.sk-toggleable__label {background-color: #d4ebff;}#sk-container-id-1 div.sk-serial::before {content: \"\";position: absolute;border-left: 1px solid gray;box-sizing: border-box;top: 0;bottom: 0;left: 50%;z-index: 0;}#sk-container-id-1 div.sk-serial {display: flex;flex-direction: column;align-items: center;background-color: white;padding-right: 0.2em;padding-left: 0.2em;position: relative;}#sk-container-id-1 div.sk-item {position: relative;z-index: 1;}#sk-container-id-1 div.sk-parallel {display: flex;align-items: stretch;justify-content: center;background-color: white;position: relative;}#sk-container-id-1 div.sk-item::before, #sk-container-id-1 div.sk-parallel-item::before {content: \"\";position: absolute;border-left: 1px solid gray;box-sizing: border-box;top: 0;bottom: 0;left: 50%;z-index: -1;}#sk-container-id-1 div.sk-parallel-item {display: flex;flex-direction: column;z-index: 1;position: relative;background-color: white;}#sk-container-id-1 div.sk-parallel-item:first-child::after {align-self: flex-end;width: 50%;}#sk-container-id-1 div.sk-parallel-item:last-child::after {align-self: flex-start;width: 50%;}#sk-container-id-1 div.sk-parallel-item:only-child::after {width: 0;}#sk-container-id-1 div.sk-dashed-wrapped {border: 1px dashed gray;margin: 0 0.4em 0.5em 0.4em;box-sizing: border-box;padding-bottom: 0.4em;background-color: white;}#sk-container-id-1 div.sk-label label {font-family: monospace;font-weight: bold;display: inline-block;line-height: 1.2em;}#sk-container-id-1 div.sk-label-container {text-align: center;}#sk-container-id-1 div.sk-container {/* jupyter's `normalize.less` sets `[hidden] { display: none; }` but bootstrap.min.css set `[hidden] { display: none !important; }` so we also need the `!important` here to be able to override the default hidden behavior on the sphinx rendered scikit-learn.org. See: https://github.com/scikit-learn/scikit-learn/issues/21755 */display: inline-block !important;position: relative;}#sk-container-id-1 div.sk-text-repr-fallback {display: none;}</style><div id=\"sk-container-id-1\" class=\"sk-top-container\"><div class=\"sk-text-repr-fallback\"><pre>MinMaxScaler()</pre><b>In a Jupyter environment, please rerun this cell to show the HTML representation or trust the notebook. <br />On GitHub, the HTML representation is unable to render, please try loading this page with nbviewer.org.</b></div><div class=\"sk-container\" hidden><div class=\"sk-item\"><div class=\"sk-estimator sk-toggleable\"><input class=\"sk-toggleable__control sk-hidden--visually\" id=\"sk-estimator-id-1\" type=\"checkbox\" checked><label for=\"sk-estimator-id-1\" class=\"sk-toggleable__label sk-toggleable__label-arrow\">MinMaxScaler</label><div class=\"sk-toggleable__content\"><pre>MinMaxScaler()</pre></div></div></div></div></div>"
      ],
      "text/plain": [
       "MinMaxScaler()"
      ]
     },
     "execution_count": 53,
     "metadata": {},
     "output_type": "execute_result"
    }
   ],
   "source": [
    "scaler.fit(X_train)"
   ]
  },
  {
   "cell_type": "code",
   "execution_count": 54,
   "id": "f193c664",
   "metadata": {},
   "outputs": [],
   "source": [
    "X_train = scaler.transform(X_train)\n",
    "X_test = scaler.transform(X_test)"
   ]
  },
  {
   "cell_type": "markdown",
   "id": "ec1eba00",
   "metadata": {},
   "source": [
    "### Logisitic Regression"
   ]
  },
  {
   "cell_type": "code",
   "execution_count": 55,
   "id": "87597878",
   "metadata": {},
   "outputs": [
    {
     "name": "stdout",
     "output_type": "stream",
     "text": [
      "              precision    recall  f1-score   support\n",
      "\n",
      "           0       0.98      0.98      0.98       107\n",
      "           1       0.97      0.97      0.97        68\n",
      "\n",
      "    accuracy                           0.98       175\n",
      "   macro avg       0.98      0.98      0.98       175\n",
      "weighted avg       0.98      0.98      0.98       175\n",
      "\n",
      "[[105   2]\n",
      " [  2  66]]\n"
     ]
    }
   ],
   "source": [
    "from sklearn.linear_model import LogisticRegression\n",
    "from sklearn.metrics import classification_report,confusion_matrix\n",
    "accuracy=dict()\n",
    "classifier=LogisticRegression(random_state=0)\n",
    "classifier.fit(X_train,y_train)\n",
    "pred=classifier.predict(X_test)\n",
    "print(classification_report(pred,y_test))\n",
    "print(confusion_matrix(pred,y_test))\n",
    "from sklearn.metrics import accuracy_score\n",
    "accuracy['Logistic Regression']=accuracy_score(pred,y_test)"
   ]
  },
  {
   "cell_type": "markdown",
   "id": "0e7405df",
   "metadata": {},
   "source": [
    "### K-nearest Neighbours"
   ]
  },
  {
   "cell_type": "code",
   "execution_count": 56,
   "id": "80f42a2b",
   "metadata": {},
   "outputs": [],
   "source": [
    "from sklearn.neighbors import KNeighborsClassifier\n",
    "#find the best K value\n",
    "error_rate = []\n",
    "\n",
    "for i in range(1,40):\n",
    "    knn = KNeighborsClassifier(n_neighbors=i)\n",
    "    knn.fit(X_train,y_train)\n",
    "    pred_i = knn.predict(X_train)\n",
    "    error_rate.append(np.mean(pred_i != y_train))"
   ]
  },
  {
   "cell_type": "code",
   "execution_count": 57,
   "id": "d44e0668",
   "metadata": {},
   "outputs": [
    {
     "data": {
      "text/plain": [
       "Text(0, 0.5, 'Error Rate')"
      ]
     },
     "execution_count": 57,
     "metadata": {},
     "output_type": "execute_result"
    },
    {
     "data": {
      "image/png": "[encoded data removed]",
      "text/plain": [
       "<Figure size 1000x600 with 1 Axes>"
      ]
     },
     "metadata": {},
     "output_type": "display_data"
    }
   ],
   "source": [
    "plt.figure(figsize=(10,6))\n",
    "plt.plot(range(1,40),error_rate,color='blue', linestyle='dashed', marker='o',\n",
    "         markerfacecolor='yellow', markersize=10)\n",
    "plt.title('Error Rate vs. K Value')\n",
    "plt.xlabel('K')\n",
    "plt.ylabel('Error Rate') #error rate differs as the k value increases"
   ]
  },
  {
   "cell_type": "code",
   "execution_count": 58,
   "id": "fe78bfaa",
   "metadata": {},
   "outputs": [
    {
     "name": "stdout",
     "output_type": "stream",
     "text": [
      "              precision    recall  f1-score   support\n",
      "\n",
      "           0       1.00      0.89      0.94       120\n",
      "           1       0.81      1.00      0.89        55\n",
      "\n",
      "    accuracy                           0.93       175\n",
      "   macro avg       0.90      0.95      0.92       175\n",
      "weighted avg       0.94      0.93      0.93       175\n",
      "\n",
      "[[107  13]\n",
      " [  0  55]]\n"
     ]
    }
   ],
   "source": [
    "#for k=2 is best suitable\n",
    "knn=KNeighborsClassifier(n_neighbors=2)\n",
    "knn.fit(X_train,y_train)\n",
    "pred=knn.predict(X_test)\n",
    "print(classification_report(pred,y_test))\n",
    "print(confusion_matrix(pred,y_test))\n",
    "accuracy['KNN']=accuracy_score(pred,y_test)"
   ]
  },
  {
   "cell_type": "markdown",
   "id": "ae57f4f2",
   "metadata": {},
   "source": [
    "### Naive Bayes"
   ]
  },
  {
   "cell_type": "code",
   "execution_count": 59,
   "id": "81c95460",
   "metadata": {},
   "outputs": [
    {
     "name": "stdout",
     "output_type": "stream",
     "text": [
      "              precision    recall  f1-score   support\n",
      "\n",
      "           0       0.94      0.98      0.96       103\n",
      "           1       0.97      0.92      0.94        72\n",
      "\n",
      "    accuracy                           0.95       175\n",
      "   macro avg       0.96      0.95      0.95       175\n",
      "weighted avg       0.95      0.95      0.95       175\n",
      "\n",
      "[[101   2]\n",
      " [  6  66]]\n"
     ]
    }
   ],
   "source": [
    "from sklearn.naive_bayes import GaussianNB\n",
    "classifier=GaussianNB()\n",
    "classifier.fit(X_train,y_train)\n",
    "pred=classifier.predict(X_test)\n",
    "print(classification_report(pred,y_test))\n",
    "print(confusion_matrix(pred,y_test))\n",
    "accuracy['Naive Bayes']=accuracy_score(pred,y_test)"
   ]
  },
  {
   "cell_type": "markdown",
   "id": "391f5f5b",
   "metadata": {},
   "source": [
    "### Decision Tree"
   ]
  },
  {
   "cell_type": "code",
   "execution_count": 60,
   "id": "34de0f42",
   "metadata": {},
   "outputs": [
    {
     "name": "stdout",
     "output_type": "stream",
     "text": [
      "              precision    recall  f1-score   support\n",
      "\n",
      "           0       0.94      0.94      0.94       108\n",
      "           1       0.90      0.91      0.90        67\n",
      "\n",
      "    accuracy                           0.93       175\n",
      "   macro avg       0.92      0.92      0.92       175\n",
      "weighted avg       0.93      0.93      0.93       175\n",
      "\n",
      "[[101   7]\n",
      " [  6  61]]\n"
     ]
    }
   ],
   "source": [
    "from sklearn.tree import DecisionTreeClassifier\n",
    "clf=DecisionTreeClassifier(criterion='entropy',random_state=0)\n",
    "clf.fit(X_train,y_train)\n",
    "pred=clf.predict(X_test)\n",
    "print(classification_report(pred,y_test))\n",
    "print(confusion_matrix(pred,y_test))"
   ]
  },
  {
   "cell_type": "code",
   "execution_count": 61,
   "id": "5e083366",
   "metadata": {},
   "outputs": [],
   "source": [
    "accuracy['Decision Tree']=accuracy_score(pred,y_test)"
   ]
  },
  {
   "cell_type": "markdown",
   "id": "1ab16e64",
   "metadata": {},
   "source": [
    "### Random Forest"
   ]
  },
  {
   "cell_type": "code",
   "execution_count": 62,
   "id": "9681ea5a",
   "metadata": {},
   "outputs": [
    {
     "name": "stdout",
     "output_type": "stream",
     "text": [
      "              precision    recall  f1-score   support\n",
      "\n",
      "           0       0.99      0.96      0.98       107\n",
      "           1       0.94      0.99      0.96        68\n",
      "\n",
      "    accuracy                           0.97       175\n",
      "   macro avg       0.97      0.97      0.97       175\n",
      "weighted avg       0.97      0.97      0.97       175\n",
      "\n",
      "[[103   4]\n",
      " [  1  67]]\n"
     ]
    }
   ],
   "source": [
    "from sklearn.ensemble import RandomForestClassifier\n",
    "rfc = RandomForestClassifier(n_estimators=10,criterion='entropy',random_state=0)\n",
    "rfc.fit(X_train,y_train)\n",
    "predictions = rfc.predict(X_test)\n",
    "print(classification_report(y_test,predictions))\n",
    "print(confusion_matrix(y_test,predictions))"
   ]
  },
  {
   "cell_type": "code",
   "execution_count": 63,
   "id": "638a64de",
   "metadata": {},
   "outputs": [],
   "source": [
    "#find the best tree value\n",
    "error_rate = []\n",
    "\n",
    "for i in range(1,40):\n",
    "    rfc = RandomForestClassifier(n_estimators=i,criterion='entropy',random_state=0)\n",
    "    rfc.fit(X_train,y_train)\n",
    "    pred_i = rfc.predict(X_train)\n",
    "    error_rate.append(np.mean(pred_i != y_train))"
   ]
  },
  {
   "cell_type": "code",
   "execution_count": 64,
   "id": "f091034d",
   "metadata": {},
   "outputs": [
    {
     "data": {
      "text/plain": [
       "Text(0, 0.5, 'Error Rate')"
      ]
     },
     "execution_count": 64,
     "metadata": {},
     "output_type": "execute_result"
    },
    {
     "data": {
      "image/png": "[encoded data removed]",
      "text/plain": [
       "<Figure size 1000x600 with 1 Axes>"
      ]
     },
     "metadata": {},
     "output_type": "display_data"
    }
   ],
   "source": [
    "plt.figure(figsize=(10,6))\n",
    "plt.plot(range(1,40),error_rate,color='blue', linestyle='dashed', marker='o',\n",
    "         markerfacecolor='yellow', markersize=10)\n",
    "plt.title('Error Rate vs. Tree Value')\n",
    "plt.xlabel('K')\n",
    "plt.ylabel('Error Rate') #error rate decrease as the tree value increases"
   ]
  },
  {
   "cell_type": "code",
   "execution_count": 65,
   "id": "1c6f1237",
   "metadata": {},
   "outputs": [
    {
     "name": "stdout",
     "output_type": "stream",
     "text": [
      "              precision    recall  f1-score   support\n",
      "\n",
      "           0       0.99      0.97      0.98       107\n",
      "           1       0.96      0.99      0.97        68\n",
      "\n",
      "    accuracy                           0.98       175\n",
      "   macro avg       0.97      0.98      0.98       175\n",
      "weighted avg       0.98      0.98      0.98       175\n",
      "\n",
      "[[104   3]\n",
      " [  1  67]]\n"
     ]
    }
   ],
   "source": [
    "rfc = RandomForestClassifier(n_estimators=12,criterion='entropy',random_state=0)\n",
    "rfc.fit(X_train,y_train)\n",
    "predictions = rfc.predict(X_test)\n",
    "print(classification_report(y_test,predictions))\n",
    "print(confusion_matrix(y_test,predictions))\n",
    "accuracy['Random Forest']=accuracy_score(predictions,y_test)"
   ]
  },
  {
   "cell_type": "markdown",
   "id": "8487c8e5",
   "metadata": {},
   "source": [
    "### AdaBoosting"
   ]
  },
  {
   "cell_type": "code",
   "execution_count": 66,
   "id": "1837d9c8",
   "metadata": {},
   "outputs": [],
   "source": [
    "from sklearn.ensemble import AdaBoostClassifier\n",
    "abc=AdaBoostClassifier(n_estimators=50,learning_rate=1)\n",
    "model=abc.fit(X_train,y_train)\n",
    "y_pred=model.predict(X_test)"
   ]
  },
  {
   "cell_type": "code",
   "execution_count": 67,
   "id": "3012d6e2",
   "metadata": {},
   "outputs": [
    {
     "name": "stdout",
     "output_type": "stream",
     "text": [
      "              precision    recall  f1-score   support\n",
      "\n",
      "           0       0.94      0.96      0.95       107\n",
      "           1       0.94      0.91      0.93        68\n",
      "\n",
      "    accuracy                           0.94       175\n",
      "   macro avg       0.94      0.94      0.94       175\n",
      "weighted avg       0.94      0.94      0.94       175\n",
      "\n",
      "[[103   4]\n",
      " [  6  62]]\n"
     ]
    }
   ],
   "source": [
    "print(classification_report(y_test,y_pred))\n",
    "print(confusion_matrix(y_test,y_pred))"
   ]
  },
  {
   "cell_type": "code",
   "execution_count": 68,
   "id": "6b3a14b8",
   "metadata": {},
   "outputs": [],
   "source": [
    "accuracy['AdaBoosting']=accuracy_score(y_pred,y_test)"
   ]
  },
  {
   "cell_type": "markdown",
   "id": "955089ca",
   "metadata": {},
   "source": [
    "### Bagging Classifier"
   ]
  },
  {
   "cell_type": "code",
   "execution_count": 69,
   "id": "07ada2f0",
   "metadata": {},
   "outputs": [
    {
     "name": "stdout",
     "output_type": "stream",
     "text": [
      "              precision    recall  f1-score   support\n",
      "\n",
      "           0       0.99      0.95      0.97       107\n",
      "           1       0.93      0.99      0.96        68\n",
      "\n",
      "    accuracy                           0.97       175\n",
      "   macro avg       0.96      0.97      0.96       175\n",
      "weighted avg       0.97      0.97      0.97       175\n",
      "\n",
      "[[102   5]\n",
      " [  1  67]]\n"
     ]
    }
   ],
   "source": [
    "from sklearn.ensemble import BaggingClassifier\n",
    "cart=DecisionTreeClassifier()\n",
    "num_trees=100\n",
    "model=BaggingClassifier(base_estimator=cart,n_estimators=num_trees,random_state=7)\n",
    "model.fit(X_train,y_train)\n",
    "y_pred=model.predict(X_test)\n",
    "print(classification_report(y_test,y_pred))\n",
    "print(confusion_matrix(y_test,y_pred))\n",
    "accuracy['Bagging']=accuracy_score(y_pred,y_test)"
   ]
  },
  {
   "cell_type": "code",
   "execution_count": 70,
   "id": "dab5ebde",
   "metadata": {},
   "outputs": [
    {
     "data": {
      "text/plain": [
       "{'Logistic Regression': 0.9771428571428571,\n",
       " 'KNN': 0.9257142857142857,\n",
       " 'Naive Bayes': 0.9542857142857143,\n",
       " 'Decision Tree': 0.9257142857142857,\n",
       " 'Random Forest': 0.9771428571428571,\n",
       " 'AdaBoosting': 0.9428571428571428,\n",
       " 'Bagging': 0.9657142857142857}"
      ]
     },
     "execution_count": 70,
     "metadata": {},
     "output_type": "execute_result"
    }
   ],
   "source": [
    "accuracy"
   ]
  },
  {
   "cell_type": "markdown",
   "id": "a20b19ef",
   "metadata": {},
   "source": [
    "### Model Creation"
   ]
  },
  {
   "cell_type": "code",
   "execution_count": 71,
   "id": "319a8143",
   "metadata": {},
   "outputs": [],
   "source": [
    "import tensorflow as tf\n",
    "from tensorflow.keras.models import Sequential\n",
    "from tensorflow.keras.layers import Dense, Activation,Dropout"
   ]
  },
  {
   "cell_type": "code",
   "execution_count": 72,
   "id": "5d05fc29",
   "metadata": {},
   "outputs": [],
   "source": [
    "from tensorflow.keras.callbacks import EarlyStopping"
   ]
  },
  {
   "cell_type": "code",
   "execution_count": 73,
   "id": "1a7ba391",
   "metadata": {},
   "outputs": [],
   "source": [
    "from tensorflow.keras.layers import Dropout"
   ]
  },
  {
   "cell_type": "code",
   "execution_count": 74,
   "id": "0fa8c2ab",
   "metadata": {},
   "outputs": [],
   "source": [
    "model = Sequential()\n",
    "model.add(Dense(units=6,activation='relu'))\n",
    "model.add(Dropout(0.5))\n",
    "\n",
    "model.add(Dense(units=4,activation='relu'))\n",
    "model.add(Dropout(0.5))\n",
    "\n",
    "model.add(Dense(units=1,activation='sigmoid'))\n",
    "model.compile(loss='binary_crossentropy', optimizer='adam')"
   ]
  },
  {
   "cell_type": "code",
   "execution_count": 75,
   "id": "250bebc6",
   "metadata": {},
   "outputs": [],
   "source": [
    "early_stop = EarlyStopping(monitor='val_loss', mode='min', verbose=1, patience=25)"
   ]
  },
  {
   "cell_type": "code",
   "execution_count": 76,
   "id": "decc43d8",
   "metadata": {
    "scrolled": false
   },
   "outputs": [
    {
     "name": "stdout",
     "output_type": "stream",
     "text": [
      "Epoch 1/600\n",
      "17/17 [==============================] - 5s 17ms/step - loss: 0.7147 - val_loss: 0.6197\n",
      "Epoch 2/600\n",
      "17/17 [==============================] - 0s 4ms/step - loss: 0.7004 - val_loss: 0.6072\n",
      "Epoch 3/600\n",
      "17/17 [==============================] - 0s 4ms/step - loss: 0.6787 - val_loss: 0.5946\n",
      "Epoch 4/600\n",
      "17/17 [==============================] - 0s 4ms/step - loss: 0.6531 - val_loss: 0.5799\n",
      "Epoch 5/600\n",
      "17/17 [==============================] - 0s 4ms/step - loss: 0.6222 - val_loss: 0.5638\n",
      "Epoch 6/600\n",
      "17/17 [==============================] - 0s 4ms/step - loss: 0.6165 - val_loss: 0.5445\n",
      "Epoch 7/600\n",
      "17/17 [==============================] - 0s 4ms/step - loss: 0.5949 - val_loss: 0.5230\n",
      "Epoch 8/600\n",
      "17/17 [==============================] - 0s 4ms/step - loss: 0.5651 - val_loss: 0.5009\n",
      "Epoch 9/600\n",
      "17/17 [==============================] - 0s 4ms/step - loss: 0.5654 - val_loss: 0.4807\n",
      "Epoch 10/600\n",
      "17/17 [==============================] - 0s 3ms/step - loss: 0.5236 - val_loss: 0.4575\n",
      "Epoch 11/600\n",
      "17/17 [==============================] - 0s 4ms/step - loss: 0.5173 - val_loss: 0.4364\n",
      "Epoch 12/600\n",
      "17/17 [==============================] - 0s 4ms/step - loss: 0.5178 - val_loss: 0.4185\n",
      "Epoch 13/600\n",
      "17/17 [==============================] - 0s 4ms/step - loss: 0.4870 - val_loss: 0.3981\n",
      "Epoch 14/600\n",
      "17/17 [==============================] - 0s 4ms/step - loss: 0.4771 - val_loss: 0.3787\n",
      "Epoch 15/600\n",
      "17/17 [==============================] - 0s 4ms/step - loss: 0.4876 - val_loss: 0.3612\n",
      "Epoch 16/600\n",
      "17/17 [==============================] - 0s 4ms/step - loss: 0.4774 - val_loss: 0.3454\n",
      "Epoch 17/600\n",
      "17/17 [==============================] - 0s 4ms/step - loss: 0.5044 - val_loss: 0.3385\n",
      "Epoch 18/600\n",
      "17/17 [==============================] - 0s 4ms/step - loss: 0.4345 - val_loss: 0.3282\n",
      "Epoch 19/600\n",
      "17/17 [==============================] - 0s 4ms/step - loss: 0.4532 - val_loss: 0.3168\n",
      "Epoch 20/600\n",
      "17/17 [==============================] - 0s 4ms/step - loss: 0.4392 - val_loss: 0.3064\n",
      "Epoch 21/600\n",
      "17/17 [==============================] - 0s 4ms/step - loss: 0.4160 - val_loss: 0.2952\n",
      "Epoch 22/600\n",
      "17/17 [==============================] - 0s 4ms/step - loss: 0.4100 - val_loss: 0.2826\n",
      "Epoch 23/600\n",
      "17/17 [==============================] - 0s 3ms/step - loss: 0.4109 - val_loss: 0.2735\n",
      "Epoch 24/600\n",
      "17/17 [==============================] - 0s 4ms/step - loss: 0.3952 - val_loss: 0.2641\n",
      "Epoch 25/600\n",
      "17/17 [==============================] - 0s 3ms/step - loss: 0.4112 - val_loss: 0.2558\n",
      "Epoch 26/600\n",
      "17/17 [==============================] - 0s 4ms/step - loss: 0.3991 - val_loss: 0.2486\n",
      "Epoch 27/600\n",
      "17/17 [==============================] - 0s 4ms/step - loss: 0.4074 - val_loss: 0.2418\n",
      "Epoch 28/600\n",
      "17/17 [==============================] - 0s 4ms/step - loss: 0.3981 - val_loss: 0.2370\n",
      "Epoch 29/600\n",
      "17/17 [==============================] - 0s 4ms/step - loss: 0.3943 - val_loss: 0.2305\n",
      "Epoch 30/600\n",
      "17/17 [==============================] - 0s 4ms/step - loss: 0.3823 - val_loss: 0.2244\n",
      "Epoch 31/600\n",
      "17/17 [==============================] - 0s 4ms/step - loss: 0.4183 - val_loss: 0.2221\n",
      "Epoch 32/600\n",
      "17/17 [==============================] - 0s 5ms/step - loss: 0.4020 - val_loss: 0.2191\n",
      "Epoch 33/600\n",
      "17/17 [==============================] - 0s 4ms/step - loss: 0.3940 - val_loss: 0.2147\n",
      "Epoch 34/600\n",
      "17/17 [==============================] - 0s 4ms/step - loss: 0.3858 - val_loss: 0.2078\n",
      "Epoch 35/600\n",
      "17/17 [==============================] - 0s 4ms/step - loss: 0.3931 - val_loss: 0.2012\n",
      "Epoch 36/600\n",
      "17/17 [==============================] - 0s 4ms/step - loss: 0.3987 - val_loss: 0.1986\n",
      "Epoch 37/600\n",
      "17/17 [==============================] - 0s 4ms/step - loss: 0.4412 - val_loss: 0.2008\n",
      "Epoch 38/600\n",
      "17/17 [==============================] - 0s 4ms/step - loss: 0.4104 - val_loss: 0.2054\n",
      "Epoch 39/600\n",
      "17/17 [==============================] - 0s 4ms/step - loss: 0.3524 - val_loss: 0.2030\n",
      "Epoch 40/600\n",
      "17/17 [==============================] - 0s 4ms/step - loss: 0.3668 - val_loss: 0.1995\n",
      "Epoch 41/600\n",
      "17/17 [==============================] - 0s 4ms/step - loss: 0.3717 - val_loss: 0.1969\n",
      "Epoch 42/600\n",
      "17/17 [==============================] - 0s 4ms/step - loss: 0.3592 - val_loss: 0.1943\n",
      "Epoch 43/600\n",
      "17/17 [==============================] - 0s 4ms/step - loss: 0.3998 - val_loss: 0.1918\n",
      "Epoch 44/600\n",
      "17/17 [==============================] - 0s 4ms/step - loss: 0.3936 - val_loss: 0.1920\n",
      "Epoch 45/600\n",
      "17/17 [==============================] - 0s 4ms/step - loss: 0.3606 - val_loss: 0.1889\n",
      "Epoch 46/600\n",
      "17/17 [==============================] - 0s 4ms/step - loss: 0.3931 - val_loss: 0.1881\n",
      "Epoch 47/600\n",
      "17/17 [==============================] - 0s 5ms/step - loss: 0.3796 - val_loss: 0.1876\n",
      "Epoch 48/600\n",
      "17/17 [==============================] - 0s 4ms/step - loss: 0.3804 - val_loss: 0.1863\n",
      "Epoch 49/600\n",
      "17/17 [==============================] - 0s 4ms/step - loss: 0.3450 - val_loss: 0.1818\n",
      "Epoch 50/600\n",
      "17/17 [==============================] - 0s 4ms/step - loss: 0.3442 - val_loss: 0.1769\n",
      "Epoch 51/600\n",
      "17/17 [==============================] - 0s 4ms/step - loss: 0.3590 - val_loss: 0.1743\n",
      "Epoch 52/600\n",
      "17/17 [==============================] - 0s 5ms/step - loss: 0.4050 - val_loss: 0.1734\n",
      "Epoch 53/600\n",
      "17/17 [==============================] - 0s 5ms/step - loss: 0.3886 - val_loss: 0.1727\n",
      "Epoch 54/600\n",
      "17/17 [==============================] - 0s 5ms/step - loss: 0.3540 - val_loss: 0.1717\n",
      "Epoch 55/600\n",
      "17/17 [==============================] - 0s 5ms/step - loss: 0.3408 - val_loss: 0.1692\n",
      "Epoch 56/600\n",
      "17/17 [==============================] - 0s 5ms/step - loss: 0.3202 - val_loss: 0.1659\n",
      "Epoch 57/600\n",
      "17/17 [==============================] - 0s 4ms/step - loss: 0.3618 - val_loss: 0.1641\n",
      "Epoch 58/600\n",
      "17/17 [==============================] - 0s 5ms/step - loss: 0.3433 - val_loss: 0.1618\n",
      "Epoch 59/600\n",
      "17/17 [==============================] - 0s 5ms/step - loss: 0.3590 - val_loss: 0.1614\n",
      "Epoch 60/600\n",
      "17/17 [==============================] - 0s 5ms/step - loss: 0.3509 - val_loss: 0.1615\n",
      "Epoch 61/600\n",
      "17/17 [==============================] - 0s 4ms/step - loss: 0.3644 - val_loss: 0.1597\n",
      "Epoch 62/600\n",
      "17/17 [==============================] - 0s 5ms/step - loss: 0.3606 - val_loss: 0.1583\n",
      "Epoch 63/600\n",
      "17/17 [==============================] - 0s 4ms/step - loss: 0.3437 - val_loss: 0.1571\n",
      "Epoch 64/600\n",
      "17/17 [==============================] - 0s 5ms/step - loss: 0.3672 - val_loss: 0.1563\n",
      "Epoch 65/600\n",
      "17/17 [==============================] - 0s 5ms/step - loss: 0.3761 - val_loss: 0.1562\n",
      "Epoch 66/600\n",
      "17/17 [==============================] - 0s 5ms/step - loss: 0.3778 - val_loss: 0.1565\n",
      "Epoch 67/600\n",
      "17/17 [==============================] - 0s 5ms/step - loss: 0.3829 - val_loss: 0.1566\n",
      "Epoch 68/600\n",
      "17/17 [==============================] - 0s 4ms/step - loss: 0.3354 - val_loss: 0.1542\n",
      "Epoch 69/600\n",
      "17/17 [==============================] - 0s 4ms/step - loss: 0.3389 - val_loss: 0.1516\n",
      "Epoch 70/600\n",
      "17/17 [==============================] - 0s 4ms/step - loss: 0.3739 - val_loss: 0.1513\n",
      "Epoch 71/600\n",
      "17/17 [==============================] - 0s 4ms/step - loss: 0.3784 - val_loss: 0.1502\n",
      "Epoch 72/600\n",
      "17/17 [==============================] - 0s 4ms/step - loss: 0.3600 - val_loss: 0.1496\n",
      "Epoch 73/600\n",
      "17/17 [==============================] - 0s 4ms/step - loss: 0.3910 - val_loss: 0.1515\n",
      "Epoch 74/600\n",
      "17/17 [==============================] - 0s 4ms/step - loss: 0.3969 - val_loss: 0.1528\n",
      "Epoch 75/600\n",
      "17/17 [==============================] - 0s 4ms/step - loss: 0.3834 - val_loss: 0.1553\n",
      "Epoch 76/600\n",
      "17/17 [==============================] - 0s 4ms/step - loss: 0.3944 - val_loss: 0.1594\n",
      "Epoch 77/600\n",
      "17/17 [==============================] - 0s 4ms/step - loss: 0.3600 - val_loss: 0.1598\n",
      "Epoch 78/600\n",
      "17/17 [==============================] - 0s 4ms/step - loss: 0.3451 - val_loss: 0.1585\n",
      "Epoch 79/600\n",
      "17/17 [==============================] - 0s 4ms/step - loss: 0.3575 - val_loss: 0.1556\n",
      "Epoch 80/600\n",
      "17/17 [==============================] - 0s 4ms/step - loss: 0.3603 - val_loss: 0.1533\n",
      "Epoch 81/600\n",
      "17/17 [==============================] - 0s 4ms/step - loss: 0.3507 - val_loss: 0.1518\n",
      "Epoch 82/600\n",
      "17/17 [==============================] - 0s 4ms/step - loss: 0.3484 - val_loss: 0.1512\n",
      "Epoch 83/600\n"
     ]
    },
    {
     "name": "stdout",
     "output_type": "stream",
     "text": [
      "17/17 [==============================] - 0s 4ms/step - loss: 0.3462 - val_loss: 0.1508\n",
      "Epoch 84/600\n",
      "17/17 [==============================] - 0s 4ms/step - loss: 0.3367 - val_loss: 0.1502\n",
      "Epoch 85/600\n",
      "17/17 [==============================] - 0s 4ms/step - loss: 0.3838 - val_loss: 0.1510\n",
      "Epoch 86/600\n",
      "17/17 [==============================] - 0s 4ms/step - loss: 0.3564 - val_loss: 0.1499\n",
      "Epoch 87/600\n",
      "17/17 [==============================] - 0s 4ms/step - loss: 0.3426 - val_loss: 0.1495\n",
      "Epoch 88/600\n",
      "17/17 [==============================] - 0s 4ms/step - loss: 0.3477 - val_loss: 0.1485\n",
      "Epoch 89/600\n",
      "17/17 [==============================] - 0s 4ms/step - loss: 0.3643 - val_loss: 0.1487\n",
      "Epoch 90/600\n",
      "17/17 [==============================] - 0s 3ms/step - loss: 0.3389 - val_loss: 0.1470\n",
      "Epoch 91/600\n",
      "17/17 [==============================] - 0s 4ms/step - loss: 0.3697 - val_loss: 0.1461\n",
      "Epoch 92/600\n",
      "17/17 [==============================] - 0s 4ms/step - loss: 0.3615 - val_loss: 0.1461\n",
      "Epoch 93/600\n",
      "17/17 [==============================] - 0s 4ms/step - loss: 0.3867 - val_loss: 0.1487\n",
      "Epoch 94/600\n",
      "17/17 [==============================] - 0s 4ms/step - loss: 0.3545 - val_loss: 0.1504\n",
      "Epoch 95/600\n",
      "17/17 [==============================] - 0s 4ms/step - loss: 0.3792 - val_loss: 0.1510\n",
      "Epoch 96/600\n",
      "17/17 [==============================] - 0s 4ms/step - loss: 0.3571 - val_loss: 0.1506\n",
      "Epoch 97/600\n",
      "17/17 [==============================] - 0s 4ms/step - loss: 0.3527 - val_loss: 0.1526\n",
      "Epoch 98/600\n",
      "17/17 [==============================] - 0s 4ms/step - loss: 0.3980 - val_loss: 0.1550\n",
      "Epoch 99/600\n",
      "17/17 [==============================] - 0s 4ms/step - loss: 0.3511 - val_loss: 0.1565\n",
      "Epoch 100/600\n",
      "17/17 [==============================] - 0s 4ms/step - loss: 0.3368 - val_loss: 0.1573\n",
      "Epoch 101/600\n",
      "17/17 [==============================] - 0s 4ms/step - loss: 0.3323 - val_loss: 0.1533\n",
      "Epoch 102/600\n",
      "17/17 [==============================] - 0s 4ms/step - loss: 0.3444 - val_loss: 0.1513\n",
      "Epoch 103/600\n",
      "17/17 [==============================] - 0s 3ms/step - loss: 0.3332 - val_loss: 0.1508\n",
      "Epoch 104/600\n",
      "17/17 [==============================] - 0s 4ms/step - loss: 0.3592 - val_loss: 0.1490\n",
      "Epoch 105/600\n",
      "17/17 [==============================] - 0s 4ms/step - loss: 0.3555 - val_loss: 0.1481\n",
      "Epoch 106/600\n",
      "17/17 [==============================] - 0s 4ms/step - loss: 0.3234 - val_loss: 0.1461\n",
      "Epoch 107/600\n",
      "17/17 [==============================] - 0s 4ms/step - loss: 0.3387 - val_loss: 0.1445\n",
      "Epoch 108/600\n",
      "17/17 [==============================] - 0s 4ms/step - loss: 0.3639 - val_loss: 0.1438\n",
      "Epoch 109/600\n",
      "17/17 [==============================] - 0s 4ms/step - loss: 0.3220 - val_loss: 0.1423\n",
      "Epoch 110/600\n",
      "17/17 [==============================] - 0s 4ms/step - loss: 0.3550 - val_loss: 0.1416\n",
      "Epoch 111/600\n",
      "17/17 [==============================] - 0s 4ms/step - loss: 0.3160 - val_loss: 0.1410\n",
      "Epoch 112/600\n",
      "17/17 [==============================] - 0s 4ms/step - loss: 0.3004 - val_loss: 0.1395\n",
      "Epoch 113/600\n",
      "17/17 [==============================] - 0s 4ms/step - loss: 0.3618 - val_loss: 0.1373\n",
      "Epoch 114/600\n",
      "17/17 [==============================] - 0s 4ms/step - loss: 0.3292 - val_loss: 0.1354\n",
      "Epoch 115/600\n",
      "17/17 [==============================] - 0s 4ms/step - loss: 0.3586 - val_loss: 0.1344\n",
      "Epoch 116/600\n",
      "17/17 [==============================] - 0s 4ms/step - loss: 0.3555 - val_loss: 0.1327\n",
      "Epoch 117/600\n",
      "17/17 [==============================] - 0s 4ms/step - loss: 0.3226 - val_loss: 0.1320\n",
      "Epoch 118/600\n",
      "17/17 [==============================] - 0s 4ms/step - loss: 0.3412 - val_loss: 0.1322\n",
      "Epoch 119/600\n",
      "17/17 [==============================] - 0s 4ms/step - loss: 0.3412 - val_loss: 0.1327\n",
      "Epoch 120/600\n",
      "17/17 [==============================] - 0s 4ms/step - loss: 0.3648 - val_loss: 0.1330\n",
      "Epoch 121/600\n",
      "17/17 [==============================] - 0s 4ms/step - loss: 0.3475 - val_loss: 0.1325\n",
      "Epoch 122/600\n",
      "17/17 [==============================] - 0s 5ms/step - loss: 0.3334 - val_loss: 0.1319\n",
      "Epoch 123/600\n",
      "17/17 [==============================] - 0s 4ms/step - loss: 0.3538 - val_loss: 0.1328\n",
      "Epoch 124/600\n",
      "17/17 [==============================] - 0s 4ms/step - loss: 0.3746 - val_loss: 0.1351\n",
      "Epoch 125/600\n",
      "17/17 [==============================] - 0s 4ms/step - loss: 0.3179 - val_loss: 0.1344\n",
      "Epoch 126/600\n",
      "17/17 [==============================] - 0s 4ms/step - loss: 0.3169 - val_loss: 0.1311\n",
      "Epoch 127/600\n",
      "17/17 [==============================] - 0s 4ms/step - loss: 0.3663 - val_loss: 0.1313\n",
      "Epoch 128/600\n",
      "17/17 [==============================] - 0s 4ms/step - loss: 0.3413 - val_loss: 0.1313\n",
      "Epoch 129/600\n",
      "17/17 [==============================] - 0s 4ms/step - loss: 0.3343 - val_loss: 0.1331\n",
      "Epoch 130/600\n",
      "17/17 [==============================] - 0s 3ms/step - loss: 0.3411 - val_loss: 0.1332\n",
      "Epoch 131/600\n",
      "17/17 [==============================] - 0s 3ms/step - loss: 0.3187 - val_loss: 0.1311\n",
      "Epoch 132/600\n",
      "17/17 [==============================] - 0s 4ms/step - loss: 0.3213 - val_loss: 0.1290\n",
      "Epoch 133/600\n",
      "17/17 [==============================] - 0s 4ms/step - loss: 0.3387 - val_loss: 0.1280\n",
      "Epoch 134/600\n",
      "17/17 [==============================] - 0s 4ms/step - loss: 0.3260 - val_loss: 0.1252\n",
      "Epoch 135/600\n",
      "17/17 [==============================] - 0s 4ms/step - loss: 0.3203 - val_loss: 0.1241\n",
      "Epoch 136/600\n",
      "17/17 [==============================] - 0s 4ms/step - loss: 0.3382 - val_loss: 0.1253\n",
      "Epoch 137/600\n",
      "17/17 [==============================] - 0s 4ms/step - loss: 0.3708 - val_loss: 0.1280\n",
      "Epoch 138/600\n",
      "17/17 [==============================] - 0s 4ms/step - loss: 0.3521 - val_loss: 0.1317\n",
      "Epoch 139/600\n",
      "17/17 [==============================] - 0s 4ms/step - loss: 0.3321 - val_loss: 0.1310\n",
      "Epoch 140/600\n",
      "17/17 [==============================] - 0s 4ms/step - loss: 0.3035 - val_loss: 0.1305\n",
      "Epoch 141/600\n",
      "17/17 [==============================] - 0s 4ms/step - loss: 0.3544 - val_loss: 0.1312\n",
      "Epoch 142/600\n",
      "17/17 [==============================] - 0s 4ms/step - loss: 0.3535 - val_loss: 0.1322\n",
      "Epoch 143/600\n",
      "17/17 [==============================] - 0s 4ms/step - loss: 0.3641 - val_loss: 0.1324\n",
      "Epoch 144/600\n",
      "17/17 [==============================] - 0s 4ms/step - loss: 0.3329 - val_loss: 0.1316\n",
      "Epoch 145/600\n",
      "17/17 [==============================] - 0s 3ms/step - loss: 0.3270 - val_loss: 0.1311\n",
      "Epoch 146/600\n",
      "17/17 [==============================] - 0s 3ms/step - loss: 0.3530 - val_loss: 0.1310\n",
      "Epoch 147/600\n",
      "17/17 [==============================] - 0s 4ms/step - loss: 0.3427 - val_loss: 0.1307\n",
      "Epoch 148/600\n",
      "17/17 [==============================] - 0s 3ms/step - loss: 0.3618 - val_loss: 0.1313\n",
      "Epoch 149/600\n",
      "17/17 [==============================] - 0s 4ms/step - loss: 0.3420 - val_loss: 0.1327\n",
      "Epoch 150/600\n",
      "17/17 [==============================] - 0s 3ms/step - loss: 0.3335 - val_loss: 0.1311\n",
      "Epoch 151/600\n",
      "17/17 [==============================] - 0s 4ms/step - loss: 0.3598 - val_loss: 0.1314\n",
      "Epoch 152/600\n",
      "17/17 [==============================] - 0s 4ms/step - loss: 0.3245 - val_loss: 0.1317\n",
      "Epoch 153/600\n",
      "17/17 [==============================] - 0s 4ms/step - loss: 0.3040 - val_loss: 0.1312\n",
      "Epoch 154/600\n",
      "17/17 [==============================] - 0s 4ms/step - loss: 0.3306 - val_loss: 0.1306\n",
      "Epoch 155/600\n",
      "17/17 [==============================] - 0s 4ms/step - loss: 0.3147 - val_loss: 0.1278\n",
      "Epoch 156/600\n",
      "17/17 [==============================] - 0s 4ms/step - loss: 0.3310 - val_loss: 0.1266\n",
      "Epoch 157/600\n",
      "17/17 [==============================] - 0s 4ms/step - loss: 0.3183 - val_loss: 0.1252\n",
      "Epoch 158/600\n",
      "17/17 [==============================] - 0s 4ms/step - loss: 0.3068 - val_loss: 0.1230\n",
      "Epoch 159/600\n",
      "17/17 [==============================] - 0s 4ms/step - loss: 0.3443 - val_loss: 0.1219\n",
      "Epoch 160/600\n",
      "17/17 [==============================] - 0s 4ms/step - loss: 0.3337 - val_loss: 0.1225\n",
      "Epoch 161/600\n",
      "17/17 [==============================] - 0s 4ms/step - loss: 0.2977 - val_loss: 0.1200\n",
      "Epoch 162/600\n",
      "17/17 [==============================] - 0s 4ms/step - loss: 0.3292 - val_loss: 0.1201\n",
      "Epoch 163/600\n",
      "17/17 [==============================] - 0s 4ms/step - loss: 0.3087 - val_loss: 0.1213\n",
      "Epoch 164/600\n"
     ]
    },
    {
     "name": "stdout",
     "output_type": "stream",
     "text": [
      "17/17 [==============================] - 0s 4ms/step - loss: 0.2861 - val_loss: 0.1192\n",
      "Epoch 165/600\n",
      "17/17 [==============================] - 0s 4ms/step - loss: 0.2932 - val_loss: 0.1184\n",
      "Epoch 166/600\n",
      "17/17 [==============================] - 0s 4ms/step - loss: 0.2753 - val_loss: 0.1170\n",
      "Epoch 167/600\n",
      "17/17 [==============================] - 0s 4ms/step - loss: 0.2944 - val_loss: 0.1169\n",
      "Epoch 168/600\n",
      "17/17 [==============================] - 0s 4ms/step - loss: 0.2876 - val_loss: 0.1164\n",
      "Epoch 169/600\n",
      "17/17 [==============================] - 0s 4ms/step - loss: 0.3126 - val_loss: 0.1180\n",
      "Epoch 170/600\n",
      "17/17 [==============================] - 0s 4ms/step - loss: 0.2799 - val_loss: 0.1167\n",
      "Epoch 171/600\n",
      "17/17 [==============================] - 0s 4ms/step - loss: 0.2938 - val_loss: 0.1171\n",
      "Epoch 172/600\n",
      "17/17 [==============================] - 0s 4ms/step - loss: 0.2968 - val_loss: 0.1164\n",
      "Epoch 173/600\n",
      "17/17 [==============================] - 0s 4ms/step - loss: 0.2809 - val_loss: 0.1175\n",
      "Epoch 174/600\n",
      "17/17 [==============================] - 0s 3ms/step - loss: 0.2670 - val_loss: 0.1161\n",
      "Epoch 175/600\n",
      "17/17 [==============================] - 0s 4ms/step - loss: 0.3023 - val_loss: 0.1163\n",
      "Epoch 176/600\n",
      "17/17 [==============================] - 0s 4ms/step - loss: 0.3009 - val_loss: 0.1159\n",
      "Epoch 177/600\n",
      "17/17 [==============================] - 0s 4ms/step - loss: 0.2710 - val_loss: 0.1145\n",
      "Epoch 178/600\n",
      "17/17 [==============================] - 0s 4ms/step - loss: 0.2841 - val_loss: 0.1141\n",
      "Epoch 179/600\n",
      "17/17 [==============================] - 0s 4ms/step - loss: 0.2937 - val_loss: 0.1125\n",
      "Epoch 180/600\n",
      "17/17 [==============================] - 0s 4ms/step - loss: 0.2939 - val_loss: 0.1128\n",
      "Epoch 181/600\n",
      "17/17 [==============================] - 0s 4ms/step - loss: 0.3003 - val_loss: 0.1129\n",
      "Epoch 182/600\n",
      "17/17 [==============================] - 0s 4ms/step - loss: 0.3061 - val_loss: 0.1151\n",
      "Epoch 183/600\n",
      "17/17 [==============================] - 0s 4ms/step - loss: 0.3063 - val_loss: 0.1170\n",
      "Epoch 184/600\n",
      "17/17 [==============================] - 0s 4ms/step - loss: 0.2950 - val_loss: 0.1172\n",
      "Epoch 185/600\n",
      "17/17 [==============================] - 0s 4ms/step - loss: 0.2738 - val_loss: 0.1158\n",
      "Epoch 186/600\n",
      "17/17 [==============================] - 0s 4ms/step - loss: 0.2860 - val_loss: 0.1132\n",
      "Epoch 187/600\n",
      "17/17 [==============================] - 0s 4ms/step - loss: 0.2866 - val_loss: 0.1117\n",
      "Epoch 188/600\n",
      "17/17 [==============================] - 0s 4ms/step - loss: 0.2812 - val_loss: 0.1107\n",
      "Epoch 189/600\n",
      "17/17 [==============================] - 0s 4ms/step - loss: 0.3102 - val_loss: 0.1116\n",
      "Epoch 190/600\n",
      "17/17 [==============================] - 0s 4ms/step - loss: 0.2773 - val_loss: 0.1126\n",
      "Epoch 191/600\n",
      "17/17 [==============================] - 0s 4ms/step - loss: 0.2992 - val_loss: 0.1135\n",
      "Epoch 192/600\n",
      "17/17 [==============================] - 0s 4ms/step - loss: 0.2665 - val_loss: 0.1142\n",
      "Epoch 193/600\n",
      "17/17 [==============================] - 0s 4ms/step - loss: 0.3013 - val_loss: 0.1139\n",
      "Epoch 194/600\n",
      "17/17 [==============================] - 0s 4ms/step - loss: 0.3042 - val_loss: 0.1125\n",
      "Epoch 195/600\n",
      "17/17 [==============================] - 0s 4ms/step - loss: 0.2752 - val_loss: 0.1117\n",
      "Epoch 196/600\n",
      "17/17 [==============================] - 0s 4ms/step - loss: 0.3056 - val_loss: 0.1101\n",
      "Epoch 197/600\n",
      "17/17 [==============================] - 0s 4ms/step - loss: 0.2984 - val_loss: 0.1097\n",
      "Epoch 198/600\n",
      "17/17 [==============================] - 0s 4ms/step - loss: 0.2984 - val_loss: 0.1095\n",
      "Epoch 199/600\n",
      "17/17 [==============================] - 0s 4ms/step - loss: 0.3205 - val_loss: 0.1127\n",
      "Epoch 200/600\n",
      "17/17 [==============================] - 0s 4ms/step - loss: 0.3094 - val_loss: 0.1126\n",
      "Epoch 201/600\n",
      "17/17 [==============================] - 0s 4ms/step - loss: 0.2747 - val_loss: 0.1126\n",
      "Epoch 202/600\n",
      "17/17 [==============================] - 0s 4ms/step - loss: 0.2771 - val_loss: 0.1113\n",
      "Epoch 203/600\n",
      "17/17 [==============================] - 0s 4ms/step - loss: 0.2862 - val_loss: 0.1117\n",
      "Epoch 204/600\n",
      "17/17 [==============================] - 0s 4ms/step - loss: 0.2879 - val_loss: 0.1122\n",
      "Epoch 205/600\n",
      "17/17 [==============================] - 0s 4ms/step - loss: 0.2992 - val_loss: 0.1102\n",
      "Epoch 206/600\n",
      "17/17 [==============================] - 0s 4ms/step - loss: 0.3033 - val_loss: 0.1128\n",
      "Epoch 207/600\n",
      "17/17 [==============================] - 0s 4ms/step - loss: 0.3023 - val_loss: 0.1128\n",
      "Epoch 208/600\n",
      "17/17 [==============================] - 0s 4ms/step - loss: 0.2874 - val_loss: 0.1118\n",
      "Epoch 209/600\n",
      "17/17 [==============================] - 0s 4ms/step - loss: 0.2816 - val_loss: 0.1109\n",
      "Epoch 210/600\n",
      "17/17 [==============================] - 0s 4ms/step - loss: 0.2919 - val_loss: 0.1136\n",
      "Epoch 211/600\n",
      "17/17 [==============================] - 0s 4ms/step - loss: 0.2566 - val_loss: 0.1141\n",
      "Epoch 212/600\n",
      "17/17 [==============================] - 0s 4ms/step - loss: 0.2818 - val_loss: 0.1133\n",
      "Epoch 213/600\n",
      "17/17 [==============================] - 0s 4ms/step - loss: 0.2682 - val_loss: 0.1118\n",
      "Epoch 214/600\n",
      "17/17 [==============================] - 0s 4ms/step - loss: 0.2944 - val_loss: 0.1108\n",
      "Epoch 215/600\n",
      "17/17 [==============================] - 0s 4ms/step - loss: 0.2694 - val_loss: 0.1111\n",
      "Epoch 216/600\n",
      "17/17 [==============================] - 0s 4ms/step - loss: 0.2887 - val_loss: 0.1117\n",
      "Epoch 217/600\n",
      "17/17 [==============================] - 0s 4ms/step - loss: 0.3043 - val_loss: 0.1102\n",
      "Epoch 218/600\n",
      "17/17 [==============================] - 0s 4ms/step - loss: 0.2990 - val_loss: 0.1114\n",
      "Epoch 219/600\n",
      "17/17 [==============================] - 0s 4ms/step - loss: 0.2715 - val_loss: 0.1110\n",
      "Epoch 220/600\n",
      "17/17 [==============================] - 0s 4ms/step - loss: 0.2801 - val_loss: 0.1124\n",
      "Epoch 221/600\n",
      "17/17 [==============================] - 0s 4ms/step - loss: 0.2603 - val_loss: 0.1111\n",
      "Epoch 222/600\n",
      "17/17 [==============================] - 0s 4ms/step - loss: 0.3059 - val_loss: 0.1104\n",
      "Epoch 223/600\n",
      "17/17 [==============================] - 0s 4ms/step - loss: 0.2881 - val_loss: 0.1111\n",
      "Epoch 223: early stopping\n"
     ]
    },
    {
     "data": {
      "text/plain": [
       "<keras.callbacks.History at 0x18bd941ff10>"
      ]
     },
     "execution_count": 76,
     "metadata": {},
     "output_type": "execute_result"
    }
   ],
   "source": [
    "model.fit(x=X_train, \n",
    "          y=y_train, \n",
    "          epochs=600,\n",
    "          validation_data=(X_test, y_test), verbose=1,\n",
    "          callbacks=[early_stop]\n",
    "          )"
   ]
  },
  {
   "cell_type": "code",
   "execution_count": 77,
   "id": "b1edc250",
   "metadata": {},
   "outputs": [
    {
     "data": {
      "text/plain": [
       "<AxesSubplot:>"
      ]
     },
     "execution_count": 77,
     "metadata": {},
     "output_type": "execute_result"
    },
    {
     "data": {
      "image/png": "[encoded data removed]",
      "text/plain": [
       "<Figure size 640x480 with 1 Axes>"
      ]
     },
     "metadata": {},
     "output_type": "display_data"
    }
   ],
   "source": [
    "model_loss = pd.DataFrame(model.history.history)\n",
    "model_loss.plot()"
   ]
  },
  {
   "cell_type": "code",
   "execution_count": 78,
   "id": "294e5375",
   "metadata": {},
   "outputs": [
    {
     "name": "stdout",
     "output_type": "stream",
     "text": [
      "The maximum validation loss is  0.6196967363357544 \n",
      "The minimum validation loss is 0.10945217311382294\n"
     ]
    }
   ],
   "source": [
    "l=list(model_loss['val_loss'])\n",
    "print(\"The maximum validation loss is \",max(l),\"\\nThe minimum validation loss is\",min(l))"
   ]
  },
  {
   "cell_type": "code",
   "execution_count": 79,
   "id": "86fa5a76",
   "metadata": {},
   "outputs": [
    {
     "name": "stdout",
     "output_type": "stream",
     "text": [
      "6/6 [==============================] - 1s 1ms/step\n"
     ]
    }
   ],
   "source": [
    "predictions=(model.predict(X_test) > 0.5).astype(\"int32\")"
   ]
  },
  {
   "cell_type": "code",
   "execution_count": 80,
   "id": "8fa71afb",
   "metadata": {},
   "outputs": [],
   "source": [
    "from sklearn.metrics import classification_report,confusion_matrix"
   ]
  },
  {
   "cell_type": "code",
   "execution_count": 81,
   "id": "4d5ac992",
   "metadata": {},
   "outputs": [
    {
     "name": "stdout",
     "output_type": "stream",
     "text": [
      "              precision    recall  f1-score   support\n",
      "\n",
      "           0       0.99      0.97      0.98       107\n",
      "           1       0.96      0.99      0.97        68\n",
      "\n",
      "    accuracy                           0.98       175\n",
      "   macro avg       0.97      0.98      0.98       175\n",
      "weighted avg       0.98      0.98      0.98       175\n",
      "\n"
     ]
    }
   ],
   "source": [
    "print(classification_report(y_test,predictions))"
   ]
  },
  {
   "cell_type": "code",
   "execution_count": 82,
   "id": "060ecbf7",
   "metadata": {},
   "outputs": [
    {
     "data": {
      "text/plain": [
       "array([1, 0, 0, 0, 1, 0, 1, 0, 1, 0, 1, 0, 1, 1, 0, 0, 0, 0, 1, 1, 1, 1,\n",
       "       0, 0, 0, 1, 1, 0, 0, 0, 0, 1, 1, 0, 1, 0, 1, 1, 0, 0, 0, 0, 1, 0,\n",
       "       1, 0, 1, 1, 0, 0, 0, 0, 1, 1, 0, 1, 0, 1, 1, 0, 0, 0, 0, 0, 0, 1,\n",
       "       0, 1, 0, 0, 1, 0, 0, 0, 0, 1, 1, 1, 0, 1, 1, 0, 1, 0, 0, 0, 0, 1,\n",
       "       0, 0, 1, 0, 0, 0, 0, 0, 0, 0, 0, 1, 0, 0, 0, 0, 0, 0, 0, 1, 0, 0,\n",
       "       0, 0, 0, 1, 0, 1, 1, 1, 0, 0, 0, 0, 0, 0, 0, 0, 1, 0, 0, 0, 0, 1,\n",
       "       0, 1, 0, 0, 1, 0, 1, 1, 0, 0, 1, 0, 0, 1, 1, 0, 0, 1, 1, 0, 0, 1,\n",
       "       1, 1, 1, 1, 1, 0, 0, 1, 1, 0, 0, 1, 1, 1, 0, 1, 0, 0, 0, 1, 0],\n",
       "      dtype=int64)"
      ]
     },
     "execution_count": 82,
     "metadata": {},
     "output_type": "execute_result"
    }
   ],
   "source": [
    "y_test"
   ]
  },
  {
   "cell_type": "code",
   "execution_count": 83,
   "id": "ba7f3eb3",
   "metadata": {},
   "outputs": [
    {
     "data": {
      "text/plain": [
       "array([1, 0, 0, 0, 1, 0, 1, 0, 1, 0, 1, 1, 1, 1, 0, 0, 0, 0, 1, 1, 1, 1,\n",
       "       0, 0, 0, 1, 1, 0, 0, 0, 0, 1, 1, 0, 1, 0, 1, 1, 0, 0, 0, 0, 1, 0,\n",
       "       1, 0, 1, 1, 0, 0, 0, 0, 1, 1, 0, 1, 0, 1, 1, 0, 0, 0, 0, 0, 0, 1,\n",
       "       0, 1, 0, 0, 1, 0, 0, 0, 1, 1, 1, 1, 0, 1, 1, 0, 1, 0, 0, 0, 0, 1,\n",
       "       0, 0, 1, 0, 0, 0, 0, 0, 0, 0, 0, 1, 0, 0, 0, 0, 0, 0, 0, 1, 0, 0,\n",
       "       0, 0, 0, 1, 0, 1, 1, 1, 0, 0, 0, 0, 0, 0, 0, 0, 1, 0, 0, 0, 0, 1,\n",
       "       0, 1, 1, 0, 1, 0, 1, 1, 0, 0, 1, 0, 0, 1, 1, 0, 0, 1, 1, 0, 0, 1,\n",
       "       1, 1, 1, 1, 1, 0, 0, 1, 1, 0, 0, 1, 1, 1, 0, 1, 0, 0, 0, 0, 0])"
      ]
     },
     "execution_count": 83,
     "metadata": {},
     "output_type": "execute_result"
    }
   ],
   "source": [
    "predictions.flatten()"
   ]
  },
  {
   "cell_type": "code",
   "execution_count": 84,
   "id": "60e4d365",
   "metadata": {},
   "outputs": [],
   "source": [
    "model_2 = Sequential()\n",
    "model_2.add(Dense(units=9,activation='relu'))\n",
    "model_2.add(Dropout(0.5))\n",
    "\n",
    "model_2.add(Dense(units=5,activation='relu'))\n",
    "model_2.add(Dropout(0.5))\n",
    "\n",
    "model_2.add(Dense(units=1,activation='sigmoid'))\n",
    "model_2.compile(loss='binary_crossentropy', optimizer='adam')"
   ]
  },
  {
   "cell_type": "code",
   "execution_count": 85,
   "id": "82f64f25",
   "metadata": {},
   "outputs": [
    {
     "name": "stdout",
     "output_type": "stream",
     "text": [
      "Epoch 1/600\n",
      "17/17 [==============================] - 1s 15ms/step - loss: 0.7285 - val_loss: 0.7331\n",
      "Epoch 2/600\n",
      "17/17 [==============================] - 0s 4ms/step - loss: 0.7193 - val_loss: 0.7125\n",
      "Epoch 3/600\n",
      "17/17 [==============================] - 0s 4ms/step - loss: 0.7065 - val_loss: 0.6896\n",
      "Epoch 4/600\n",
      "17/17 [==============================] - 0s 4ms/step - loss: 0.6718 - val_loss: 0.6641\n",
      "Epoch 5/600\n",
      "17/17 [==============================] - 0s 4ms/step - loss: 0.6600 - val_loss: 0.6394\n",
      "Epoch 6/600\n",
      "17/17 [==============================] - 0s 4ms/step - loss: 0.6337 - val_loss: 0.6130\n",
      "Epoch 7/600\n",
      "17/17 [==============================] - 0s 4ms/step - loss: 0.6052 - val_loss: 0.5858\n",
      "Epoch 8/600\n",
      "17/17 [==============================] - 0s 4ms/step - loss: 0.6081 - val_loss: 0.5608\n",
      "Epoch 9/600\n",
      "17/17 [==============================] - 0s 4ms/step - loss: 0.5923 - val_loss: 0.5366\n",
      "Epoch 10/600\n",
      "17/17 [==============================] - 0s 4ms/step - loss: 0.5749 - val_loss: 0.5122\n",
      "Epoch 11/600\n",
      "17/17 [==============================] - 0s 4ms/step - loss: 0.5319 - val_loss: 0.4872\n",
      "Epoch 12/600\n",
      "17/17 [==============================] - 0s 4ms/step - loss: 0.5238 - val_loss: 0.4604\n",
      "Epoch 13/600\n",
      "17/17 [==============================] - 0s 4ms/step - loss: 0.4991 - val_loss: 0.4363\n",
      "Epoch 14/600\n",
      "17/17 [==============================] - 0s 4ms/step - loss: 0.4860 - val_loss: 0.4110\n",
      "Epoch 15/600\n",
      "17/17 [==============================] - 0s 4ms/step - loss: 0.4753 - val_loss: 0.3883\n",
      "Epoch 16/600\n",
      "17/17 [==============================] - 0s 4ms/step - loss: 0.4354 - val_loss: 0.3672\n",
      "Epoch 17/600\n",
      "17/17 [==============================] - 0s 4ms/step - loss: 0.4538 - val_loss: 0.3490\n",
      "Epoch 18/600\n",
      "17/17 [==============================] - 0s 4ms/step - loss: 0.4180 - val_loss: 0.3302\n",
      "Epoch 19/600\n",
      "17/17 [==============================] - 0s 4ms/step - loss: 0.4374 - val_loss: 0.3124\n",
      "Epoch 20/600\n",
      "17/17 [==============================] - 0s 3ms/step - loss: 0.4149 - val_loss: 0.2992\n",
      "Epoch 21/600\n",
      "17/17 [==============================] - 0s 4ms/step - loss: 0.4109 - val_loss: 0.2869\n",
      "Epoch 22/600\n",
      "17/17 [==============================] - 0s 4ms/step - loss: 0.3877 - val_loss: 0.2748\n",
      "Epoch 23/600\n",
      "17/17 [==============================] - 0s 4ms/step - loss: 0.3935 - val_loss: 0.2611\n",
      "Epoch 24/600\n",
      "17/17 [==============================] - 0s 4ms/step - loss: 0.3813 - val_loss: 0.2518\n",
      "Epoch 25/600\n",
      "17/17 [==============================] - 0s 3ms/step - loss: 0.3551 - val_loss: 0.2404\n",
      "Epoch 26/600\n",
      "17/17 [==============================] - 0s 4ms/step - loss: 0.3991 - val_loss: 0.2312\n",
      "Epoch 27/600\n",
      "17/17 [==============================] - 0s 4ms/step - loss: 0.3983 - val_loss: 0.2249\n",
      "Epoch 28/600\n",
      "17/17 [==============================] - 0s 4ms/step - loss: 0.3694 - val_loss: 0.2163\n",
      "Epoch 29/600\n",
      "17/17 [==============================] - 0s 4ms/step - loss: 0.3544 - val_loss: 0.2091\n",
      "Epoch 30/600\n",
      "17/17 [==============================] - 0s 4ms/step - loss: 0.3283 - val_loss: 0.2012\n",
      "Epoch 31/600\n",
      "17/17 [==============================] - 0s 4ms/step - loss: 0.3380 - val_loss: 0.1956\n",
      "Epoch 32/600\n",
      "17/17 [==============================] - 0s 4ms/step - loss: 0.3609 - val_loss: 0.1921\n",
      "Epoch 33/600\n",
      "17/17 [==============================] - 0s 4ms/step - loss: 0.3653 - val_loss: 0.1893\n",
      "Epoch 34/600\n",
      "17/17 [==============================] - 0s 4ms/step - loss: 0.3571 - val_loss: 0.1853\n",
      "Epoch 35/600\n",
      "17/17 [==============================] - 0s 4ms/step - loss: 0.3299 - val_loss: 0.1805\n",
      "Epoch 36/600\n",
      "17/17 [==============================] - 0s 4ms/step - loss: 0.3553 - val_loss: 0.1755\n",
      "Epoch 37/600\n",
      "17/17 [==============================] - 0s 4ms/step - loss: 0.3477 - val_loss: 0.1705\n",
      "Epoch 38/600\n",
      "17/17 [==============================] - 0s 4ms/step - loss: 0.3073 - val_loss: 0.1644\n",
      "Epoch 39/600\n",
      "17/17 [==============================] - 0s 4ms/step - loss: 0.3089 - val_loss: 0.1607\n",
      "Epoch 40/600\n",
      "17/17 [==============================] - 0s 4ms/step - loss: 0.3124 - val_loss: 0.1567\n",
      "Epoch 41/600\n",
      "17/17 [==============================] - 0s 4ms/step - loss: 0.3267 - val_loss: 0.1524\n",
      "Epoch 42/600\n",
      "17/17 [==============================] - 0s 4ms/step - loss: 0.2964 - val_loss: 0.1505\n",
      "Epoch 43/600\n",
      "17/17 [==============================] - 0s 4ms/step - loss: 0.3126 - val_loss: 0.1471\n",
      "Epoch 44/600\n",
      "17/17 [==============================] - 0s 4ms/step - loss: 0.2905 - val_loss: 0.1436\n",
      "Epoch 45/600\n",
      "17/17 [==============================] - 0s 4ms/step - loss: 0.3384 - val_loss: 0.1420\n",
      "Epoch 46/600\n",
      "17/17 [==============================] - 0s 4ms/step - loss: 0.3104 - val_loss: 0.1393\n",
      "Epoch 47/600\n",
      "17/17 [==============================] - 0s 4ms/step - loss: 0.2877 - val_loss: 0.1367\n",
      "Epoch 48/600\n",
      "17/17 [==============================] - 0s 3ms/step - loss: 0.3167 - val_loss: 0.1343\n",
      "Epoch 49/600\n",
      "17/17 [==============================] - 0s 4ms/step - loss: 0.3093 - val_loss: 0.1353\n",
      "Epoch 50/600\n",
      "17/17 [==============================] - 0s 4ms/step - loss: 0.3025 - val_loss: 0.1330\n",
      "Epoch 51/600\n",
      "17/17 [==============================] - 0s 4ms/step - loss: 0.2800 - val_loss: 0.1299\n",
      "Epoch 52/600\n",
      "17/17 [==============================] - 0s 4ms/step - loss: 0.2948 - val_loss: 0.1270\n",
      "Epoch 53/600\n",
      "17/17 [==============================] - 0s 4ms/step - loss: 0.2976 - val_loss: 0.1249\n",
      "Epoch 54/600\n",
      "17/17 [==============================] - 0s 4ms/step - loss: 0.3060 - val_loss: 0.1241\n",
      "Epoch 55/600\n",
      "17/17 [==============================] - 0s 4ms/step - loss: 0.2805 - val_loss: 0.1227\n",
      "Epoch 56/600\n",
      "17/17 [==============================] - 0s 4ms/step - loss: 0.2950 - val_loss: 0.1204\n",
      "Epoch 57/600\n",
      "17/17 [==============================] - 0s 5ms/step - loss: 0.2796 - val_loss: 0.1181\n",
      "Epoch 58/600\n",
      "17/17 [==============================] - 0s 3ms/step - loss: 0.2911 - val_loss: 0.1159\n",
      "Epoch 59/600\n",
      "17/17 [==============================] - 0s 3ms/step - loss: 0.2976 - val_loss: 0.1154\n",
      "Epoch 60/600\n",
      "17/17 [==============================] - 0s 4ms/step - loss: 0.2839 - val_loss: 0.1136\n",
      "Epoch 61/600\n",
      "17/17 [==============================] - 0s 4ms/step - loss: 0.2706 - val_loss: 0.1114\n",
      "Epoch 62/600\n",
      "17/17 [==============================] - 0s 4ms/step - loss: 0.2779 - val_loss: 0.1104\n",
      "Epoch 63/600\n",
      "17/17 [==============================] - 0s 4ms/step - loss: 0.3007 - val_loss: 0.1094\n",
      "Epoch 64/600\n",
      "17/17 [==============================] - 0s 4ms/step - loss: 0.2573 - val_loss: 0.1086\n",
      "Epoch 65/600\n",
      "17/17 [==============================] - 0s 4ms/step - loss: 0.2342 - val_loss: 0.1058\n",
      "Epoch 66/600\n",
      "17/17 [==============================] - 0s 4ms/step - loss: 0.2701 - val_loss: 0.1035\n",
      "Epoch 67/600\n",
      "17/17 [==============================] - 0s 4ms/step - loss: 0.2756 - val_loss: 0.1021\n",
      "Epoch 68/600\n",
      "17/17 [==============================] - 0s 4ms/step - loss: 0.2998 - val_loss: 0.1021\n",
      "Epoch 69/600\n",
      "17/17 [==============================] - 0s 4ms/step - loss: 0.2737 - val_loss: 0.1028\n",
      "Epoch 70/600\n",
      "17/17 [==============================] - 0s 4ms/step - loss: 0.2922 - val_loss: 0.1037\n",
      "Epoch 71/600\n",
      "17/17 [==============================] - 0s 3ms/step - loss: 0.2974 - val_loss: 0.1032\n",
      "Epoch 72/600\n",
      "17/17 [==============================] - 0s 4ms/step - loss: 0.3243 - val_loss: 0.1045\n",
      "Epoch 73/600\n",
      "17/17 [==============================] - 0s 4ms/step - loss: 0.2651 - val_loss: 0.1035\n",
      "Epoch 74/600\n",
      "17/17 [==============================] - 0s 4ms/step - loss: 0.2492 - val_loss: 0.1018\n",
      "Epoch 75/600\n",
      "17/17 [==============================] - 0s 4ms/step - loss: 0.2679 - val_loss: 0.1009\n",
      "Epoch 76/600\n",
      "17/17 [==============================] - 0s 4ms/step - loss: 0.2725 - val_loss: 0.0997\n",
      "Epoch 77/600\n",
      "17/17 [==============================] - 0s 3ms/step - loss: 0.2837 - val_loss: 0.0993\n",
      "Epoch 78/600\n",
      "17/17 [==============================] - 0s 4ms/step - loss: 0.2421 - val_loss: 0.0978\n",
      "Epoch 79/600\n",
      "17/17 [==============================] - 0s 4ms/step - loss: 0.2848 - val_loss: 0.0968\n",
      "Epoch 80/600\n",
      "17/17 [==============================] - 0s 4ms/step - loss: 0.2860 - val_loss: 0.0963\n",
      "Epoch 81/600\n",
      "17/17 [==============================] - 0s 5ms/step - loss: 0.2969 - val_loss: 0.0964\n",
      "Epoch 82/600\n",
      "17/17 [==============================] - 0s 5ms/step - loss: 0.2683 - val_loss: 0.0960\n",
      "Epoch 83/600\n"
     ]
    },
    {
     "name": "stdout",
     "output_type": "stream",
     "text": [
      "17/17 [==============================] - 0s 4ms/step - loss: 0.2694 - val_loss: 0.0942\n",
      "Epoch 84/600\n",
      "17/17 [==============================] - 0s 4ms/step - loss: 0.2892 - val_loss: 0.0942\n",
      "Epoch 85/600\n",
      "17/17 [==============================] - 0s 4ms/step - loss: 0.2652 - val_loss: 0.0941\n",
      "Epoch 86/600\n",
      "17/17 [==============================] - 0s 4ms/step - loss: 0.2845 - val_loss: 0.0934\n",
      "Epoch 87/600\n",
      "17/17 [==============================] - 0s 4ms/step - loss: 0.2594 - val_loss: 0.0928\n",
      "Epoch 88/600\n",
      "17/17 [==============================] - 0s 4ms/step - loss: 0.2463 - val_loss: 0.0927\n",
      "Epoch 89/600\n",
      "17/17 [==============================] - 0s 4ms/step - loss: 0.2247 - val_loss: 0.0914\n",
      "Epoch 90/600\n",
      "17/17 [==============================] - 0s 4ms/step - loss: 0.2616 - val_loss: 0.0915\n",
      "Epoch 91/600\n",
      "17/17 [==============================] - 0s 4ms/step - loss: 0.2816 - val_loss: 0.0920\n",
      "Epoch 92/600\n",
      "17/17 [==============================] - 0s 4ms/step - loss: 0.2585 - val_loss: 0.0911\n",
      "Epoch 93/600\n",
      "17/17 [==============================] - 0s 4ms/step - loss: 0.2891 - val_loss: 0.0912\n",
      "Epoch 94/600\n",
      "17/17 [==============================] - 0s 3ms/step - loss: 0.2598 - val_loss: 0.0915\n",
      "Epoch 95/600\n",
      "17/17 [==============================] - 0s 4ms/step - loss: 0.2510 - val_loss: 0.0927\n",
      "Epoch 96/600\n",
      "17/17 [==============================] - 0s 4ms/step - loss: 0.2344 - val_loss: 0.0918\n",
      "Epoch 97/600\n",
      "17/17 [==============================] - 0s 4ms/step - loss: 0.2535 - val_loss: 0.0913\n",
      "Epoch 98/600\n",
      "17/17 [==============================] - 0s 4ms/step - loss: 0.2556 - val_loss: 0.0909\n",
      "Epoch 99/600\n",
      "17/17 [==============================] - 0s 4ms/step - loss: 0.2622 - val_loss: 0.0900\n",
      "Epoch 100/600\n",
      "17/17 [==============================] - 0s 4ms/step - loss: 0.2639 - val_loss: 0.0911\n",
      "Epoch 101/600\n",
      "17/17 [==============================] - 0s 5ms/step - loss: 0.2119 - val_loss: 0.0906\n",
      "Epoch 102/600\n",
      "17/17 [==============================] - 0s 5ms/step - loss: 0.2778 - val_loss: 0.0900\n",
      "Epoch 103/600\n",
      "17/17 [==============================] - 0s 4ms/step - loss: 0.2479 - val_loss: 0.0894\n",
      "Epoch 104/600\n",
      "17/17 [==============================] - 0s 4ms/step - loss: 0.2335 - val_loss: 0.0884\n",
      "Epoch 105/600\n",
      "17/17 [==============================] - 0s 4ms/step - loss: 0.2657 - val_loss: 0.0882\n",
      "Epoch 106/600\n",
      "17/17 [==============================] - 0s 4ms/step - loss: 0.2179 - val_loss: 0.0869\n",
      "Epoch 107/600\n",
      "17/17 [==============================] - 0s 4ms/step - loss: 0.2364 - val_loss: 0.0849\n",
      "Epoch 108/600\n",
      "17/17 [==============================] - 0s 4ms/step - loss: 0.2314 - val_loss: 0.0829\n",
      "Epoch 109/600\n",
      "17/17 [==============================] - 0s 4ms/step - loss: 0.2772 - val_loss: 0.0826\n",
      "Epoch 110/600\n",
      "17/17 [==============================] - 0s 4ms/step - loss: 0.2326 - val_loss: 0.0829\n",
      "Epoch 111/600\n",
      "17/17 [==============================] - 0s 4ms/step - loss: 0.2552 - val_loss: 0.0824\n",
      "Epoch 112/600\n",
      "17/17 [==============================] - 0s 4ms/step - loss: 0.2321 - val_loss: 0.0820\n",
      "Epoch 113/600\n",
      "17/17 [==============================] - 0s 4ms/step - loss: 0.2526 - val_loss: 0.0819\n",
      "Epoch 114/600\n",
      "17/17 [==============================] - 0s 4ms/step - loss: 0.2441 - val_loss: 0.0816\n",
      "Epoch 115/600\n",
      "17/17 [==============================] - 0s 4ms/step - loss: 0.2461 - val_loss: 0.0813\n",
      "Epoch 116/600\n",
      "17/17 [==============================] - 0s 4ms/step - loss: 0.2408 - val_loss: 0.0805\n",
      "Epoch 117/600\n",
      "17/17 [==============================] - 0s 4ms/step - loss: 0.2630 - val_loss: 0.0805\n",
      "Epoch 118/600\n",
      "17/17 [==============================] - 0s 4ms/step - loss: 0.2035 - val_loss: 0.0805\n",
      "Epoch 119/600\n",
      "17/17 [==============================] - 0s 4ms/step - loss: 0.2441 - val_loss: 0.0805\n",
      "Epoch 120/600\n",
      "17/17 [==============================] - 0s 5ms/step - loss: 0.2770 - val_loss: 0.0814\n",
      "Epoch 121/600\n",
      "17/17 [==============================] - 0s 4ms/step - loss: 0.2515 - val_loss: 0.0812\n",
      "Epoch 122/600\n",
      "17/17 [==============================] - 0s 5ms/step - loss: 0.2308 - val_loss: 0.0808\n",
      "Epoch 123/600\n",
      "17/17 [==============================] - 0s 4ms/step - loss: 0.2448 - val_loss: 0.0811\n",
      "Epoch 124/600\n",
      "17/17 [==============================] - 0s 4ms/step - loss: 0.2199 - val_loss: 0.0802\n",
      "Epoch 125/600\n",
      "17/17 [==============================] - 0s 4ms/step - loss: 0.2340 - val_loss: 0.0800\n",
      "Epoch 126/600\n",
      "17/17 [==============================] - 0s 4ms/step - loss: 0.2302 - val_loss: 0.0795\n",
      "Epoch 127/600\n",
      "17/17 [==============================] - 0s 4ms/step - loss: 0.2590 - val_loss: 0.0793\n",
      "Epoch 128/600\n",
      "17/17 [==============================] - 0s 4ms/step - loss: 0.2465 - val_loss: 0.0793\n",
      "Epoch 129/600\n",
      "17/17 [==============================] - 0s 4ms/step - loss: 0.2338 - val_loss: 0.0787\n",
      "Epoch 130/600\n",
      "17/17 [==============================] - 0s 4ms/step - loss: 0.2259 - val_loss: 0.0785\n",
      "Epoch 131/600\n",
      "17/17 [==============================] - 0s 4ms/step - loss: 0.2598 - val_loss: 0.0787\n",
      "Epoch 132/600\n",
      "17/17 [==============================] - 0s 4ms/step - loss: 0.2387 - val_loss: 0.0795\n",
      "Epoch 133/600\n",
      "17/17 [==============================] - 0s 4ms/step - loss: 0.2047 - val_loss: 0.0783\n",
      "Epoch 134/600\n",
      "17/17 [==============================] - 0s 4ms/step - loss: 0.2446 - val_loss: 0.0783\n",
      "Epoch 135/600\n",
      "17/17 [==============================] - 0s 4ms/step - loss: 0.2241 - val_loss: 0.0775\n",
      "Epoch 136/600\n",
      "17/17 [==============================] - 0s 4ms/step - loss: 0.2308 - val_loss: 0.0766\n",
      "Epoch 137/600\n",
      "17/17 [==============================] - 0s 4ms/step - loss: 0.2320 - val_loss: 0.0762\n",
      "Epoch 138/600\n",
      "17/17 [==============================] - 0s 4ms/step - loss: 0.2553 - val_loss: 0.0772\n",
      "Epoch 139/600\n",
      "17/17 [==============================] - 0s 4ms/step - loss: 0.2393 - val_loss: 0.0775\n",
      "Epoch 140/600\n",
      "17/17 [==============================] - 0s 4ms/step - loss: 0.2465 - val_loss: 0.0785\n",
      "Epoch 141/600\n",
      "17/17 [==============================] - 0s 4ms/step - loss: 0.2242 - val_loss: 0.0791\n",
      "Epoch 142/600\n",
      "17/17 [==============================] - 0s 4ms/step - loss: 0.2447 - val_loss: 0.0782\n",
      "Epoch 143/600\n",
      "17/17 [==============================] - 0s 4ms/step - loss: 0.2273 - val_loss: 0.0771\n",
      "Epoch 144/600\n",
      "17/17 [==============================] - 0s 4ms/step - loss: 0.2481 - val_loss: 0.0764\n",
      "Epoch 145/600\n",
      "17/17 [==============================] - 0s 4ms/step - loss: 0.2214 - val_loss: 0.0763\n",
      "Epoch 146/600\n",
      "17/17 [==============================] - 0s 3ms/step - loss: 0.2659 - val_loss: 0.0770\n",
      "Epoch 147/600\n",
      "17/17 [==============================] - 0s 4ms/step - loss: 0.2602 - val_loss: 0.0774\n",
      "Epoch 148/600\n",
      "17/17 [==============================] - 0s 4ms/step - loss: 0.2315 - val_loss: 0.0769\n",
      "Epoch 149/600\n",
      "17/17 [==============================] - 0s 3ms/step - loss: 0.2249 - val_loss: 0.0766\n",
      "Epoch 150/600\n",
      "17/17 [==============================] - 0s 3ms/step - loss: 0.2159 - val_loss: 0.0765\n",
      "Epoch 151/600\n",
      "17/17 [==============================] - 0s 4ms/step - loss: 0.2317 - val_loss: 0.0753\n",
      "Epoch 152/600\n",
      "17/17 [==============================] - 0s 4ms/step - loss: 0.2243 - val_loss: 0.0750\n",
      "Epoch 153/600\n",
      "17/17 [==============================] - 0s 4ms/step - loss: 0.2376 - val_loss: 0.0750\n",
      "Epoch 154/600\n",
      "17/17 [==============================] - 0s 4ms/step - loss: 0.2070 - val_loss: 0.0743\n",
      "Epoch 155/600\n",
      "17/17 [==============================] - 0s 3ms/step - loss: 0.2067 - val_loss: 0.0739\n",
      "Epoch 156/600\n",
      "17/17 [==============================] - 0s 4ms/step - loss: 0.2168 - val_loss: 0.0738\n",
      "Epoch 157/600\n",
      "17/17 [==============================] - 0s 4ms/step - loss: 0.2277 - val_loss: 0.0741\n",
      "Epoch 158/600\n",
      "17/17 [==============================] - 0s 4ms/step - loss: 0.2394 - val_loss: 0.0746\n",
      "Epoch 159/600\n",
      "17/17 [==============================] - 0s 4ms/step - loss: 0.2310 - val_loss: 0.0748\n",
      "Epoch 160/600\n",
      "17/17 [==============================] - 0s 4ms/step - loss: 0.2711 - val_loss: 0.0744\n",
      "Epoch 161/600\n",
      "17/17 [==============================] - 0s 4ms/step - loss: 0.2479 - val_loss: 0.0743\n",
      "Epoch 162/600\n",
      "17/17 [==============================] - 0s 4ms/step - loss: 0.2216 - val_loss: 0.0742\n",
      "Epoch 163/600\n",
      "17/17 [==============================] - 0s 4ms/step - loss: 0.2263 - val_loss: 0.0746\n",
      "Epoch 164/600\n"
     ]
    },
    {
     "name": "stdout",
     "output_type": "stream",
     "text": [
      "17/17 [==============================] - 0s 4ms/step - loss: 0.2116 - val_loss: 0.0753\n",
      "Epoch 165/600\n",
      "17/17 [==============================] - 0s 4ms/step - loss: 0.2230 - val_loss: 0.0737\n",
      "Epoch 166/600\n",
      "17/17 [==============================] - 0s 4ms/step - loss: 0.2329 - val_loss: 0.0737\n",
      "Epoch 167/600\n",
      "17/17 [==============================] - 0s 4ms/step - loss: 0.2382 - val_loss: 0.0731\n",
      "Epoch 168/600\n",
      "17/17 [==============================] - 0s 4ms/step - loss: 0.2267 - val_loss: 0.0731\n",
      "Epoch 169/600\n",
      "17/17 [==============================] - 0s 4ms/step - loss: 0.2366 - val_loss: 0.0738\n",
      "Epoch 170/600\n",
      "17/17 [==============================] - 0s 4ms/step - loss: 0.2459 - val_loss: 0.0741\n",
      "Epoch 171/600\n",
      "17/17 [==============================] - 0s 4ms/step - loss: 0.2142 - val_loss: 0.0740\n",
      "Epoch 172/600\n",
      "17/17 [==============================] - 0s 4ms/step - loss: 0.2366 - val_loss: 0.0733\n",
      "Epoch 173/600\n",
      "17/17 [==============================] - 0s 4ms/step - loss: 0.2277 - val_loss: 0.0730\n",
      "Epoch 174/600\n",
      "17/17 [==============================] - 0s 3ms/step - loss: 0.2064 - val_loss: 0.0725\n",
      "Epoch 175/600\n",
      "17/17 [==============================] - 0s 4ms/step - loss: 0.2138 - val_loss: 0.0728\n",
      "Epoch 176/600\n",
      "17/17 [==============================] - 0s 4ms/step - loss: 0.2380 - val_loss: 0.0725\n",
      "Epoch 177/600\n",
      "17/17 [==============================] - 0s 4ms/step - loss: 0.1918 - val_loss: 0.0721\n",
      "Epoch 178/600\n",
      "17/17 [==============================] - 0s 4ms/step - loss: 0.2478 - val_loss: 0.0721\n",
      "Epoch 179/600\n",
      "17/17 [==============================] - 0s 4ms/step - loss: 0.2650 - val_loss: 0.0738\n",
      "Epoch 180/600\n",
      "17/17 [==============================] - 0s 4ms/step - loss: 0.2181 - val_loss: 0.0772\n",
      "Epoch 181/600\n",
      "17/17 [==============================] - 0s 4ms/step - loss: 0.2422 - val_loss: 0.0788\n",
      "Epoch 182/600\n",
      "17/17 [==============================] - 0s 4ms/step - loss: 0.2442 - val_loss: 0.0770\n",
      "Epoch 183/600\n",
      "17/17 [==============================] - 0s 4ms/step - loss: 0.2251 - val_loss: 0.0756\n",
      "Epoch 184/600\n",
      "17/17 [==============================] - 0s 4ms/step - loss: 0.2119 - val_loss: 0.0747\n",
      "Epoch 185/600\n",
      "17/17 [==============================] - 0s 4ms/step - loss: 0.2120 - val_loss: 0.0736\n",
      "Epoch 186/600\n",
      "17/17 [==============================] - 0s 4ms/step - loss: 0.2395 - val_loss: 0.0730\n",
      "Epoch 187/600\n",
      "17/17 [==============================] - 0s 4ms/step - loss: 0.2214 - val_loss: 0.0730\n",
      "Epoch 188/600\n",
      "17/17 [==============================] - 0s 4ms/step - loss: 0.2012 - val_loss: 0.0727\n",
      "Epoch 189/600\n",
      "17/17 [==============================] - 0s 3ms/step - loss: 0.2188 - val_loss: 0.0719\n",
      "Epoch 190/600\n",
      "17/17 [==============================] - 0s 4ms/step - loss: 0.2100 - val_loss: 0.0718\n",
      "Epoch 191/600\n",
      "17/17 [==============================] - 0s 4ms/step - loss: 0.2128 - val_loss: 0.0721\n",
      "Epoch 192/600\n",
      "17/17 [==============================] - 0s 4ms/step - loss: 0.2257 - val_loss: 0.0733\n",
      "Epoch 193/600\n",
      "17/17 [==============================] - 0s 3ms/step - loss: 0.2273 - val_loss: 0.0725\n",
      "Epoch 194/600\n",
      "17/17 [==============================] - 0s 4ms/step - loss: 0.2502 - val_loss: 0.0730\n",
      "Epoch 195/600\n",
      "17/17 [==============================] - 0s 4ms/step - loss: 0.2326 - val_loss: 0.0722\n",
      "Epoch 196/600\n",
      "17/17 [==============================] - 0s 4ms/step - loss: 0.2018 - val_loss: 0.0722\n",
      "Epoch 197/600\n",
      "17/17 [==============================] - 0s 4ms/step - loss: 0.2112 - val_loss: 0.0717\n",
      "Epoch 198/600\n",
      "17/17 [==============================] - 0s 4ms/step - loss: 0.2169 - val_loss: 0.0716\n",
      "Epoch 199/600\n",
      "17/17 [==============================] - 0s 3ms/step - loss: 0.2053 - val_loss: 0.0713\n",
      "Epoch 200/600\n",
      "17/17 [==============================] - 0s 4ms/step - loss: 0.2013 - val_loss: 0.0708\n",
      "Epoch 201/600\n",
      "17/17 [==============================] - 0s 4ms/step - loss: 0.2373 - val_loss: 0.0714\n",
      "Epoch 202/600\n",
      "17/17 [==============================] - 0s 4ms/step - loss: 0.2245 - val_loss: 0.0719\n",
      "Epoch 203/600\n",
      "17/17 [==============================] - 0s 4ms/step - loss: 0.1975 - val_loss: 0.0714\n",
      "Epoch 204/600\n",
      "17/17 [==============================] - 0s 4ms/step - loss: 0.2187 - val_loss: 0.0715\n",
      "Epoch 205/600\n",
      "17/17 [==============================] - 0s 4ms/step - loss: 0.2073 - val_loss: 0.0713\n",
      "Epoch 206/600\n",
      "17/17 [==============================] - 0s 4ms/step - loss: 0.2315 - val_loss: 0.0705\n",
      "Epoch 207/600\n",
      "17/17 [==============================] - 0s 3ms/step - loss: 0.2021 - val_loss: 0.0700\n",
      "Epoch 208/600\n",
      "17/17 [==============================] - 0s 4ms/step - loss: 0.2049 - val_loss: 0.0696\n",
      "Epoch 209/600\n",
      "17/17 [==============================] - 0s 4ms/step - loss: 0.2315 - val_loss: 0.0699\n",
      "Epoch 210/600\n",
      "17/17 [==============================] - 0s 3ms/step - loss: 0.2551 - val_loss: 0.0705\n",
      "Epoch 211/600\n",
      "17/17 [==============================] - 0s 4ms/step - loss: 0.2289 - val_loss: 0.0700\n",
      "Epoch 212/600\n",
      "17/17 [==============================] - 0s 4ms/step - loss: 0.2060 - val_loss: 0.0708\n",
      "Epoch 213/600\n",
      "17/17 [==============================] - 0s 4ms/step - loss: 0.2207 - val_loss: 0.0708\n",
      "Epoch 214/600\n",
      "17/17 [==============================] - 0s 4ms/step - loss: 0.2026 - val_loss: 0.0706\n",
      "Epoch 215/600\n",
      "17/17 [==============================] - 0s 4ms/step - loss: 0.2634 - val_loss: 0.0713\n",
      "Epoch 216/600\n",
      "17/17 [==============================] - 0s 4ms/step - loss: 0.2037 - val_loss: 0.0713\n",
      "Epoch 217/600\n",
      "17/17 [==============================] - 0s 4ms/step - loss: 0.2481 - val_loss: 0.0720\n",
      "Epoch 218/600\n",
      "17/17 [==============================] - 0s 4ms/step - loss: 0.1947 - val_loss: 0.0709\n",
      "Epoch 219/600\n",
      "17/17 [==============================] - 0s 5ms/step - loss: 0.1970 - val_loss: 0.0700\n",
      "Epoch 220/600\n",
      "17/17 [==============================] - 0s 5ms/step - loss: 0.2118 - val_loss: 0.0698\n",
      "Epoch 221/600\n",
      "17/17 [==============================] - 0s 4ms/step - loss: 0.2371 - val_loss: 0.0703\n",
      "Epoch 222/600\n",
      "17/17 [==============================] - 0s 5ms/step - loss: 0.1915 - val_loss: 0.0703\n",
      "Epoch 223/600\n",
      "17/17 [==============================] - 0s 5ms/step - loss: 0.2415 - val_loss: 0.0704\n",
      "Epoch 224/600\n",
      "17/17 [==============================] - 0s 5ms/step - loss: 0.2288 - val_loss: 0.0705\n",
      "Epoch 225/600\n",
      "17/17 [==============================] - 0s 5ms/step - loss: 0.2381 - val_loss: 0.0717\n",
      "Epoch 226/600\n",
      "17/17 [==============================] - 0s 5ms/step - loss: 0.2543 - val_loss: 0.0722\n",
      "Epoch 227/600\n",
      "17/17 [==============================] - 0s 5ms/step - loss: 0.2298 - val_loss: 0.0713\n",
      "Epoch 228/600\n",
      "17/17 [==============================] - 0s 5ms/step - loss: 0.2015 - val_loss: 0.0707\n",
      "Epoch 229/600\n",
      "17/17 [==============================] - 0s 5ms/step - loss: 0.2190 - val_loss: 0.0704\n",
      "Epoch 230/600\n",
      "17/17 [==============================] - 0s 5ms/step - loss: 0.2276 - val_loss: 0.0705\n",
      "Epoch 231/600\n",
      "17/17 [==============================] - 0s 5ms/step - loss: 0.2329 - val_loss: 0.0704\n",
      "Epoch 232/600\n",
      "17/17 [==============================] - 0s 5ms/step - loss: 0.2430 - val_loss: 0.0706\n",
      "Epoch 233/600\n",
      "17/17 [==============================] - 0s 5ms/step - loss: 0.2310 - val_loss: 0.0718\n",
      "Epoch 233: early stopping\n"
     ]
    },
    {
     "data": {
      "text/plain": [
       "<keras.callbacks.History at 0x18bdbb16b20>"
      ]
     },
     "execution_count": 85,
     "metadata": {},
     "output_type": "execute_result"
    }
   ],
   "source": [
    "model_2.fit(x=X_train, \n",
    "          y=y_train, \n",
    "          epochs=600,\n",
    "          validation_data=(X_test, y_test), verbose=1,\n",
    "          callbacks=[early_stop]\n",
    "          )"
   ]
  },
  {
   "cell_type": "code",
   "execution_count": 86,
   "id": "872d8369",
   "metadata": {},
   "outputs": [
    {
     "data": {
      "text/plain": [
       "<AxesSubplot:>"
      ]
     },
     "execution_count": 86,
     "metadata": {},
     "output_type": "execute_result"
    },
    {
     "data": {
      "image/png": "[encoded data removed]",
      "text/plain": [
       "<Figure size 640x480 with 1 Axes>"
      ]
     },
     "metadata": {},
     "output_type": "display_data"
    }
   ],
   "source": [
    "model_loss = pd.DataFrame(model_2.history.history)\n",
    "model_loss.plot()"
   ]
  },
  {
   "cell_type": "code",
   "execution_count": 87,
   "id": "0eb8b9b7",
   "metadata": {},
   "outputs": [
    {
     "name": "stdout",
     "output_type": "stream",
     "text": [
      "The maximum validation loss is  0.733147382736206 \n",
      "The minimum validation loss is 0.06957211345434189\n"
     ]
    }
   ],
   "source": [
    "l=list(model_loss['val_loss'])\n",
    "print(\"The maximum validation loss is \",max(l),\"\\nThe minimum validation loss is\",min(l))"
   ]
  },
  {
   "cell_type": "code",
   "execution_count": 88,
   "id": "5817c77d",
   "metadata": {},
   "outputs": [
    {
     "name": "stdout",
     "output_type": "stream",
     "text": [
      "6/6 [==============================] - 0s 1ms/step\n"
     ]
    }
   ],
   "source": [
    "predictions=(model_2.predict(X_test) > 0.5).astype(\"int32\")"
   ]
  },
  {
   "cell_type": "code",
   "execution_count": 92,
   "id": "ceca0a36",
   "metadata": {},
   "outputs": [
    {
     "name": "stdout",
     "output_type": "stream",
     "text": [
      "              precision    recall  f1-score   support\n",
      "\n",
      "           0       0.97      0.99      0.98       105\n",
      "           1       0.99      0.96      0.97        70\n",
      "\n",
      "    accuracy                           0.98       175\n",
      "   macro avg       0.98      0.97      0.98       175\n",
      "weighted avg       0.98      0.98      0.98       175\n",
      "\n"
     ]
    }
   ],
   "source": [
    "print(classification_report(predictions,y_test))"
   ]
  },
  {
   "cell_type": "code",
   "execution_count": 95,
   "id": "67b6aa42",
   "metadata": {},
   "outputs": [],
   "source": [
    "accuracy['ANN']=accuracy_score(y_test,predictions)"
   ]
  },
  {
   "cell_type": "code",
   "execution_count": 96,
   "id": "48ca2223",
   "metadata": {},
   "outputs": [
    {
     "data": {
      "text/plain": [
       "{'Logistic Regression': 0.9771428571428571,\n",
       " 'KNN': 0.9257142857142857,\n",
       " 'Naive Bayes': 0.9542857142857143,\n",
       " 'Decision Tree': 0.9257142857142857,\n",
       " 'Random Forest': 0.9771428571428571,\n",
       " 'AdaBoosting': 0.9428571428571428,\n",
       " 'Bagging': 0.9657142857142857,\n",
       " 'ANN': 0.9771428571428571}"
      ]
     },
     "execution_count": 96,
     "metadata": {},
     "output_type": "execute_result"
    }
   ],
   "source": [
    "accuracy"
   ]
  },
  {
   "cell_type": "code",
   "execution_count": 97,
   "id": "e1bb3510",
   "metadata": {},
   "outputs": [],
   "source": [
    "color=['blue','black','yellow','green','red','pink','violet','gold']"
   ]
  },
  {
   "cell_type": "code",
   "execution_count": 98,
   "id": "6db42693",
   "metadata": {},
   "outputs": [
    {
     "data": {
      "text/plain": [
       "<BarContainer object of 8 artists>"
      ]
     },
     "execution_count": 98,
     "metadata": {},
     "output_type": "execute_result"
    },
    {
     "data": {
      "image/png": "[encoded data removed]",
      "text/plain": [
       "<Figure size 1800x600 with 1 Axes>"
      ]
     },
     "metadata": {},
     "output_type": "display_data"
    }
   ],
   "source": [
    "plt.figure(figsize=(18,6))\n",
    "plt.bar(x=accuracy.keys(),height=accuracy.values(),color=color)"
   ]
  },
  {
   "cell_type": "markdown",
   "id": "669d311c",
   "metadata": {},
   "source": [
    "### Save the model in JSON format and weights in h5 format"
   ]
  },
  {
   "cell_type": "code",
   "execution_count": 115,
   "id": "cb6d53fd",
   "metadata": {},
   "outputs": [],
   "source": [
    "model_json=model_2.to_json()"
   ]
  },
  {
   "cell_type": "code",
   "execution_count": 116,
   "id": "745348ea",
   "metadata": {},
   "outputs": [],
   "source": [
    "with open(\"model_ann_new.json\",\"w\") as json_file:\n",
    "    json_file.write(model_json)"
   ]
  },
  {
   "cell_type": "code",
   "execution_count": 117,
   "id": "7bb3afc4",
   "metadata": {},
   "outputs": [],
   "source": [
    "model_2.save_weights(\"model_ann_new_weights.h5\")"
   ]
  },
  {
   "cell_type": "markdown",
   "id": "cda1c96b",
   "metadata": {},
   "source": [
    "### Predict the new feature target value"
   ]
  },
  {
   "cell_type": "code",
   "execution_count": 106,
   "id": "377b4701",
   "metadata": {},
   "outputs": [],
   "source": [
    "val=list(data.iloc(0)[0])\n",
    "l=np.array(val[:9])"
   ]
  },
  {
   "cell_type": "code",
   "execution_count": 108,
   "id": "ac826911",
   "metadata": {},
   "outputs": [],
   "source": [
    "l=scaler.transform([l])\n"
   ]
  },
  {
   "cell_type": "code",
   "execution_count": 109,
   "id": "6218aae4",
   "metadata": {},
   "outputs": [
    {
     "name": "stdout",
     "output_type": "stream",
     "text": [
      "1/1 [==============================] - 0s 87ms/step\n"
     ]
    }
   ],
   "source": [
    "pred=(model_2.predict(l)>0.5).astype(\"int32\")"
   ]
  },
  {
   "cell_type": "code",
   "execution_count": 111,
   "id": "7224c3c3",
   "metadata": {},
   "outputs": [
    {
     "data": {
      "text/plain": [
       "array([[0]])"
      ]
     },
     "execution_count": 111,
     "metadata": {},
     "output_type": "execute_result"
    }
   ],
   "source": [
    "pred"
   ]
  },
  {
   "cell_type": "code",
   "execution_count": 185,
   "id": "83b17ac9",
   "metadata": {},
   "outputs": [
    {
     "data": {
      "text/plain": [
       "Index(['Class', 'Mitoses', 'Normal Nucleoli', 'Bland Chromatin', 'Bare Nuclei',\n",
       "       'Single Epithelial Cell Size', 'Marginal Adhesion',\n",
       "       'Uniformity of Cell Shape', 'Uniformity of Cell Size',\n",
       "       'Clump Thickness'],\n",
       "      dtype='object')"
      ]
     },
     "execution_count": 185,
     "metadata": {},
     "output_type": "execute_result"
    }
   ],
   "source": [
    "data.columns[::-1]"
   ]
  },
  {
   "cell_type": "code",
   "execution_count": 99,
   "id": "5f22e420",
   "metadata": {},
   "outputs": [],
   "source": [
    "new_feature=[5,1,2,2,5,3,3,2,1]"
   ]
  },
  {
   "cell_type": "code",
   "execution_count": 100,
   "id": "152a5428",
   "metadata": {},
   "outputs": [
    {
     "data": {
      "text/plain": [
       "[5, 1, 2, 2, 5, 3, 3, 2, 1]"
      ]
     },
     "execution_count": 100,
     "metadata": {},
     "output_type": "execute_result"
    }
   ],
   "source": [
    "new_feature[:9]"
   ]
  },
  {
   "cell_type": "code",
   "execution_count": 187,
   "id": "b17253d7",
   "metadata": {},
   "outputs": [],
   "source": [
    "new_feature=np.array(new_feature)"
   ]
  },
  {
   "cell_type": "code",
   "execution_count": 188,
   "id": "8739209b",
   "metadata": {},
   "outputs": [],
   "source": [
    "new_feature=scaler.transform([new_feature])"
   ]
  },
  {
   "cell_type": "code",
   "execution_count": 190,
   "id": "56e6b2c0",
   "metadata": {},
   "outputs": [
    {
     "data": {
      "text/plain": [
       "array([[0.44444444, 0.        , 0.11111111, 0.11111111, 0.44444444,\n",
       "        0.22222222, 0.22222222, 0.11111111, 0.        ]])"
      ]
     },
     "execution_count": 190,
     "metadata": {},
     "output_type": "execute_result"
    }
   ],
   "source": [
    "new_feature"
   ]
  },
  {
   "cell_type": "code",
   "execution_count": 191,
   "id": "63b6eecc",
   "metadata": {},
   "outputs": [
    {
     "name": "stdout",
     "output_type": "stream",
     "text": [
      "1/1 [==============================] - 0s 37ms/step\n"
     ]
    }
   ],
   "source": [
    "pred=(model_2.predict(new_feature)>0.5).astype(\"int32\")"
   ]
  },
  {
   "cell_type": "code",
   "execution_count": 193,
   "id": "c8f5568e",
   "metadata": {},
   "outputs": [
    {
     "data": {
      "text/plain": [
       "0"
      ]
     },
     "execution_count": 193,
     "metadata": {},
     "output_type": "execute_result"
    }
   ],
   "source": [
    "pred[0][0]"
   ]
  },
  {
   "cell_type": "code",
   "execution_count": 194,
   "id": "0c80c174",
   "metadata": {},
   "outputs": [
    {
     "name": "stdout",
     "output_type": "stream",
     "text": [
      "1/1 [==============================] - 0s 43ms/step\n"
     ]
    }
   ],
   "source": [
    "pred_mod=(model.predict(new_feature)>0.5).astype(\"int32\")"
   ]
  },
  {
   "cell_type": "code",
   "execution_count": 196,
   "id": "b9e7d5ee",
   "metadata": {},
   "outputs": [
    {
     "data": {
      "text/plain": [
       "0"
      ]
     },
     "execution_count": 196,
     "metadata": {},
     "output_type": "execute_result"
    }
   ],
   "source": [
    "pred_mod[0][0]"
   ]
  }
 ],
 "metadata": {
  "kernelspec": {
   "display_name": "Python 3 (ipykernel)",
   "language": "python",
   "name": "python3"
  },
  "language_info": {
   "codemirror_mode": {
    "name": "ipython",
    "version": 3
   },
   "file_extension": ".py",
   "mimetype": "text/x-python",
   "name": "python",
   "nbconvert_exporter": "python",
   "pygments_lexer": "ipython3",
   "version": "3.9.13"
  }
 },
 "nbformat": 4,
 "nbformat_minor": 5
}
